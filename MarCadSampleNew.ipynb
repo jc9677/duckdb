{
 "cells": [
  {
   "cell_type": "code",
   "execution_count": 1,
   "metadata": {},
   "outputs": [],
   "source": [
    "from ddb_spatial_tools import *\n",
    "import duckdb as ddb\n",
    "\n",
    "ddb.load_extension('spatial')"
   ]
  },
  {
   "cell_type": "code",
   "execution_count": 22,
   "metadata": {},
   "outputs": [
    {
     "name": "stdout",
     "output_type": "stream",
     "text": [
      "MMSI, BaseDateTime, LAT, LON, SOG, COG, Heading, VesselName, IMO, CallSign, VesselType, Status, Length, Width, Draft, Cargo, TransceiverClass\n"
     ]
    }
   ],
   "source": [
    "#ddb.sql(\"SELECT * FROM AIS_2023_06_30.csv\")\n",
    "\n",
    "#ddb.sql(\"SELECT * FROM AIS_2023_06_30.csv\").columns\n",
    "\n",
    "print(*ddb.sql(\"SELECT * FROM AIS_2023_06_30.csv\").columns, sep = \", \")\n",
    "\n",
    "#ddb.sql(\"SELECT MMSI, LON, LAT FROM AIS_2023_06_30.csv\")\n"
   ]
  },
  {
   "cell_type": "code",
   "execution_count": 2,
   "metadata": {},
   "outputs": [
    {
     "name": "stdout",
     "output_type": "stream",
     "text": [
      "AIS_2023_06_30.parquet\n"
     ]
    }
   ],
   "source": [
    "csv = 'AIS_2023_06_30.csv'\n",
    "parquet_file = local_MarCad_csv_to_parquet(csv)\n",
    "print(parquet_file)"
   ]
  },
  {
   "cell_type": "code",
   "execution_count": 6,
   "metadata": {},
   "outputs": [
    {
     "data": {
      "text/plain": [
       "┌───────────┬─────────────────────────────┐\n",
       "│   MMSI    │            geom             │\n",
       "│   int64   │          geometry           │\n",
       "├───────────┼─────────────────────────────┤\n",
       "│ 367753210 │ POINT (-90.89974 30.07433)  │\n",
       "│ 366904350 │ POINT (-88.50795 33.9943)   │\n",
       "│ 367352240 │ POINT (-91.19435 30.44713)  │\n",
       "│ 367390870 │ POINT (-88.31253 37.04998)  │\n",
       "│ 368230820 │ POINT (-73.41012 39.4023)   │\n",
       "│ 367633000 │ POINT (-93.3187 30.1758)    │\n",
       "│ 416482000 │ POINT (-122.331 37.8123)    │\n",
       "│ 368129650 │ POINT (-91.10607 29.64541)  │\n",
       "│ 367170860 │ POINT (-123.91407 46.16842) │\n",
       "│ 367057840 │ POINT (-90.1721 35.11787)   │\n",
       "│     ·     │             ·               │\n",
       "│     ·     │             ·               │\n",
       "│     ·     │             ·               │\n",
       "│ 367524710 │ POINT (-90.13604 29.91224)  │\n",
       "│ 368101240 │ POINT (-122.39463 47.62898) │\n",
       "│ 367733210 │ POINT (-71.31788 41.4849)   │\n",
       "│ 338348913 │ POINT (-74.44012 39.59096)  │\n",
       "│ 367718380 │ POINT (-122.33321 47.629)   │\n",
       "│ 338420546 │ POINT (-71.36558 41.49612)  │\n",
       "│ 316003285 │ POINT (-80.19474 42.78171)  │\n",
       "│ 219312000 │ POINT (-122.56777 48.60236) │\n",
       "│ 303879000 │ POINT (-117.13429 32.68455) │\n",
       "│ 367782690 │ POINT (-74.01764 40.71718)  │\n",
       "├───────────┴─────────────────────────────┤\n",
       "│      ? rows (>9999 rows, 20 shown)      │\n",
       "└─────────────────────────────────────────┘"
      ]
     },
     "execution_count": 6,
     "metadata": {},
     "output_type": "execute_result"
    }
   ],
   "source": [
    "ddb.sql(f\"SELECT MMSI, ST_GeomFromWKB(geometry) AS geom FROM {parquet_file}\")"
   ]
  }
 ],
 "metadata": {
  "kernelspec": {
   "display_name": "duckdb",
   "language": "python",
   "name": "python3"
  },
  "language_info": {
   "codemirror_mode": {
    "name": "ipython",
    "version": 3
   },
   "file_extension": ".py",
   "mimetype": "text/x-python",
   "name": "python",
   "nbconvert_exporter": "python",
   "pygments_lexer": "ipython3",
   "version": "3.10.12"
  },
  "orig_nbformat": 4
 },
 "nbformat": 4,
 "nbformat_minor": 2
}
