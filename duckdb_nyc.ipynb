{
 "cells": [
  {
   "cell_type": "code",
   "execution_count": 2,
   "metadata": {},
   "outputs": [],
   "source": [
    "import duckdb as ddb\n",
    "import pandas as pd\n",
    "import geopandas as gpd\n",
    "\n",
    "ddb.load_extension('spatial')\n"
   ]
  },
  {
   "cell_type": "code",
   "execution_count": 3,
   "metadata": {},
   "outputs": [],
   "source": [
    "optionA = ddb.sql('SELECT time_of_trip,start_lat,start_lng FROM \"NYC/other-Lyft_B02510.csv\"').df()"
   ]
  },
  {
   "cell_type": "code",
   "execution_count": 4,
   "metadata": {},
   "outputs": [
    {
     "data": {
      "text/plain": [
       "pandas.core.frame.DataFrame"
      ]
     },
     "execution_count": 4,
     "metadata": {},
     "output_type": "execute_result"
    }
   ],
   "source": [
    "type(optionA)"
   ]
  },
  {
   "cell_type": "code",
   "execution_count": 5,
   "metadata": {},
   "outputs": [],
   "source": [
    "#ddb.sql('CREATE TABLE nyc AS SELECT time_of_trip,start_lat,start_lng FROM \"NYC/other-Lyft_B02510.csv\"')"
   ]
  },
  {
   "cell_type": "code",
   "execution_count": 6,
   "metadata": {},
   "outputs": [],
   "source": [
    "# Drop the nyc table if it exists\n",
    "#ddb.sql('DROP TABLE IF EXISTS nyc')"
   ]
  },
  {
   "cell_type": "code",
   "execution_count": 7,
   "metadata": {},
   "outputs": [
    {
     "data": {
      "text/html": [
       "<div>\n",
       "<style scoped>\n",
       "    .dataframe tbody tr th:only-of-type {\n",
       "        vertical-align: middle;\n",
       "    }\n",
       "\n",
       "    .dataframe tbody tr th {\n",
       "        vertical-align: top;\n",
       "    }\n",
       "\n",
       "    .dataframe thead th {\n",
       "        text-align: right;\n",
       "    }\n",
       "</style>\n",
       "<table border=\"1\" class=\"dataframe\">\n",
       "  <thead>\n",
       "    <tr style=\"text-align: right;\">\n",
       "      <th></th>\n",
       "      <th>time_of_trip</th>\n",
       "      <th>start_lat</th>\n",
       "      <th>start_lng</th>\n",
       "    </tr>\n",
       "  </thead>\n",
       "  <tbody>\n",
       "    <tr>\n",
       "      <th>0</th>\n",
       "      <td>9/4/2014 9:51</td>\n",
       "      <td>40.64705</td>\n",
       "      <td>-73.77988</td>\n",
       "    </tr>\n",
       "    <tr>\n",
       "      <th>1</th>\n",
       "      <td>8/27/2014 21:13</td>\n",
       "      <td>40.74916</td>\n",
       "      <td>-73.98373</td>\n",
       "    </tr>\n",
       "    <tr>\n",
       "      <th>2</th>\n",
       "      <td>9/4/2014 14:16</td>\n",
       "      <td>40.64065</td>\n",
       "      <td>-73.97594</td>\n",
       "    </tr>\n",
       "    <tr>\n",
       "      <th>3</th>\n",
       "      <td>9/4/2014 16:08</td>\n",
       "      <td>40.75002</td>\n",
       "      <td>-73.99514</td>\n",
       "    </tr>\n",
       "    <tr>\n",
       "      <th>4</th>\n",
       "      <td>8/28/2014 2:41</td>\n",
       "      <td>40.76715</td>\n",
       "      <td>-73.98636</td>\n",
       "    </tr>\n",
       "    <tr>\n",
       "      <th>...</th>\n",
       "      <td>...</td>\n",
       "      <td>...</td>\n",
       "      <td>...</td>\n",
       "    </tr>\n",
       "    <tr>\n",
       "      <th>267696</th>\n",
       "      <td>9/7/2014 3:19</td>\n",
       "      <td>40.71931</td>\n",
       "      <td>-73.99138</td>\n",
       "    </tr>\n",
       "    <tr>\n",
       "      <th>267697</th>\n",
       "      <td>9/7/2014 2:59</td>\n",
       "      <td>40.73868</td>\n",
       "      <td>-73.98862</td>\n",
       "    </tr>\n",
       "    <tr>\n",
       "      <th>267698</th>\n",
       "      <td>9/7/2014 1:55</td>\n",
       "      <td>40.71554</td>\n",
       "      <td>-73.94877</td>\n",
       "    </tr>\n",
       "    <tr>\n",
       "      <th>267699</th>\n",
       "      <td>9/5/2014 23:26</td>\n",
       "      <td>40.74667</td>\n",
       "      <td>-73.97445</td>\n",
       "    </tr>\n",
       "    <tr>\n",
       "      <th>267700</th>\n",
       "      <td>9/6/2014 22:19</td>\n",
       "      <td>40.74393</td>\n",
       "      <td>-73.78011</td>\n",
       "    </tr>\n",
       "  </tbody>\n",
       "</table>\n",
       "<p>267701 rows × 3 columns</p>\n",
       "</div>"
      ],
      "text/plain": [
       "           time_of_trip  start_lat  start_lng\n",
       "0         9/4/2014 9:51   40.64705  -73.77988\n",
       "1       8/27/2014 21:13   40.74916  -73.98373\n",
       "2        9/4/2014 14:16   40.64065  -73.97594\n",
       "3        9/4/2014 16:08   40.75002  -73.99514\n",
       "4        8/28/2014 2:41   40.76715  -73.98636\n",
       "...                 ...        ...        ...\n",
       "267696    9/7/2014 3:19   40.71931  -73.99138\n",
       "267697    9/7/2014 2:59   40.73868  -73.98862\n",
       "267698    9/7/2014 1:55   40.71554  -73.94877\n",
       "267699   9/5/2014 23:26   40.74667  -73.97445\n",
       "267700   9/6/2014 22:19   40.74393  -73.78011\n",
       "\n",
       "[267701 rows x 3 columns]"
      ]
     },
     "execution_count": 7,
     "metadata": {},
     "output_type": "execute_result"
    }
   ],
   "source": [
    "optionA"
   ]
  },
  {
   "cell_type": "code",
   "execution_count": 8,
   "metadata": {},
   "outputs": [],
   "source": [
    "gdf = gpd.GeoDataFrame(optionA, geometry=gpd.points_from_xy(optionA.start_lng, optionA.start_lat))"
   ]
  },
  {
   "cell_type": "code",
   "execution_count": 9,
   "metadata": {},
   "outputs": [
    {
     "data": {
      "text/html": [
       "<div>\n",
       "<style scoped>\n",
       "    .dataframe tbody tr th:only-of-type {\n",
       "        vertical-align: middle;\n",
       "    }\n",
       "\n",
       "    .dataframe tbody tr th {\n",
       "        vertical-align: top;\n",
       "    }\n",
       "\n",
       "    .dataframe thead th {\n",
       "        text-align: right;\n",
       "    }\n",
       "</style>\n",
       "<table border=\"1\" class=\"dataframe\">\n",
       "  <thead>\n",
       "    <tr style=\"text-align: right;\">\n",
       "      <th></th>\n",
       "      <th>time_of_trip</th>\n",
       "      <th>start_lat</th>\n",
       "      <th>start_lng</th>\n",
       "      <th>geometry</th>\n",
       "    </tr>\n",
       "  </thead>\n",
       "  <tbody>\n",
       "    <tr>\n",
       "      <th>0</th>\n",
       "      <td>9/4/2014 9:51</td>\n",
       "      <td>40.64705</td>\n",
       "      <td>-73.77988</td>\n",
       "      <td>POINT (-73.77988 40.64705)</td>\n",
       "    </tr>\n",
       "    <tr>\n",
       "      <th>1</th>\n",
       "      <td>8/27/2014 21:13</td>\n",
       "      <td>40.74916</td>\n",
       "      <td>-73.98373</td>\n",
       "      <td>POINT (-73.98373 40.74916)</td>\n",
       "    </tr>\n",
       "    <tr>\n",
       "      <th>2</th>\n",
       "      <td>9/4/2014 14:16</td>\n",
       "      <td>40.64065</td>\n",
       "      <td>-73.97594</td>\n",
       "      <td>POINT (-73.97594 40.64065)</td>\n",
       "    </tr>\n",
       "    <tr>\n",
       "      <th>3</th>\n",
       "      <td>9/4/2014 16:08</td>\n",
       "      <td>40.75002</td>\n",
       "      <td>-73.99514</td>\n",
       "      <td>POINT (-73.99514 40.75002)</td>\n",
       "    </tr>\n",
       "    <tr>\n",
       "      <th>4</th>\n",
       "      <td>8/28/2014 2:41</td>\n",
       "      <td>40.76715</td>\n",
       "      <td>-73.98636</td>\n",
       "      <td>POINT (-73.98636 40.76715)</td>\n",
       "    </tr>\n",
       "    <tr>\n",
       "      <th>...</th>\n",
       "      <td>...</td>\n",
       "      <td>...</td>\n",
       "      <td>...</td>\n",
       "      <td>...</td>\n",
       "    </tr>\n",
       "    <tr>\n",
       "      <th>267696</th>\n",
       "      <td>9/7/2014 3:19</td>\n",
       "      <td>40.71931</td>\n",
       "      <td>-73.99138</td>\n",
       "      <td>POINT (-73.99138 40.71931)</td>\n",
       "    </tr>\n",
       "    <tr>\n",
       "      <th>267697</th>\n",
       "      <td>9/7/2014 2:59</td>\n",
       "      <td>40.73868</td>\n",
       "      <td>-73.98862</td>\n",
       "      <td>POINT (-73.98862 40.73868)</td>\n",
       "    </tr>\n",
       "    <tr>\n",
       "      <th>267698</th>\n",
       "      <td>9/7/2014 1:55</td>\n",
       "      <td>40.71554</td>\n",
       "      <td>-73.94877</td>\n",
       "      <td>POINT (-73.94877 40.71554)</td>\n",
       "    </tr>\n",
       "    <tr>\n",
       "      <th>267699</th>\n",
       "      <td>9/5/2014 23:26</td>\n",
       "      <td>40.74667</td>\n",
       "      <td>-73.97445</td>\n",
       "      <td>POINT (-73.97445 40.74667)</td>\n",
       "    </tr>\n",
       "    <tr>\n",
       "      <th>267700</th>\n",
       "      <td>9/6/2014 22:19</td>\n",
       "      <td>40.74393</td>\n",
       "      <td>-73.78011</td>\n",
       "      <td>POINT (-73.78011 40.74393)</td>\n",
       "    </tr>\n",
       "  </tbody>\n",
       "</table>\n",
       "<p>267701 rows × 4 columns</p>\n",
       "</div>"
      ],
      "text/plain": [
       "           time_of_trip  start_lat  start_lng                    geometry\n",
       "0         9/4/2014 9:51   40.64705  -73.77988  POINT (-73.77988 40.64705)\n",
       "1       8/27/2014 21:13   40.74916  -73.98373  POINT (-73.98373 40.74916)\n",
       "2        9/4/2014 14:16   40.64065  -73.97594  POINT (-73.97594 40.64065)\n",
       "3        9/4/2014 16:08   40.75002  -73.99514  POINT (-73.99514 40.75002)\n",
       "4        8/28/2014 2:41   40.76715  -73.98636  POINT (-73.98636 40.76715)\n",
       "...                 ...        ...        ...                         ...\n",
       "267696    9/7/2014 3:19   40.71931  -73.99138  POINT (-73.99138 40.71931)\n",
       "267697    9/7/2014 2:59   40.73868  -73.98862  POINT (-73.98862 40.73868)\n",
       "267698    9/7/2014 1:55   40.71554  -73.94877  POINT (-73.94877 40.71554)\n",
       "267699   9/5/2014 23:26   40.74667  -73.97445  POINT (-73.97445 40.74667)\n",
       "267700   9/6/2014 22:19   40.74393  -73.78011  POINT (-73.78011 40.74393)\n",
       "\n",
       "[267701 rows x 4 columns]"
      ]
     },
     "execution_count": 9,
     "metadata": {},
     "output_type": "execute_result"
    }
   ],
   "source": [
    "gdf"
   ]
  },
  {
   "cell_type": "code",
   "execution_count": 7,
   "metadata": {},
   "outputs": [],
   "source": [
    "# Export the GeoDataFrame to parquet\n",
    "gdf.to_parquet('nyc.parquet')"
   ]
  },
  {
   "cell_type": "code",
   "execution_count": 10,
   "metadata": {},
   "outputs": [],
   "source": [
    "parquet = ddb.read_parquet('nyc.parquet')"
   ]
  },
  {
   "cell_type": "code",
   "execution_count": 11,
   "metadata": {},
   "outputs": [
    {
     "data": {
      "text/plain": [
       "┌─────────────────┬───────────┬───────────┬────────────────────────────────────────────────────────────────────┐\n",
       "│  time_of_trip   │ start_lat │ start_lng │                              geometry                              │\n",
       "│     varchar     │  double   │  double   │                                blob                                │\n",
       "├─────────────────┼───────────┼───────────┼────────────────────────────────────────────────────────────────────┤\n",
       "│ 9/4/2014 9:51   │  40.64705 │ -73.77988 │ \\x01\\x01\\x00\\x00\\x00}\\xB3\\xCD\\x8D\\xE9qR\\xC0;p\\xCE\\x88\\xD2RD@       │\n",
       "│ 8/27/2014 21:13 │  40.74916 │ -73.98373 │ \\x01\\x01\\x00\\x00\\x00\\x05\\x86\\xACn\\xF5~R\\xC0V\\xBC\\x91y\\xE4_D@       │\n",
       "│ 9/4/2014 14:16  │  40.64065 │ -73.97594 │ \\x01\\x01\\x00\\x00\\x00\\xED\\xB6\\x0B\\xCDu~R\\xC0Y\\x17\\xB7\\xD1\\x00RD@    │\n",
       "│ 9/4/2014 16:08  │  40.75002 │ -73.99514 │ \\x01\\x01\\x00\\x00\\x00A\\xBC\\xAE_\\xB0\\x7FR\\xC0G\\xAC\\xC5\\xA7\\x00`D@    │\n",
       "│ 8/28/2014 2:41  │  40.76715 │ -73.98636 │ \\x01\\x01\\x00\\x00\\x00I\\x85\\xB1\\x85 \\x7FR\\xC0.\\x90\\xA0\\xF81bD@       │\n",
       "│ 9/13/2014 3:57  │  40.70707 │ -74.01211 │ \\x01\\x01\\x00\\x00\\x00\\x18}\\x05i\\xC6\\x80R\\xC0\\xCA\\xFD\\x0EE\\x81ZD@    │\n",
       "│ 9/11/2014 23:13 │  40.72953 │ -73.97799 │ \\x01\\x01\\x00\\x00\\x00*t^c\\x97~R\\xC0\\xB6\\xB91=a]D@                   │\n",
       "│ 8/27/2014 22:56 │  40.76689 │ -73.95631 │ \\x01\\x01\\x00\\x00\\x00\\x9E\\xB5\\xDB.4}R\\xC0\\x91\\xD0\\x96s)bD@          │\n",
       "│ 9/10/2014 17:48 │  40.82332 │ -73.86235 │ \\x01\\x01\\x00\\x00\\x00)\\xED\\x0D\\xBE0wR\\xC0E\\x12\\xBD\\x8CbiD@          │\n",
       "│ 9/12/2014 23:24 │  40.72188 │ -73.99732 │ \\x01\\x01\\x00\\x00\\x00d\\xE9C\\x17\\xD4\\x7FR\\xC0x\\xD1W\\x90f\\x5CD@       │\n",
       "│       ·         │      ·    │     ·     │                              ·                                     │\n",
       "│       ·         │      ·    │     ·     │                              ·                                     │\n",
       "│       ·         │      ·    │     ·     │                              ·                                     │\n",
       "│ 8/10/2014 0:52  │  40.72694 │ -74.00027 │ \\x01\\x01\\x00\\x00\\x00\\xE0Jvl\\x04\\x80R\\xC0\\xBE\\x13\\xB3^\\x0C]D@       │\n",
       "│ 8/13/2014 20:15 │  40.75114 │ -73.98075 │ \\x01\\x01\\x00\\x00\\x00T\\xE3\\xA5\\x9B\\xC4~R\\xC0\\xD5[\\x03[%`D@          │\n",
       "│ 8/10/2014 3:59  │  40.78049 │ -73.98396 │ \\x01\\x01\\x00\\x00\\x00\\x9E$]3\\xF9~R\\xC0rm\\xA8\\x18\\xE7cD@             │\n",
       "│ 8/10/2014 2:41  │  40.75311 │ -73.99246 │ \\x01\\x01\\x00\\x00\\x00\\xA4\\xA5\\xF2v\\x84\\x7FR\\xC01%\\x92\\xE8e`D@       │\n",
       "│ 8/15/2014 22:46 │  40.77462 │ -73.91205 │ \\x01\\x01\\x00\\x00\\x00F\\x94\\xF6\\x06_zR\\xC0\\xECi\\x87\\xBF&cD@          │\n",
       "│ 8/15/2014 21:32 │  40.75696 │ -73.99726 │ \\x01\\x01\\x00\\x00\\x00\\xF9f\\x9B\\x1B\\xD3\\x7FR\\xC0\\xA90\\xB6\\x10\\xE4`D@ │\n",
       "│ 9/19/2014 23:41 │  40.72713 │ -73.99975 │ \\x01\\x01\\x00\\x00\\x00D\\x8Bl\\xE7\\xFB\\x7FR\\xC0b\\xF8\\x88\\x98\\x12]D@    │\n",
       "│ 8/15/2014 5:26  │  40.74647 │ -73.98418 │ \\x01\\x01\\x00\\x00\\x00%X\\x1C\\xCE\\xFC~R\\xC0\\xFA\\xB86T\\x8C_D@          │\n",
       "│ 9/3/2014 2:10   │  40.77661 │ -73.87399 │ \\x01\\x01\\x00\\x00\\x00\\xFD\\xC1\\xC0s\\xEFwR\\xC0\\x8F\\xDF\\xDB\\xF4gcD@    │\n",
       "│ 8/29/2014 6:10  │  40.74324 │ -73.98769 │ \\x01\\x01\\x00\\x00\\x00\\x85%\\x1EP6\\x7FR\\xC0\\x1E\\x8A\\x02}\\x22_D@       │\n",
       "├─────────────────┴───────────┴───────────┴────────────────────────────────────────────────────────────────────┤\n",
       "│ ? rows (>9999 rows, 20 shown)                                                                      4 columns │\n",
       "└──────────────────────────────────────────────────────────────────────────────────────────────────────────────┘"
      ]
     },
     "execution_count": 11,
     "metadata": {},
     "output_type": "execute_result"
    }
   ],
   "source": [
    "parquet"
   ]
  },
  {
   "cell_type": "code",
   "execution_count": 26,
   "metadata": {},
   "outputs": [],
   "source": [
    "ddb.sql(\"DROP TABLE IF EXISTS nyc_geoparquet\")"
   ]
  },
  {
   "cell_type": "code",
   "execution_count": 12,
   "metadata": {},
   "outputs": [],
   "source": [
    "ddb.sql(f\"CREATE TABLE nyc_geoparquet AS SELECT * EXCLUDE geometry, ST_GEOMFROMWKB(geometry) AS geometry FROM 'parquet'\")\n",
    "# CREATE TABLE attapeu AS SELECT * EXCLUDE geometry, ST_GEOMFROMWKB(geometry) AS geometry FROM \n",
    "#'s3://us-west-2.opendata.source.coop/google-research-open-buildings/geoparquet-admin1/country=LAO/Attapeu.parquet';"
   ]
  },
  {
   "cell_type": "code",
   "execution_count": 13,
   "metadata": {},
   "outputs": [
    {
     "data": {
      "text/plain": [
       "┌─────────────────┬───────────┬───────────┬────────────────────────────┐\n",
       "│  time_of_trip   │ start_lat │ start_lng │          geometry          │\n",
       "│     varchar     │  double   │  double   │          geometry          │\n",
       "├─────────────────┼───────────┼───────────┼────────────────────────────┤\n",
       "│ 9/4/2014 9:51   │  40.64705 │ -73.77988 │ POINT (-73.77988 40.64705) │\n",
       "│ 8/27/2014 21:13 │  40.74916 │ -73.98373 │ POINT (-73.98373 40.74916) │\n",
       "│ 9/4/2014 14:16  │  40.64065 │ -73.97594 │ POINT (-73.97594 40.64065) │\n",
       "│ 9/4/2014 16:08  │  40.75002 │ -73.99514 │ POINT (-73.99514 40.75002) │\n",
       "│ 8/28/2014 2:41  │  40.76715 │ -73.98636 │ POINT (-73.98636 40.76715) │\n",
       "│ 9/13/2014 3:57  │  40.70707 │ -74.01211 │ POINT (-74.01211 40.70707) │\n",
       "│ 9/11/2014 23:13 │  40.72953 │ -73.97799 │ POINT (-73.97799 40.72953) │\n",
       "│ 8/27/2014 22:56 │  40.76689 │ -73.95631 │ POINT (-73.95631 40.76689) │\n",
       "│ 9/10/2014 17:48 │  40.82332 │ -73.86235 │ POINT (-73.86235 40.82332) │\n",
       "│ 9/12/2014 23:24 │  40.72188 │ -73.99732 │ POINT (-73.99732 40.72188) │\n",
       "│       ·         │      ·    │     ·     │             ·              │\n",
       "│       ·         │      ·    │     ·     │             ·              │\n",
       "│       ·         │      ·    │     ·     │             ·              │\n",
       "│ 8/10/2014 0:52  │  40.72694 │ -74.00027 │ POINT (-74.00027 40.72694) │\n",
       "│ 8/13/2014 20:15 │  40.75114 │ -73.98075 │ POINT (-73.98075 40.75114) │\n",
       "│ 8/10/2014 3:59  │  40.78049 │ -73.98396 │ POINT (-73.98396 40.78049) │\n",
       "│ 8/10/2014 2:41  │  40.75311 │ -73.99246 │ POINT (-73.99246 40.75311) │\n",
       "│ 8/15/2014 22:46 │  40.77462 │ -73.91205 │ POINT (-73.91205 40.77462) │\n",
       "│ 8/15/2014 21:32 │  40.75696 │ -73.99726 │ POINT (-73.99726 40.75696) │\n",
       "│ 9/19/2014 23:41 │  40.72713 │ -73.99975 │ POINT (-73.99975 40.72713) │\n",
       "│ 8/15/2014 5:26  │  40.74647 │ -73.98418 │ POINT (-73.98418 40.74647) │\n",
       "│ 9/3/2014 2:10   │  40.77661 │ -73.87399 │ POINT (-73.87399 40.77661) │\n",
       "│ 8/29/2014 6:10  │  40.74324 │ -73.98769 │ POINT (-73.98769 40.74324) │\n",
       "├─────────────────┴───────────┴───────────┴────────────────────────────┤\n",
       "│ ? rows (>9999 rows, 20 shown)                              4 columns │\n",
       "└──────────────────────────────────────────────────────────────────────┘"
      ]
     },
     "execution_count": 13,
     "metadata": {},
     "output_type": "execute_result"
    }
   ],
   "source": [
    "ddb.sql('SELECT * FROM nyc_geoparquet WHERE ST_Y(geometry) > 40')"
   ]
  },
  {
   "cell_type": "code",
   "execution_count": 44,
   "metadata": {},
   "outputs": [],
   "source": [
    "# Get the max latitude, min latitude, max longitude, and min longitude\n",
    "max_lat = ddb.sql('SELECT MAX(ST_Y(geometry)) FROM nyc_geoparquet').df()\n",
    "min_lat = ddb.sql('SELECT MIN(ST_Y(geometry)) FROM nyc_geoparquet').df()\n",
    "max_lon = ddb.sql('SELECT MAX(ST_X(geometry)) FROM nyc_geoparquet').df()\n",
    "min_lon = ddb.sql('SELECT MIN(ST_X(geometry)) FROM nyc_geoparquet').df()\n"
   ]
  },
  {
   "cell_type": "code",
   "execution_count": 78,
   "metadata": {},
   "outputs": [
    {
     "data": {
      "text/html": [
       "<div>\n",
       "<style scoped>\n",
       "    .dataframe tbody tr th:only-of-type {\n",
       "        vertical-align: middle;\n",
       "    }\n",
       "\n",
       "    .dataframe tbody tr th {\n",
       "        vertical-align: top;\n",
       "    }\n",
       "\n",
       "    .dataframe thead th {\n",
       "        text-align: right;\n",
       "    }\n",
       "</style>\n",
       "<table border=\"1\" class=\"dataframe\">\n",
       "  <thead>\n",
       "    <tr style=\"text-align: right;\">\n",
       "      <th></th>\n",
       "      <th>min(st_y(geometry))</th>\n",
       "    </tr>\n",
       "  </thead>\n",
       "  <tbody>\n",
       "    <tr>\n",
       "      <th>0</th>\n",
       "      <td>40.52785</td>\n",
       "    </tr>\n",
       "  </tbody>\n",
       "</table>\n",
       "</div>"
      ],
      "text/plain": [
       "   min(st_y(geometry))\n",
       "0             40.52785"
      ]
     },
     "execution_count": 78,
     "metadata": {},
     "output_type": "execute_result"
    }
   ],
   "source": [
    "min_lat"
   ]
  },
  {
   "cell_type": "code",
   "execution_count": 79,
   "metadata": {},
   "outputs": [
    {
     "data": {
      "text/html": [
       "<div>\n",
       "<style scoped>\n",
       "    .dataframe tbody tr th:only-of-type {\n",
       "        vertical-align: middle;\n",
       "    }\n",
       "\n",
       "    .dataframe tbody tr th {\n",
       "        vertical-align: top;\n",
       "    }\n",
       "\n",
       "    .dataframe thead th {\n",
       "        text-align: right;\n",
       "    }\n",
       "</style>\n",
       "<table border=\"1\" class=\"dataframe\">\n",
       "  <thead>\n",
       "    <tr style=\"text-align: right;\">\n",
       "      <th></th>\n",
       "      <th>min(st_y(geometry))</th>\n",
       "    </tr>\n",
       "  </thead>\n",
       "  <tbody>\n",
       "    <tr>\n",
       "      <th>0</th>\n",
       "      <td>40.62785</td>\n",
       "    </tr>\n",
       "  </tbody>\n",
       "</table>\n",
       "</div>"
      ],
      "text/plain": [
       "   min(st_y(geometry))\n",
       "0             40.62785"
      ]
     },
     "execution_count": 79,
     "metadata": {},
     "output_type": "execute_result"
    }
   ],
   "source": [
    "# Add 0.1 to the min latitude\n",
    "min_lat = min_lat + 0.1\n",
    "min_lat"
   ]
  },
  {
   "cell_type": "code",
   "execution_count": 75,
   "metadata": {},
   "outputs": [
    {
     "data": {
      "text/html": [
       "<div>\n",
       "<style scoped>\n",
       "    .dataframe tbody tr th:only-of-type {\n",
       "        vertical-align: middle;\n",
       "    }\n",
       "\n",
       "    .dataframe tbody tr th {\n",
       "        vertical-align: top;\n",
       "    }\n",
       "\n",
       "    .dataframe thead th {\n",
       "        text-align: right;\n",
       "    }\n",
       "</style>\n",
       "<table border=\"1\" class=\"dataframe\">\n",
       "  <thead>\n",
       "    <tr style=\"text-align: right;\">\n",
       "      <th></th>\n",
       "      <th>max(st_y(geometry))</th>\n",
       "    </tr>\n",
       "  </thead>\n",
       "  <tbody>\n",
       "    <tr>\n",
       "      <th>0</th>\n",
       "      <td>40.93562</td>\n",
       "    </tr>\n",
       "  </tbody>\n",
       "</table>\n",
       "</div>"
      ],
      "text/plain": [
       "   max(st_y(geometry))\n",
       "0             40.93562"
      ]
     },
     "execution_count": 75,
     "metadata": {},
     "output_type": "execute_result"
    }
   ],
   "source": [
    "max_lat"
   ]
  },
  {
   "cell_type": "code",
   "execution_count": 80,
   "metadata": {},
   "outputs": [
    {
     "data": {
      "text/html": [
       "<div>\n",
       "<style scoped>\n",
       "    .dataframe tbody tr th:only-of-type {\n",
       "        vertical-align: middle;\n",
       "    }\n",
       "\n",
       "    .dataframe tbody tr th {\n",
       "        vertical-align: top;\n",
       "    }\n",
       "\n",
       "    .dataframe thead th {\n",
       "        text-align: right;\n",
       "    }\n",
       "</style>\n",
       "<table border=\"1\" class=\"dataframe\">\n",
       "  <thead>\n",
       "    <tr style=\"text-align: right;\">\n",
       "      <th></th>\n",
       "      <th>max(st_y(geometry))</th>\n",
       "    </tr>\n",
       "  </thead>\n",
       "  <tbody>\n",
       "    <tr>\n",
       "      <th>0</th>\n",
       "      <td>40.83562</td>\n",
       "    </tr>\n",
       "  </tbody>\n",
       "</table>\n",
       "</div>"
      ],
      "text/plain": [
       "   max(st_y(geometry))\n",
       "0             40.83562"
      ]
     },
     "execution_count": 80,
     "metadata": {},
     "output_type": "execute_result"
    }
   ],
   "source": [
    "# Subtract 0.1 from the max latitude\n",
    "max_lat = max_lat - 0.1\n",
    "max_lat"
   ]
  },
  {
   "cell_type": "code",
   "execution_count": 91,
   "metadata": {},
   "outputs": [],
   "source": [
    "\n",
    "# Use ST_GeomFromText to create a bounding box polygon\n",
    "#bbox = ddb.sql(f\"SELECT ST_GeomFromText('POLYGON(({min_lon.iloc[0,0]} {min_lat.iloc[0,0]}, {min_lon.iloc[0,0]} {max_lat.iloc[0,0]}, {max_lon.iloc[0,0]} {max_lat.iloc[0,0]}, {max_lon.iloc[0,0]} {min_lat.iloc[0,0]}, {min_lon.iloc[0,0]} {min_lat.iloc[0,0]})))')\")\n",
    "bbox = ddb.sql(f\"SELECT ST_GeomFromText('POLYGON(({min_lon.iloc[0,0]} {min_lat.iloc[0,0]}, {min_lon.iloc[0,0]} {max_lat.iloc[0,0]}, {max_lon.iloc[0,0]} {max_lat.iloc[0,0]}, {max_lon.iloc[0,0]} {min_lat.iloc[0,0]}, {min_lon.iloc[0,0]} {min_lat.iloc[0,0]})))') AS geometry\")"
   ]
  },
  {
   "cell_type": "code",
   "execution_count": 97,
   "metadata": {},
   "outputs": [
    {
     "data": {
      "text/plain": [
       "┌────────────────────────────────────────────────────────────────────────────────────────────────────────────────┐\n",
       "│                                                    geometry                                                    │\n",
       "│                                                    geometry                                                    │\n",
       "├────────────────────────────────────────────────────────────────────────────────────────────────────────────────┤\n",
       "│ POLYGON ((-74.22689 40.62785, -74.22689 40.83562, -73.72315 40.83562, -73.72315 40.62785, -74.22689 40.62785)) │\n",
       "└────────────────────────────────────────────────────────────────────────────────────────────────────────────────┘"
      ]
     },
     "execution_count": 97,
     "metadata": {},
     "output_type": "execute_result"
    }
   ],
   "source": [
    "# Create table AOI and add bbox\n",
    "ddb.sql('DROP TABLE IF EXISTS AOI')\n",
    "\n",
    "ddb.sql('CREATE TABLE AOI AS SELECT * FROM bbox')\n",
    "ddb.table('AOI')\n",
    "\n",
    "\n",
    "\n"
   ]
  },
  {
   "cell_type": "code",
   "execution_count": 99,
   "metadata": {},
   "outputs": [
    {
     "data": {
      "text/html": [
       "<div>\n",
       "<style scoped>\n",
       "    .dataframe tbody tr th:only-of-type {\n",
       "        vertical-align: middle;\n",
       "    }\n",
       "\n",
       "    .dataframe tbody tr th {\n",
       "        vertical-align: top;\n",
       "    }\n",
       "\n",
       "    .dataframe thead th {\n",
       "        text-align: right;\n",
       "    }\n",
       "</style>\n",
       "<table border=\"1\" class=\"dataframe\">\n",
       "  <thead>\n",
       "    <tr style=\"text-align: right;\">\n",
       "      <th></th>\n",
       "      <th>time_of_trip</th>\n",
       "      <th>start_lat</th>\n",
       "      <th>start_lng</th>\n",
       "      <th>geometry</th>\n",
       "    </tr>\n",
       "  </thead>\n",
       "  <tbody>\n",
       "    <tr>\n",
       "      <th>0</th>\n",
       "      <td>9/4/2014 9:51</td>\n",
       "      <td>40.64705</td>\n",
       "      <td>-73.77988</td>\n",
       "      <td>[0, 0, 24, 0, 0, 0, 0, 0, 0, 0, 0, 0, 1, 0, 0,...</td>\n",
       "    </tr>\n",
       "    <tr>\n",
       "      <th>1</th>\n",
       "      <td>8/27/2014 21:13</td>\n",
       "      <td>40.74916</td>\n",
       "      <td>-73.98373</td>\n",
       "      <td>[0, 0, 24, 0, 58, 52, 51, 56, 0, 0, 0, 0, 1, 0...</td>\n",
       "    </tr>\n",
       "    <tr>\n",
       "      <th>2</th>\n",
       "      <td>9/4/2014 14:16</td>\n",
       "      <td>40.64065</td>\n",
       "      <td>-73.97594</td>\n",
       "      <td>[0, 0, 24, 0, 47, 49, 50, 47, 0, 0, 0, 0, 1, 0...</td>\n",
       "    </tr>\n",
       "    <tr>\n",
       "      <th>3</th>\n",
       "      <td>9/4/2014 16:08</td>\n",
       "      <td>40.75002</td>\n",
       "      <td>-73.99514</td>\n",
       "      <td>[0, 0, 24, 0, 56, 47, 50, 48, 0, 0, 0, 0, 1, 0...</td>\n",
       "    </tr>\n",
       "    <tr>\n",
       "      <th>4</th>\n",
       "      <td>8/28/2014 2:41</td>\n",
       "      <td>40.76715</td>\n",
       "      <td>-73.98636</td>\n",
       "      <td>[0, 0, 24, 0, 48, 49, 52, 32, 0, 0, 0, 0, 1, 0...</td>\n",
       "    </tr>\n",
       "    <tr>\n",
       "      <th>...</th>\n",
       "      <td>...</td>\n",
       "      <td>...</td>\n",
       "      <td>...</td>\n",
       "      <td>...</td>\n",
       "    </tr>\n",
       "    <tr>\n",
       "      <th>258107</th>\n",
       "      <td>9/7/2014 3:19</td>\n",
       "      <td>40.71931</td>\n",
       "      <td>-73.99138</td>\n",
       "      <td>[0, 0, 24, 0, 116, 147, 24, 126, 0, 0, 0, 0, 1...</td>\n",
       "    </tr>\n",
       "    <tr>\n",
       "      <th>258108</th>\n",
       "      <td>9/7/2014 2:59</td>\n",
       "      <td>40.73868</td>\n",
       "      <td>-73.98862</td>\n",
       "      <td>[0, 0, 24, 0, 94, 68, 64, 1, 0, 0, 0, 0, 1, 0,...</td>\n",
       "    </tr>\n",
       "    <tr>\n",
       "      <th>258109</th>\n",
       "      <td>9/7/2014 1:55</td>\n",
       "      <td>40.71554</td>\n",
       "      <td>-73.94877</td>\n",
       "      <td>[0, 0, 24, 0, 72, 162, 127, 82, 0, 0, 0, 0, 1,...</td>\n",
       "    </tr>\n",
       "    <tr>\n",
       "      <th>258110</th>\n",
       "      <td>9/5/2014 23:26</td>\n",
       "      <td>40.74667</td>\n",
       "      <td>-73.97445</td>\n",
       "      <td>[0, 0, 24, 0, 68, 64, 1, 1, 0, 0, 0, 0, 1, 0, ...</td>\n",
       "    </tr>\n",
       "    <tr>\n",
       "      <th>258111</th>\n",
       "      <td>9/6/2014 22:19</td>\n",
       "      <td>40.74393</td>\n",
       "      <td>-73.78011</td>\n",
       "      <td>[0, 0, 24, 0, 1, 124, 82, 192, 0, 0, 0, 0, 1, ...</td>\n",
       "    </tr>\n",
       "  </tbody>\n",
       "</table>\n",
       "<p>258112 rows × 4 columns</p>\n",
       "</div>"
      ],
      "text/plain": [
       "           time_of_trip  start_lat  start_lng  \\\n",
       "0         9/4/2014 9:51   40.64705  -73.77988   \n",
       "1       8/27/2014 21:13   40.74916  -73.98373   \n",
       "2        9/4/2014 14:16   40.64065  -73.97594   \n",
       "3        9/4/2014 16:08   40.75002  -73.99514   \n",
       "4        8/28/2014 2:41   40.76715  -73.98636   \n",
       "...                 ...        ...        ...   \n",
       "258107    9/7/2014 3:19   40.71931  -73.99138   \n",
       "258108    9/7/2014 2:59   40.73868  -73.98862   \n",
       "258109    9/7/2014 1:55   40.71554  -73.94877   \n",
       "258110   9/5/2014 23:26   40.74667  -73.97445   \n",
       "258111   9/6/2014 22:19   40.74393  -73.78011   \n",
       "\n",
       "                                                 geometry  \n",
       "0       [0, 0, 24, 0, 0, 0, 0, 0, 0, 0, 0, 0, 1, 0, 0,...  \n",
       "1       [0, 0, 24, 0, 58, 52, 51, 56, 0, 0, 0, 0, 1, 0...  \n",
       "2       [0, 0, 24, 0, 47, 49, 50, 47, 0, 0, 0, 0, 1, 0...  \n",
       "3       [0, 0, 24, 0, 56, 47, 50, 48, 0, 0, 0, 0, 1, 0...  \n",
       "4       [0, 0, 24, 0, 48, 49, 52, 32, 0, 0, 0, 0, 1, 0...  \n",
       "...                                                   ...  \n",
       "258107  [0, 0, 24, 0, 116, 147, 24, 126, 0, 0, 0, 0, 1...  \n",
       "258108  [0, 0, 24, 0, 94, 68, 64, 1, 0, 0, 0, 0, 1, 0,...  \n",
       "258109  [0, 0, 24, 0, 72, 162, 127, 82, 0, 0, 0, 0, 1,...  \n",
       "258110  [0, 0, 24, 0, 68, 64, 1, 1, 0, 0, 0, 0, 1, 0, ...  \n",
       "258111  [0, 0, 24, 0, 1, 124, 82, 192, 0, 0, 0, 0, 1, ...  \n",
       "\n",
       "[258112 rows x 4 columns]"
      ]
     },
     "execution_count": 99,
     "metadata": {},
     "output_type": "execute_result"
    }
   ],
   "source": [
    "# Select all points that are within the bounding box\n",
    "ddb.sql('SELECT * FROM nyc_geoparquet WHERE ST_Contains((SELECT geometry FROM AOI), geometry)').df()"
   ]
  },
  {
   "cell_type": "code",
   "execution_count": 20,
   "metadata": {},
   "outputs": [
    {
     "ename": "BinderException",
     "evalue": "Binder Error: No function matches the given name and argument types 'st_transform(GEOMETRY, INTEGER)'. You might need to add explicit type casts.\n\tCandidate functions:\n\tst_transform(BOX_2D, VARCHAR, VARCHAR) -> BOX_2D\n\tst_transform(POINT_2D, VARCHAR, VARCHAR) -> POINT_2D\n\tst_transform(GEOMETRY, VARCHAR, VARCHAR) -> GEOMETRY\n",
     "output_type": "error",
     "traceback": [
      "\u001b[0;31m---------------------------------------------------------------------------\u001b[0m",
      "\u001b[0;31mBinderException\u001b[0m                           Traceback (most recent call last)",
      "Cell \u001b[0;32mIn[20], line 2\u001b[0m\n\u001b[1;32m      1\u001b[0m \u001b[39m# ST_Transform the geometry to Canada Albers Equal Area Conic\u001b[39;00m\n\u001b[0;32m----> 2\u001b[0m ddb\u001b[39m.\u001b[39;49msql(\u001b[39m'\u001b[39;49m\u001b[39mSELECT ST_Transform(geometry, 102001) FROM nyc_geoparquet\u001b[39;49m\u001b[39m'\u001b[39;49m)\n",
      "\u001b[0;31mBinderException\u001b[0m: Binder Error: No function matches the given name and argument types 'st_transform(GEOMETRY, INTEGER)'. You might need to add explicit type casts.\n\tCandidate functions:\n\tst_transform(BOX_2D, VARCHAR, VARCHAR) -> BOX_2D\n\tst_transform(POINT_2D, VARCHAR, VARCHAR) -> POINT_2D\n\tst_transform(GEOMETRY, VARCHAR, VARCHAR) -> GEOMETRY\n"
     ]
    }
   ],
   "source": [
    "# ST_Transform the geometry to Canada Albers Equal Area Conic\n",
    "ddb.sql('SELECT ST_Transform(geometry, 102001) FROM nyc_geoparquet')"
   ]
  },
  {
   "cell_type": "code",
   "execution_count": 81,
   "metadata": {},
   "outputs": [],
   "source": [
    "ddb.sql(\"DROP TABLE IF EXISTS points_db\")"
   ]
  },
  {
   "cell_type": "code",
   "execution_count": 82,
   "metadata": {},
   "outputs": [],
   "source": [
    "ddb.sql(\"\"\"\n",
    "        CREATE TABLE points_db AS\n",
    "        SELECT time_of_trip, ST_GEOMFROMWKB(geometry) GEO, ST_Transform((ST_FlipCoordinates(GEO)), 'epsg:4326', 'esri:102001') AS AEAC\n",
    "        FROM 'nyc.parquet'\n",
    "        \"\"\")"
   ]
  },
  {
   "cell_type": "code",
   "execution_count": 83,
   "metadata": {},
   "outputs": [
    {
     "data": {
      "text/plain": [
       "┌─────────────────┬────────────────────────────┬───────────────────────────────────────────────┐\n",
       "│  time_of_trip   │            GEO             │                     AEAC                      │\n",
       "│     varchar     │          geometry          │                   geometry                    │\n",
       "├─────────────────┼────────────────────────────┼───────────────────────────────────────────────┤\n",
       "│ 9/4/2014 9:51   │ POINT (-73.77988 40.64705) │ POINT (1897449.0255942738 386504.2102560082)  │\n",
       "│ 8/27/2014 21:13 │ POINT (-73.98373 40.74916) │ POINT (1877121.894533895 391214.34149144695)  │\n",
       "│ 9/4/2014 14:16  │ POINT (-73.97594 40.64065) │ POINT (1881536.4379089037 380335.4551824107)  │\n",
       "│ 9/4/2014 16:08  │ POINT (-73.99514 40.75002) │ POINT (1876154.2327036646 390983.55843685986) │\n",
       "│ 8/28/2014 2:41  │ POINT (-73.98636 40.76715) │ POINT (1876280.1320683847 392981.10363323)    │\n",
       "│ 9/13/2014 3:57  │ POINT (-74.01211 40.70707) │ POINT (1876251.1827902275 386116.20897549985) │\n",
       "│ 9/11/2014 23:13 │ POINT (-73.97799 40.72953) │ POINT (1878276.4809250624 389366.97336129873) │\n",
       "│ 8/27/2014 22:56 │ POINT (-73.95631 40.76689) │ POINT (1878757.8917063826 393794.38941880566) │\n",
       "│ 9/10/2014 17:48 │ POINT (-73.86235 40.82332) │ POINT (1884501.3137302538 402197.197899992)   │\n",
       "│ 9/12/2014 23:24 │ POINT (-73.99732 40.72188) │ POINT (1876953.0929013246 388044.23168059165) │\n",
       "│       ·         │             ·              │                       ·                       │\n",
       "│       ·         │             ·              │                       ·                       │\n",
       "│       ·         │             ·              │                       ·                       │\n",
       "│ 8/10/2014 0:52  │ POINT (-74.00027 40.72694) │ POINT (1876534.6686401728 388479.38452762156) │\n",
       "│ 8/13/2014 20:15 │ POINT (-73.98075 40.75114) │ POINT (1877297.935964606 391500.1468228684)   │\n",
       "│ 8/10/2014 3:59  │ POINT (-73.98396 40.78049) │ POINT (1876013.3319745436 394412.79186640616) │\n",
       "│ 8/10/2014 2:41  │ POINT (-73.99246 40.75311) │ POINT (1876267.0732780576 391374.4999815825)  │\n",
       "│ 8/15/2014 22:46 │ POINT (-73.91205 40.77462) │ POINT (1882123.6259509341 395823.9091097062)  │\n",
       "│ 8/15/2014 21:32 │ POINT (-73.99726 40.75696) │ POINT (1875738.7675416435 391634.2910436794)  │\n",
       "│ 9/19/2014 23:41 │ POINT (-73.99975 40.72713) │ POINT (1876570.8236650326 388513.34550204116) │\n",
       "│ 8/15/2014 5:26  │ POINT (-73.98418 40.74647) │ POINT (1877178.4624578927 390926.6127267758)  │\n",
       "│ 9/3/2014 2:10   │ POINT (-73.87399 40.77661) │ POINT (1885179.1561083663 397094.6191699316)  │\n",
       "│ 8/29/2014 6:10  │ POINT (-73.98769 40.74324) │ POINT (1877002.285584427 390498.1435462742)   │\n",
       "├─────────────────┴────────────────────────────┴───────────────────────────────────────────────┤\n",
       "│ ? rows (>9999 rows, 20 shown)                                                      3 columns │\n",
       "└──────────────────────────────────────────────────────────────────────────────────────────────┘"
      ]
     },
     "execution_count": 83,
     "metadata": {},
     "output_type": "execute_result"
    }
   ],
   "source": [
    "ddb.sql(\"\"\"\n",
    "        SELECT *\n",
    "        FROM points_db\n",
    "        \"\"\")"
   ]
  },
  {
   "cell_type": "code",
   "execution_count": 84,
   "metadata": {},
   "outputs": [],
   "source": [
    "import geopandas as gpd\n",
    "from shapely.geometry import Polygon\n",
    "import numpy as np\n",
    "\n",
    "\n",
    "xmin = ddb.sql('SELECT MIN(ST_X(AEAC)) FROM points_db').df().iloc[0,0]\n",
    "ymin = ddb.sql('SELECT MIN(ST_Y(AEAC)) FROM points_db').df().iloc[0,0]\n",
    "xmax = ddb.sql('SELECT MAX(ST_X(AEAC)) FROM points_db').df().iloc[0,0]\n",
    "ymax = ddb.sql('SELECT MAX(ST_Y(AEAC)) FROM points_db').df().iloc[0,0]\n",
    "\n",
    "length = 3000\n",
    "wide = 3000\n",
    "\n",
    "cols = list(np.arange(xmin, xmax + wide, wide))\n",
    "rows = list(np.arange(ymin, ymax + length, length))\n",
    "\n",
    "polygons = []\n",
    "for x in cols[:-1]:\n",
    "    for y in rows[:-1]:\n",
    "        polygons.append(Polygon([(x,y), (x+wide, y), (x+wide, y+length), (x, y+length)]))\n",
    "\n",
    "grid = gpd.GeoDataFrame({'geometry':polygons})"
   ]
  },
  {
   "cell_type": "code",
   "execution_count": 85,
   "metadata": {},
   "outputs": [
    {
     "data": {
      "text/html": [
       "<div>\n",
       "<style scoped>\n",
       "    .dataframe tbody tr th:only-of-type {\n",
       "        vertical-align: middle;\n",
       "    }\n",
       "\n",
       "    .dataframe tbody tr th {\n",
       "        vertical-align: top;\n",
       "    }\n",
       "\n",
       "    .dataframe thead th {\n",
       "        text-align: right;\n",
       "    }\n",
       "</style>\n",
       "<table border=\"1\" class=\"dataframe\">\n",
       "  <thead>\n",
       "    <tr style=\"text-align: right;\">\n",
       "      <th></th>\n",
       "      <th>geometry</th>\n",
       "    </tr>\n",
       "  </thead>\n",
       "  <tbody>\n",
       "    <tr>\n",
       "      <th>0</th>\n",
       "      <td>POLYGON ((1864597.207 361800.031, 1867597.207 ...</td>\n",
       "    </tr>\n",
       "    <tr>\n",
       "      <th>1</th>\n",
       "      <td>POLYGON ((1864597.207 364800.031, 1867597.207 ...</td>\n",
       "    </tr>\n",
       "    <tr>\n",
       "      <th>2</th>\n",
       "      <td>POLYGON ((1864597.207 367800.031, 1867597.207 ...</td>\n",
       "    </tr>\n",
       "    <tr>\n",
       "      <th>3</th>\n",
       "      <td>POLYGON ((1864597.207 370800.031, 1867597.207 ...</td>\n",
       "    </tr>\n",
       "    <tr>\n",
       "      <th>4</th>\n",
       "      <td>POLYGON ((1864597.207 373800.031, 1867597.207 ...</td>\n",
       "    </tr>\n",
       "    <tr>\n",
       "      <th>...</th>\n",
       "      <td>...</td>\n",
       "    </tr>\n",
       "    <tr>\n",
       "      <th>229</th>\n",
       "      <td>POLYGON ((1900597.207 400800.031, 1903597.207 ...</td>\n",
       "    </tr>\n",
       "    <tr>\n",
       "      <th>230</th>\n",
       "      <td>POLYGON ((1900597.207 403800.031, 1903597.207 ...</td>\n",
       "    </tr>\n",
       "    <tr>\n",
       "      <th>231</th>\n",
       "      <td>POLYGON ((1900597.207 406800.031, 1903597.207 ...</td>\n",
       "    </tr>\n",
       "    <tr>\n",
       "      <th>232</th>\n",
       "      <td>POLYGON ((1900597.207 409800.031, 1903597.207 ...</td>\n",
       "    </tr>\n",
       "    <tr>\n",
       "      <th>233</th>\n",
       "      <td>POLYGON ((1900597.207 412800.031, 1903597.207 ...</td>\n",
       "    </tr>\n",
       "  </tbody>\n",
       "</table>\n",
       "<p>234 rows × 1 columns</p>\n",
       "</div>"
      ],
      "text/plain": [
       "                                              geometry\n",
       "0    POLYGON ((1864597.207 361800.031, 1867597.207 ...\n",
       "1    POLYGON ((1864597.207 364800.031, 1867597.207 ...\n",
       "2    POLYGON ((1864597.207 367800.031, 1867597.207 ...\n",
       "3    POLYGON ((1864597.207 370800.031, 1867597.207 ...\n",
       "4    POLYGON ((1864597.207 373800.031, 1867597.207 ...\n",
       "..                                                 ...\n",
       "229  POLYGON ((1900597.207 400800.031, 1903597.207 ...\n",
       "230  POLYGON ((1900597.207 403800.031, 1903597.207 ...\n",
       "231  POLYGON ((1900597.207 406800.031, 1903597.207 ...\n",
       "232  POLYGON ((1900597.207 409800.031, 1903597.207 ...\n",
       "233  POLYGON ((1900597.207 412800.031, 1903597.207 ...\n",
       "\n",
       "[234 rows x 1 columns]"
      ]
     },
     "execution_count": 85,
     "metadata": {},
     "output_type": "execute_result"
    }
   ],
   "source": [
    "grid"
   ]
  },
  {
   "cell_type": "code",
   "execution_count": 86,
   "metadata": {},
   "outputs": [
    {
     "data": {
      "text/html": [
       "<div>\n",
       "<style scoped>\n",
       "    .dataframe tbody tr th:only-of-type {\n",
       "        vertical-align: middle;\n",
       "    }\n",
       "\n",
       "    .dataframe tbody tr th {\n",
       "        vertical-align: top;\n",
       "    }\n",
       "\n",
       "    .dataframe thead th {\n",
       "        text-align: right;\n",
       "    }\n",
       "</style>\n",
       "<table border=\"1\" class=\"dataframe\">\n",
       "  <thead>\n",
       "    <tr style=\"text-align: right;\">\n",
       "      <th></th>\n",
       "      <th>geometry</th>\n",
       "    </tr>\n",
       "  </thead>\n",
       "  <tbody>\n",
       "    <tr>\n",
       "      <th>0</th>\n",
       "      <td>POLYGON ((1864597.207 361800.031, 1867597.207 ...</td>\n",
       "    </tr>\n",
       "    <tr>\n",
       "      <th>1</th>\n",
       "      <td>POLYGON ((1864597.207 364800.031, 1867597.207 ...</td>\n",
       "    </tr>\n",
       "    <tr>\n",
       "      <th>2</th>\n",
       "      <td>POLYGON ((1864597.207 367800.031, 1867597.207 ...</td>\n",
       "    </tr>\n",
       "    <tr>\n",
       "      <th>3</th>\n",
       "      <td>POLYGON ((1864597.207 370800.031, 1867597.207 ...</td>\n",
       "    </tr>\n",
       "    <tr>\n",
       "      <th>4</th>\n",
       "      <td>POLYGON ((1864597.207 373800.031, 1867597.207 ...</td>\n",
       "    </tr>\n",
       "    <tr>\n",
       "      <th>...</th>\n",
       "      <td>...</td>\n",
       "    </tr>\n",
       "    <tr>\n",
       "      <th>229</th>\n",
       "      <td>POLYGON ((1900597.207 400800.031, 1903597.207 ...</td>\n",
       "    </tr>\n",
       "    <tr>\n",
       "      <th>230</th>\n",
       "      <td>POLYGON ((1900597.207 403800.031, 1903597.207 ...</td>\n",
       "    </tr>\n",
       "    <tr>\n",
       "      <th>231</th>\n",
       "      <td>POLYGON ((1900597.207 406800.031, 1903597.207 ...</td>\n",
       "    </tr>\n",
       "    <tr>\n",
       "      <th>232</th>\n",
       "      <td>POLYGON ((1900597.207 409800.031, 1903597.207 ...</td>\n",
       "    </tr>\n",
       "    <tr>\n",
       "      <th>233</th>\n",
       "      <td>POLYGON ((1900597.207 412800.031, 1903597.207 ...</td>\n",
       "    </tr>\n",
       "  </tbody>\n",
       "</table>\n",
       "<p>234 rows × 1 columns</p>\n",
       "</div>"
      ],
      "text/plain": [
       "                                              geometry\n",
       "0    POLYGON ((1864597.207 361800.031, 1867597.207 ...\n",
       "1    POLYGON ((1864597.207 364800.031, 1867597.207 ...\n",
       "2    POLYGON ((1864597.207 367800.031, 1867597.207 ...\n",
       "3    POLYGON ((1864597.207 370800.031, 1867597.207 ...\n",
       "4    POLYGON ((1864597.207 373800.031, 1867597.207 ...\n",
       "..                                                 ...\n",
       "229  POLYGON ((1900597.207 400800.031, 1903597.207 ...\n",
       "230  POLYGON ((1900597.207 403800.031, 1903597.207 ...\n",
       "231  POLYGON ((1900597.207 406800.031, 1903597.207 ...\n",
       "232  POLYGON ((1900597.207 409800.031, 1903597.207 ...\n",
       "233  POLYGON ((1900597.207 412800.031, 1903597.207 ...\n",
       "\n",
       "[234 rows x 1 columns]"
      ]
     },
     "execution_count": 86,
     "metadata": {},
     "output_type": "execute_result"
    }
   ],
   "source": [
    "grid.set_crs(crs='esri:102001', inplace=True)"
   ]
  },
  {
   "cell_type": "code",
   "execution_count": 87,
   "metadata": {},
   "outputs": [
    {
     "data": {
      "text/plain": [
       "<folium.features.GeoJson at 0x1aa24a080>"
      ]
     },
     "execution_count": 87,
     "metadata": {},
     "output_type": "execute_result"
    }
   ],
   "source": [
    "# Create a folium map\n",
    "import folium\n",
    "\n",
    "m = folium.Map(location=[45.5, -73.5], zoom_start=10)\n",
    "\n",
    "# Add the grid to the map\n",
    "folium.GeoJson(grid).add_to(m)\n",
    "\n"
   ]
  },
  {
   "cell_type": "code",
   "execution_count": 88,
   "metadata": {},
   "outputs": [
    {
     "data": {
      "text/html": [
       "<div style=\"width:100%;\"><div style=\"position:relative;width:100%;height:0;padding-bottom:60%;\"><span style=\"color:#565656\">Make this Notebook Trusted to load map: File -> Trust Notebook</span><iframe srcdoc=\"&lt;!DOCTYPE html&gt;\n",
       "&lt;html&gt;\n",
       "&lt;head&gt;\n",
       "    \n",
       "    &lt;meta http-equiv=&quot;content-type&quot; content=&quot;text/html; charset=UTF-8&quot; /&gt;\n",
       "    \n",
       "        &lt;script&gt;\n",
       "            L_NO_TOUCH = false;\n",
       "            L_DISABLE_3D = false;\n",
       "        &lt;/script&gt;\n",
       "    \n",
       "    &lt;style&gt;html, body {width: 100%;height: 100%;margin: 0;padding: 0;}&lt;/style&gt;\n",
       "    &lt;style&gt;#map {position:absolute;top:0;bottom:0;right:0;left:0;}&lt;/style&gt;\n",
       "    &lt;script src=&quot;https://cdn.jsdelivr.net/npm/leaflet@1.9.3/dist/leaflet.js&quot;&gt;&lt;/script&gt;\n",
       "    &lt;script src=&quot;https://code.jquery.com/jquery-1.12.4.min.js&quot;&gt;&lt;/script&gt;\n",
       "    &lt;script src=&quot;https://cdn.jsdelivr.net/npm/bootstrap@5.2.2/dist/js/bootstrap.bundle.min.js&quot;&gt;&lt;/script&gt;\n",
       "    &lt;script src=&quot;https://cdnjs.cloudflare.com/ajax/libs/Leaflet.awesome-markers/2.0.2/leaflet.awesome-markers.js&quot;&gt;&lt;/script&gt;\n",
       "    &lt;link rel=&quot;stylesheet&quot; href=&quot;https://cdn.jsdelivr.net/npm/leaflet@1.9.3/dist/leaflet.css&quot;/&gt;\n",
       "    &lt;link rel=&quot;stylesheet&quot; href=&quot;https://cdn.jsdelivr.net/npm/bootstrap@5.2.2/dist/css/bootstrap.min.css&quot;/&gt;\n",
       "    &lt;link rel=&quot;stylesheet&quot; href=&quot;https://netdna.bootstrapcdn.com/bootstrap/3.0.0/css/bootstrap.min.css&quot;/&gt;\n",
       "    &lt;link rel=&quot;stylesheet&quot; href=&quot;https://cdn.jsdelivr.net/npm/@fortawesome/fontawesome-free@6.2.0/css/all.min.css&quot;/&gt;\n",
       "    &lt;link rel=&quot;stylesheet&quot; href=&quot;https://cdnjs.cloudflare.com/ajax/libs/Leaflet.awesome-markers/2.0.2/leaflet.awesome-markers.css&quot;/&gt;\n",
       "    &lt;link rel=&quot;stylesheet&quot; href=&quot;https://cdn.jsdelivr.net/gh/python-visualization/folium/folium/templates/leaflet.awesome.rotate.min.css&quot;/&gt;\n",
       "    \n",
       "            &lt;meta name=&quot;viewport&quot; content=&quot;width=device-width,\n",
       "                initial-scale=1.0, maximum-scale=1.0, user-scalable=no&quot; /&gt;\n",
       "            &lt;style&gt;\n",
       "                #map_669990ee8e978f10a56030a8e57e9b5c {\n",
       "                    position: relative;\n",
       "                    width: 100.0%;\n",
       "                    height: 100.0%;\n",
       "                    left: 0.0%;\n",
       "                    top: 0.0%;\n",
       "                }\n",
       "                .leaflet-container { font-size: 1rem; }\n",
       "            &lt;/style&gt;\n",
       "        \n",
       "&lt;/head&gt;\n",
       "&lt;body&gt;\n",
       "    \n",
       "    \n",
       "            &lt;div class=&quot;folium-map&quot; id=&quot;map_669990ee8e978f10a56030a8e57e9b5c&quot; &gt;&lt;/div&gt;\n",
       "        \n",
       "&lt;/body&gt;\n",
       "&lt;script&gt;\n",
       "    \n",
       "    \n",
       "            var map_669990ee8e978f10a56030a8e57e9b5c = L.map(\n",
       "                &quot;map_669990ee8e978f10a56030a8e57e9b5c&quot;,\n",
       "                {\n",
       "                    center: [45.5, -73.5],\n",
       "                    crs: L.CRS.EPSG3857,\n",
       "                    zoom: 10,\n",
       "                    zoomControl: true,\n",
       "                    preferCanvas: false,\n",
       "                }\n",
       "            );\n",
       "\n",
       "            \n",
       "\n",
       "        \n",
       "    \n",
       "            var tile_layer_679841f3481520672f96be18a25567f3 = L.tileLayer(\n",
       "                &quot;https://{s}.tile.openstreetmap.org/{z}/{x}/{y}.png&quot;,\n",
       "                {&quot;attribution&quot;: &quot;Data by \\u0026copy; \\u003ca target=\\&quot;_blank\\&quot; href=\\&quot;http://openstreetmap.org\\&quot;\\u003eOpenStreetMap\\u003c/a\\u003e, under \\u003ca target=\\&quot;_blank\\&quot; href=\\&quot;http://www.openstreetmap.org/copyright\\&quot;\\u003eODbL\\u003c/a\\u003e.&quot;, &quot;detectRetina&quot;: false, &quot;maxNativeZoom&quot;: 18, &quot;maxZoom&quot;: 18, &quot;minZoom&quot;: 0, &quot;noWrap&quot;: false, &quot;opacity&quot;: 1, &quot;subdomains&quot;: &quot;abc&quot;, &quot;tms&quot;: false}\n",
       "            ).addTo(map_669990ee8e978f10a56030a8e57e9b5c);\n",
       "        \n",
       "    \n",
       "\n",
       "        function geo_json_7acd5159e979e3fd33732153785899d6_onEachFeature(feature, layer) {\n",
       "            layer.on({\n",
       "            });\n",
       "        };\n",
       "        var geo_json_7acd5159e979e3fd33732153785899d6 = L.geoJson(null, {\n",
       "                onEachFeature: geo_json_7acd5159e979e3fd33732153785899d6_onEachFeature,\n",
       "            \n",
       "        });\n",
       "\n",
       "        function geo_json_7acd5159e979e3fd33732153785899d6_add (data) {\n",
       "            geo_json_7acd5159e979e3fd33732153785899d6\n",
       "                .addData(data)\n",
       "                .addTo(map_669990ee8e978f10a56030a8e57e9b5c);\n",
       "        }\n",
       "            geo_json_7acd5159e979e3fd33732153785899d6_add({&quot;bbox&quot;: [-74.22841043344856, 40.41210686002179, -73.602840242257, 41.00179748409864], &quot;features&quot;: [{&quot;bbox&quot;: [-74.22841043344856, 40.51940578723482, -74.18480855983562, 40.55460426585654], &quot;geometry&quot;: {&quot;coordinates&quot;: [[[-74.22841043344856, 40.528262437277455], [-74.1957888242904, 40.51940578723482], [-74.18480855983562, 40.545744187135924], [-74.2174442249424, 40.55460426585654], [-74.22841043344856, 40.528262437277455]]], &quot;type&quot;: &quot;Polygon&quot;}, &quot;id&quot;: &quot;0&quot;, &quot;properties&quot;: {}, &quot;type&quot;: &quot;Feature&quot;}, {&quot;bbox&quot;: [-74.2174442249424, 40.545744187135924, -74.17381762293168, 40.58094205102139], &quot;geometry&quot;: {&quot;coordinates&quot;: [[[-74.2174442249424, 40.55460426585654], [-74.18480855983562, 40.545744187135924], [-74.17381762293168, 40.57207853958653], [-74.20646735416277, 40.58094205102139], [-74.2174442249424, 40.55460426585654]]], &quot;type&quot;: &quot;Polygon&quot;}, &quot;id&quot;: &quot;1&quot;, &quot;properties&quot;: {}, &quot;type&quot;: &quot;Feature&quot;}, {&quot;bbox&quot;: [-74.20646735416277, 40.57207853958653, -74.16281599860044, 40.60727579373989], &quot;geometry&quot;: {&quot;coordinates&quot;: [[[-74.20646735416277, 40.58094205102139], [-74.17381762293168, 40.57207853958653], [-74.16281599860044, 40.59840884554963], [-74.19547980613903, 40.60727579373989], [-74.20646735416277, 40.58094205102139]]], &quot;type&quot;: &quot;Polygon&quot;}, &quot;id&quot;: &quot;2&quot;, &quot;properties&quot;: {}, &quot;type&quot;: &quot;Feature&quot;}, {&quot;bbox&quot;: [-74.19547980613903, 40.59840884554963, -74.1518036718369, 40.63360549497533], &quot;geometry&quot;: {&quot;coordinates&quot;: [[[-74.19547980613903, 40.60727579373989], [-74.16281599860044, 40.59840884554963], [-74.1518036718369, 40.62473510598348], [-74.18448156587368, 40.63360549497533], [-74.19547980613903, 40.60727579373989]]], &quot;type&quot;: &quot;Polygon&quot;}, &quot;id&quot;: &quot;3&quot;, &quot;properties&quot;: {}, &quot;type&quot;: &quot;Feature&quot;}, {&quot;bbox&quot;: [-74.18448156587368, 40.62473510598348, -74.14078062760915, 40.65993115568567], &quot;geometry&quot;: {&quot;coordinates&quot;: [[[-74.18448156587368, 40.63360549497533], [-74.1518036718369, 40.62473510598348], [-74.14078062760915, 40.651057321841286], [-74.17347261834227, 40.65993115568567], [-74.18448156587368, 40.63360549497533]]], &quot;type&quot;: &quot;Polygon&quot;}, &quot;id&quot;: &quot;4&quot;, &quot;properties&quot;: {}, &quot;type&quot;: &quot;Feature&quot;}, {&quot;bbox&quot;: [-74.17347261834227, 40.651057321841286, -74.12974685085834, 40.68625277682416], &quot;geometry&quot;: {&quot;coordinates&quot;: [[[-74.17347261834227, 40.65993115568567], [-74.14078062760915, 40.651057321841286], [-74.12974685085834, 40.67737549407126], [-74.16245294849345, 40.68625277682416], [-74.17347261834227, 40.65993115568567]]], &quot;type&quot;: &quot;Polygon&quot;}, &quot;id&quot;: &quot;5&quot;, &quot;properties&quot;: {}, &quot;type&quot;: &quot;Feature&quot;}, {&quot;bbox&quot;: [-74.16245294849345, 40.67737549407126, -74.11870232649855, 40.71257035933913], &quot;geometry&quot;: {&quot;coordinates&quot;: [[[-74.16245294849345, 40.68625277682416], [-74.12974685085834, 40.67737549407126], [-74.11870232649855, 40.70368962361687], [-74.1514225412488, 40.71257035933913], [-74.16245294849345, 40.68625277682416]]], &quot;type&quot;: &quot;Polygon&quot;}, &quot;id&quot;: &quot;6&quot;, &quot;properties&quot;: {}, &quot;type&quot;: &quot;Feature&quot;}, {&quot;bbox&quot;: [-74.1514225412488, 40.70368962361687, -74.1076470394168, 40.738883904173896], &quot;geometry&quot;: {&quot;coordinates&quot;: [[[-74.1514225412488, 40.71257035933913], [-74.11870232649855, 40.70368962361687], [-74.1076470394168, 40.72999971141642], [-74.14038138150283, 40.738883904173896], [-74.1514225412488, 40.71257035933913]]], &quot;type&quot;: &quot;Polygon&quot;}, &quot;id&quot;: &quot;7&quot;, &quot;properties&quot;: {}, &quot;type&quot;: &quot;Feature&quot;}, {&quot;bbox&quot;: [-74.14038138150283, 40.72999971141642, -74.09658097447304, 40.76519341226681], &quot;geometry&quot;: {&quot;coordinates&quot;: [[[-74.14038138150283, 40.738883904173896], [-74.1076470394168, 40.72999971141642], [-74.09658097447304, 40.756305758403336], [-74.1293294541229, 40.76519341226681], [-74.14038138150283, 40.738883904173896]]], &quot;type&quot;: &quot;Polygon&quot;}, &quot;id&quot;: &quot;8&quot;, &quot;properties&quot;: {}, &quot;type&quot;: &quot;Feature&quot;}, {&quot;bbox&quot;: [-74.1293294541229, 40.756305758403336, -74.08550411649993, 40.79149888455131], &quot;geometry&quot;: {&quot;coordinates&quot;: [[[-74.1293294541229, 40.76519341226681], [-74.09658097447304, 40.756305758403336], [-74.08550411649993, 40.78260776550613], [-74.11826674394918, 40.79149888455131], [-74.1293294541229, 40.76519341226681]]], &quot;type&quot;: &quot;Polygon&quot;}, &quot;id&quot;: &quot;9&quot;, &quot;properties&quot;: {}, &quot;type&quot;: &quot;Feature&quot;}, {&quot;bbox&quot;: [-74.11826674394918, 40.78260776550613, -74.0744164503029, 40.817800321955886], &quot;geometry&quot;: {&quot;coordinates&quot;: [[[-74.11826674394918, 40.79149888455131], [-74.08550411649993, 40.78260776550613], [-74.0744164503029, 40.80890573364825], [-74.10719323579458, 40.817800321955886], [-74.11826674394918, 40.79149888455131]]], &quot;type&quot;: &quot;Polygon&quot;}, &quot;id&quot;: &quot;10&quot;, &quot;properties&quot;: {}, &quot;type&quot;: &quot;Feature&quot;}, {&quot;bbox&quot;: [-74.10719323579458, 40.80890573364825, -74.06331796066011, 40.844097725404076], &quot;geometry&quot;: {&quot;coordinates&quot;: [[[-74.10719323579458, 40.817800321955886], [-74.0744164503029, 40.80890573364825], [-74.06331796066011, 40.83519966374829], [-74.09610891444471, 40.844097725404076], [-74.10719323579458, 40.817800321955886]]], &quot;type&quot;: &quot;Polygon&quot;}, &quot;id&quot;: &quot;11&quot;, &quot;properties&quot;: {}, &quot;type&quot;: &quot;Feature&quot;}, {&quot;bbox&quot;: [-74.09610891444471, 40.83519966374829, -74.05220863232232, 40.87039109581434], &quot;geometry&quot;: {&quot;coordinates&quot;: [[[-74.09610891444471, 40.844097725404076], [-74.06331796066011, 40.83519966374829], [-74.05220863232232, 40.86148955671982], [-74.08501376465779, 40.87039109581434], [-74.09610891444471, 40.844097725404076]]], &quot;type&quot;: &quot;Polygon&quot;}, &quot;id&quot;: &quot;12&quot;, &quot;properties&quot;: {}, &quot;type&quot;: &quot;Feature&quot;}, {&quot;bbox&quot;: [-74.08501376465779, 40.86148955671982, -74.04108845001286, 40.896680434100354], &quot;geometry&quot;: {&quot;coordinates&quot;: [[[-74.08501376465779, 40.87039109581434], [-74.05220863232232, 40.86148955671982], [-74.04108845001286, 40.887775413471346], [-74.0739077711646, 40.896680434100354], [-74.08501376465779, 40.87039109581434]]], &quot;type&quot;: &quot;Polygon&quot;}, &quot;id&quot;: &quot;13&quot;, &quot;properties&quot;: {}, &quot;type&quot;: &quot;Feature&quot;}, {&quot;bbox&quot;: [-74.0739077711646, 40.887775413471346, -74.02995739842758, 40.92296574117064], &quot;geometry&quot;: {&quot;coordinates&quot;: [[[-74.0739077711646, 40.896680434100354], [-74.04108845001286, 40.887775413471346], [-74.02995739842758, 40.9140572349065], [-74.06279091866847, 40.92296574117064], [-74.0739077711646, 40.896680434100354]]], &quot;type&quot;: &quot;Polygon&quot;}, &quot;id&quot;: &quot;14&quot;, &quot;properties&quot;: {}, &quot;type&quot;: &quot;Feature&quot;}, {&quot;bbox&quot;: [-74.06279091866847, 40.9140572349065, -74.01881546223478, 40.94924701792883], &quot;geometry&quot;: {&quot;coordinates&quot;: [[[-74.06279091866847, 40.92296574117064], [-74.02995739842758, 40.9140572349065], [-74.01881546223478, 40.940335021923865], [-74.05166319184514, 40.94924701792883], [-74.06279091866847, 40.92296574117064]]], &quot;type&quot;: &quot;Polygon&quot;}, &quot;id&quot;: &quot;15&quot;, &quot;properties&quot;: {}, &quot;type&quot;: &quot;Feature&quot;}, {&quot;bbox&quot;: [-74.05166319184514, 40.940335021923865, -74.00766262607517, 40.975524265273634], &quot;geometry&quot;: {&quot;coordinates&quot;: [[[-74.05166319184514, 40.94924701792883], [-74.01881546223478, 40.940335021923865], [-74.00766262607517, 40.96660877541711], [-74.04052457534276, 40.975524265273634], [-74.05166319184514, 40.94924701792883]]], &quot;type&quot;: &quot;Polygon&quot;}, &quot;id&quot;: &quot;16&quot;, &quot;properties&quot;: {}, &quot;type&quot;: &quot;Feature&quot;}, {&quot;bbox&quot;: [-74.04052457534276, 40.96660877541711, -73.9964988745618, 41.00179748409864], &quot;geometry&quot;: {&quot;coordinates&quot;: [[[-74.04052457534276, 40.975524265273634], [-74.00766262607517, 40.96660877541711], [-73.9964988745618, 40.99287849627477], [-74.02937505378183, 41.00179748409864], [-74.04052457534276, 40.975524265273634]]], &quot;type&quot;: &quot;Polygon&quot;}, &quot;id&quot;: &quot;17&quot;, &quot;properties&quot;: {}, &quot;type&quot;: &quot;Feature&quot;}, {&quot;bbox&quot;: [-74.1957888242904, 40.510536053491336, -74.15218356717352, 40.545744187135924], &quot;geometry&quot;: {&quot;coordinates&quot;: [[[-74.1957888242904, 40.51940578723482], [-74.16317787262558, 40.510536053491336], [-74.15218356717352, 40.53687102118652], [-74.18480855983562, 40.545744187135924], [-74.1957888242904, 40.51940578723482]]], &quot;type&quot;: &quot;Polygon&quot;}, &quot;id&quot;: &quot;18&quot;, &quot;properties&quot;: {}, &quot;type&quot;: &quot;Feature&quot;}, {&quot;bbox&quot;: [-74.18480855983562, 40.53687102118652, -74.1411785791234, 40.57207853958653], &quot;geometry&quot;: {&quot;coordinates&quot;: [[[-74.18480855983562, 40.545744187135924], [-74.15218356717352, 40.53687102118652], [-74.1411785791234, 40.56320193739218], [-74.17381762293168, 40.57207853958653], [-74.18480855983562, 40.545744187135924]]], &quot;type&quot;: &quot;Polygon&quot;}, &quot;id&quot;: &quot;19&quot;, &quot;properties&quot;: {}, &quot;type&quot;: &quot;Feature&quot;}, {&quot;bbox&quot;: [-74.17381762293168, 40.56320193739218, -74.13016289348965, 40.59840884554963], &quot;geometry&quot;: {&quot;coordinates&quot;: [[[-74.17381762293168, 40.57207853958653], [-74.1411785791234, 40.56320193739218], [-74.13016289348965, 40.589528803066415], [-74.16281599860044, 40.59840884554963], [-74.17381762293168, 40.57207853958653]]], &quot;type&quot;: &quot;Polygon&quot;}, &quot;id&quot;: &quot;20&quot;, &quot;properties&quot;: {}, &quot;type&quot;: &quot;Feature&quot;}, {&quot;bbox&quot;: [-74.16281599860044, 40.589528803066415, -74.11913649525982, 40.62473510598348], &quot;geometry&quot;: {&quot;coordinates&quot;: [[[-74.16281599860044, 40.59840884554963], [-74.13016289348965, 40.589528803066415], [-74.11913649525982, 40.615851619162584], [-74.1518036718369, 40.62473510598348], [-74.16281599860044, 40.59840884554963]]], &quot;type&quot;: &quot;Polygon&quot;}, &quot;id&quot;: &quot;21&quot;, &quot;properties&quot;: {}, &quot;type&quot;: &quot;Feature&quot;}, {&quot;bbox&quot;: [-74.1518036718369, 40.615851619162584, -74.10809936939458, 40.651057321841286], &quot;geometry&quot;: {&quot;coordinates&quot;: [[[-74.1518036718369, 40.62473510598348], [-74.11913649525982, 40.615851619162584], [-74.10809936939458, 40.64217038662898], [-74.14078062760915, 40.651057321841286], [-74.1518036718369, 40.62473510598348]]], &quot;type&quot;: &quot;Polygon&quot;}, &quot;id&quot;: &quot;22&quot;, &quot;properties&quot;: {}, &quot;type&quot;: &quot;Feature&quot;}, {&quot;bbox&quot;: [-74.14078062760915, 40.64217038662898, -74.09705150082765, 40.67737549407126], &quot;geometry&quot;: {&quot;coordinates&quot;: [[[-74.14078062760915, 40.651057321841286], [-74.10809936939458, 40.64217038662898], [-74.09705150082765, 40.668485106408994], [-74.12974685085834, 40.67737549407126], [-74.14078062760915, 40.651057321841286]]], &quot;type&quot;: &quot;Polygon&quot;}, &quot;id&quot;: &quot;23&quot;, &quot;properties&quot;: {}, &quot;type&quot;: &quot;Feature&quot;}, {&quot;bbox&quot;: [-74.12974685085834, 40.668485106408994, -74.08599287446567, 40.70368962361687], &quot;geometry&quot;: {&quot;coordinates&quot;: [[[-74.12974685085834, 40.67737549407126], [-74.09705150082765, 40.668485106408994], [-74.08599287446567, 40.69479577944098], [-74.11870232649855, 40.70368962361687], [-74.12974685085834, 40.67737549407126]]], &quot;type&quot;: &quot;Polygon&quot;}, &quot;id&quot;: &quot;24&quot;, &quot;properties&quot;: {}, &quot;type&quot;: &quot;Feature&quot;}, {&quot;bbox&quot;: [-74.11870232649855, 40.69479577944098, -74.0749234751883, 40.72999971141642], &quot;geometry&quot;: {&quot;coordinates&quot;: [[[-74.11870232649855, 40.70368962361687], [-74.08599287446567, 40.69479577944098], [-74.0749234751883, 40.72110240665843], [-74.1076470394168, 40.72999971141642], [-74.11870232649855, 40.70368962361687]]], &quot;type&quot;: &quot;Polygon&quot;}, &quot;id&quot;: &quot;25&quot;, &quot;properties&quot;: {}, &quot;type&quot;: &quot;Feature&quot;}, {&quot;bbox&quot;: [-74.1076470394168, 40.72110240665843, -74.063843287848, 40.756305758403336], &quot;geometry&quot;: {&quot;coordinates&quot;: [[[-74.1076470394168, 40.72999971141642], [-74.0749234751883, 40.72110240665843], [-74.063843287848, 40.74740498898982], [-74.09658097447304, 40.756305758403336], [-74.1076470394168, 40.72999971141642]]], &quot;type&quot;: &quot;Polygon&quot;}, &quot;id&quot;: &quot;26&quot;, &quot;properties&quot;: {}, &quot;type&quot;: &quot;Feature&quot;}, {&quot;bbox&quot;: [-74.09658097447304, 40.74740498898982, -74.05275229727003, 40.78260776550613], &quot;geometry&quot;: {&quot;coordinates&quot;: [[[-74.09658097447304, 40.756305758403336], [-74.063843287848, 40.74740498898982], [-74.05275229727003, 40.773703527358634], [-74.08550411649993, 40.78260776550613], [-74.09658097447304, 40.756305758403336]]], &quot;type&quot;: &quot;Polygon&quot;}, &quot;id&quot;: &quot;27&quot;, &quot;properties&quot;: {}, &quot;type&quot;: &quot;Feature&quot;}, {&quot;bbox&quot;: [-74.08550411649993, 40.773703527358634, -74.04165048825246, 40.80890573364825], &quot;geometry&quot;: {&quot;coordinates&quot;: [[[-74.08550411649993, 40.78260776550613], [-74.05275229727003, 40.773703527358634], [-74.04165048825246, 40.79999802268339], [-74.0744164503029, 40.80890573364825], [-74.08550411649993, 40.78260776550613]]], &quot;type&quot;: &quot;Polygon&quot;}, &quot;id&quot;: &quot;28&quot;, &quot;properties&quot;: {}, &quot;type&quot;: &quot;Feature&quot;}, {&quot;bbox&quot;: [-74.0744164503029, 40.79999802268339, -74.03053784556597, 40.83519966374829], &quot;geometry&quot;: {&quot;coordinates&quot;: [[[-74.0744164503029, 40.80890573364825], [-74.04165048825246, 40.79999802268339], [-74.03053784556597, 40.826288475877746], [-74.06331796066011, 40.83519966374829], [-74.0744164503029, 40.80890573364825]]], &quot;type&quot;: &quot;Polygon&quot;}, &quot;id&quot;: &quot;29&quot;, &quot;properties&quot;: {}, &quot;type&quot;: &quot;Feature&quot;}, {&quot;bbox&quot;: [-74.06331796066011, 40.826288475877746, -74.01941435395396, 40.86148955671982], &quot;geometry&quot;: {&quot;coordinates&quot;: [[[-74.06331796066011, 40.83519966374829], [-74.03053784556597, 40.826288475877746], [-74.01941435395396, 40.85257488785016], [-74.05220863232232, 40.86148955671982], [-74.06331796066011, 40.83519966374829]]], &quot;type&quot;: &quot;Polygon&quot;}, &quot;id&quot;: &quot;30&quot;, &quot;properties&quot;: {}, &quot;type&quot;: &quot;Feature&quot;}, {&quot;bbox&quot;: [-74.05220863232232, 40.85257488785016, -74.00827999813235, 40.887775413471346], &quot;geometry&quot;: {&quot;coordinates&quot;: [[[-74.05220863232232, 40.86148955671982], [-74.01941435395396, 40.85257488785016], [-74.00827999813235, 40.87885725950425], [-74.04108845001286, 40.887775413471346], [-74.05220863232232, 40.86148955671982]]], &quot;type&quot;: &quot;Polygon&quot;}, &quot;id&quot;: &quot;31&quot;, &quot;properties&quot;: {}, &quot;type&quot;: &quot;Feature&quot;}, {&quot;bbox&quot;: [-74.04108845001286, 40.87885725950425, -73.9971347627896, 40.9140572349065], &quot;geometry&quot;: {&quot;coordinates&quot;: [[[-74.04108845001286, 40.887775413471346], [-74.00827999813235, 40.87885725950425], [-73.9971347627896, 40.905135591738656], [-74.02995739842758, 40.9140572349065], [-74.04108845001286, 40.887775413471346]]], &quot;type&quot;: &quot;Polygon&quot;}, &quot;id&quot;: &quot;32&quot;, &quot;properties&quot;: {}, &quot;type&quot;: &quot;Feature&quot;}, {&quot;bbox&quot;: [-74.02995739842758, 40.905135591738656, -73.98597863258664, 40.940335021923865], &quot;geometry&quot;: {&quot;coordinates&quot;: [[[-74.02995739842758, 40.9140572349065], [-73.9971347627896, 40.905135591738656], [-73.98597863258664, 40.93140988544691], [-74.01881546223478, 40.940335021923865], [-74.02995739842758, 40.9140572349065]]], &quot;type&quot;: &quot;Polygon&quot;}, &quot;id&quot;: &quot;33&quot;, &quot;properties&quot;: {}, &quot;type&quot;: &quot;Feature&quot;}, {&quot;bbox&quot;: [-74.01881546223478, 40.93140988544691, -73.97481159215674, 40.96660877541711], &quot;geometry&quot;: {&quot;coordinates&quot;: [[[-74.01881546223478, 40.940335021923865], [-73.98597863258664, 40.93140988544691], [-73.97481159215674, 40.95768014151761], [-74.00766262607517, 40.96660877541711], [-74.01881546223478, 40.940335021923865]]], &quot;type&quot;: &quot;Polygon&quot;}, &quot;id&quot;: &quot;34&quot;, &quot;properties&quot;: {}, &quot;type&quot;: &quot;Feature&quot;}, {&quot;bbox&quot;: [-74.00766262607517, 40.95768014151761, -73.96363362610559, 40.99287849627477], &quot;geometry&quot;: {&quot;coordinates&quot;: [[[-74.00766262607517, 40.96660877541711], [-73.97481159215674, 40.95768014151761], [-73.96363362610559, 40.98394636083441], [-73.9964988745618, 40.99287849627477], [-74.00766262607517, 40.96660877541711]]], &quot;type&quot;: &quot;Polygon&quot;}, &quot;id&quot;: &quot;35&quot;, &quot;properties&quot;: {}, &quot;type&quot;: &quot;Feature&quot;}, {&quot;bbox&quot;: [-74.16317787262558, 40.5016532409416, -74.11956925710501, 40.53687102118652], &quot;geometry&quot;: {&quot;coordinates&quot;: [[[-74.16317787262558, 40.510536053491336], [-74.13057758859557, 40.5016532409416], [-74.11956925710501, 40.52798477291072], [-74.15218356717352, 40.53687102118652], [-74.16317787262558, 40.510536053491336]]], &quot;type&quot;: &quot;Polygon&quot;}, &quot;id&quot;: &quot;36&quot;, &quot;properties&quot;: {}, &quot;type&quot;: &quot;Feature&quot;}, {&quot;bbox&quot;: [-74.15218356717352, 40.52798477291072, -74.1085502328943, 40.56320193739218], &quot;geometry&quot;: {&quot;coordinates&quot;: [[[-74.15218356717352, 40.53687102118652], [-74.11956925710501, 40.52798477291072], [-74.1085502328943, 40.55431224934851], [-74.1411785791234, 40.56320193739218], [-74.15218356717352, 40.53687102118652]]], &quot;type&quot;: &quot;Polygon&quot;}, &quot;id&quot;: &quot;37&quot;, &quot;properties&quot;: {}, &quot;type&quot;: &quot;Feature&quot;}, {&quot;bbox&quot;: [-74.1411785791234, 40.55431224934851, -74.09752050097045, 40.589528803066415], &quot;geometry&quot;: {&quot;coordinates&quot;: [[[-74.1411785791234, 40.56320193739218], [-74.1085502328943, 40.55431224934851], [-74.09752050097045, 40.580635671208455], [-74.13016289348965, 40.589528803066415], [-74.1411785791234, 40.56320193739218]]], &quot;type&quot;: &quot;Polygon&quot;}, &quot;id&quot;: &quot;38&quot;, &quot;properties&quot;: {}, &quot;type&quot;: &quot;Feature&quot;}, {&quot;bbox&quot;: [-74.13016289348965, 40.580635671208455, -74.08648004631365, 40.615851619162584], &quot;geometry&quot;: {&quot;coordinates&quot;: [[[-74.13016289348965, 40.589528803066415], [-74.09752050097045, 40.580635671208455], [-74.08648004631365, 40.606955039438766], [-74.11913649525982, 40.615851619162584], [-74.13016289348965, 40.589528803066415]]], &quot;type&quot;: &quot;Polygon&quot;}, &quot;id&quot;: &quot;39&quot;, &quot;properties&quot;: {}, &quot;type&quot;: &quot;Feature&quot;}, {&quot;bbox&quot;: [-74.11913649525982, 40.606955039438766, -74.07542885387721, 40.64217038662898], &quot;geometry&quot;: {&quot;coordinates&quot;: [[[-74.11913649525982, 40.615851619162584], [-74.08648004631365, 40.606955039438766], [-74.07542885387721, 40.633270354983004], [-74.10809936939458, 40.64217038662898], [-74.11913649525982, 40.615851619162584]]], &quot;type&quot;: &quot;Polygon&quot;}, &quot;id&quot;: &quot;40&quot;, &quot;properties&quot;: {}, &quot;type&quot;: &quot;Feature&quot;}, {&quot;bbox&quot;: [-74.10809936939458, 40.633270354983004, -74.06436690858746, 40.668485106408994], &quot;geometry&quot;: {&quot;coordinates&quot;: [[[-74.10809936939458, 40.64217038662898], [-74.07542885387721, 40.633270354983004], [-74.06436690858746, 40.65958161877945], [-74.09705150082765, 40.668485106408994], [-74.10809936939458, 40.64217038662898]]], &quot;type&quot;: &quot;Polygon&quot;}, &quot;id&quot;: &quot;41&quot;, &quot;properties&quot;: {}, &quot;type&quot;: &quot;Feature&quot;}, {&quot;bbox&quot;: [-74.09705150082765, 40.65958161877945, -74.05329419534371, 40.69479577944098], &quot;geometry&quot;: {&quot;coordinates&quot;: [[[-74.09705150082765, 40.668485106408994], [-74.06436690858746, 40.65958161877945], [-74.05329419534371, 40.68588883176165], [-74.08599287446567, 40.69479577944098], [-74.09705150082765, 40.668485106408994]]], &quot;type&quot;: &quot;Polygon&quot;}, &quot;id&quot;: &quot;42&quot;, &quot;properties&quot;: {}, &quot;type&quot;: &quot;Feature&quot;}, {&quot;bbox&quot;: [-74.08599287446567, 40.68588883176165, -74.04221069901821, 40.72110240665843], &quot;geometry&quot;: {&quot;coordinates&quot;: [[[-74.08599287446567, 40.69479577944098], [-74.05329419534371, 40.68588883176165], [-74.04221069901821, 40.71219199485811], [-74.0749234751883, 40.72110240665843], [-74.08599287446567, 40.69479577944098]]], &quot;type&quot;: &quot;Polygon&quot;}, &quot;id&quot;: &quot;43&quot;, &quot;properties&quot;: {}, &quot;type&quot;: &quot;Feature&quot;}, {&quot;bbox&quot;: [-74.0749234751883, 40.71219199485811, -74.03111640445606, 40.74740498898982], &quot;geometry&quot;: {&quot;coordinates&quot;: [[[-74.0749234751883, 40.72110240665843], [-74.04221069901821, 40.71219199485811], [-74.03111640445606, 40.738491108992434], [-74.063843287848, 40.74740498898982], [-74.0749234751883, 40.72110240665843]]], &quot;type&quot;: &quot;Polygon&quot;}, &quot;id&quot;: &quot;44&quot;, &quot;properties&quot;: {}, &quot;type&quot;: &quot;Feature&quot;}, {&quot;bbox&quot;: [-74.063843287848, 40.738491108992434, -74.0200112964752, 40.773703527358634], &quot;geometry&quot;: {&quot;coordinates&quot;: [[[-74.063843287848, 40.74740498898982], [-74.03111640445606, 40.738491108992434], [-74.0200112964752, 40.764786175083024], [-74.05275229727003, 40.773703527358634], [-74.063843287848, 40.74740498898982]]], &quot;type&quot;: &quot;Polygon&quot;}, &quot;id&quot;: &quot;45&quot;, &quot;properties&quot;: {}, &quot;type&quot;: &quot;Feature&quot;}, {&quot;bbox&quot;: [-74.05275229727003, 40.764786175083024, -74.00889535986633, 40.79999802268339], &quot;geometry&quot;: {&quot;coordinates&quot;: [[[-74.05275229727003, 40.773703527358634], [-74.0200112964752, 40.764786175083024], [-74.00889535986633, 40.79107719404361], [-74.04165048825246, 40.79999802268339], [-74.05275229727003, 40.773703527358634]]], &quot;type&quot;: &quot;Polygon&quot;}, &quot;id&quot;: &quot;46&quot;, &quot;properties&quot;: {}, &quot;type&quot;: &quot;Feature&quot;}, {&quot;bbox&quot;: [-74.04165048825246, 40.79107719404361, -73.99776857939278, 40.826288475877746], &quot;geometry&quot;: {&quot;coordinates&quot;: [[[-74.04165048825246, 40.79999802268339], [-74.00889535986633, 40.79107719404361], [-73.99776857939278, 40.81736416678269], [-74.03053784556597, 40.826288475877746], [-74.04165048825246, 40.79999802268339]]], &quot;type&quot;: &quot;Polygon&quot;}, &quot;id&quot;: &quot;47&quot;, &quot;properties&quot;: {}, &quot;type&quot;: &quot;Feature&quot;}, {&quot;bbox&quot;: [-74.03053784556597, 40.81736416678269, -73.98663093979062, 40.85257488785016], &quot;geometry&quot;: {&quot;coordinates&quot;: [[[-74.03053784556597, 40.826288475877746], [-73.99776857939278, 40.81736416678269], [-73.98663093979062, 40.84364709420388], [-74.01941435395396, 40.85257488785016], [-74.03053784556597, 40.826288475877746]]], &quot;type&quot;: &quot;Polygon&quot;}, &quot;id&quot;: &quot;48&quot;, &quot;properties&quot;: {}, &quot;type&quot;: &quot;Feature&quot;}, {&quot;bbox&quot;: [-74.01941435395396, 40.84364709420388, -73.97548242576839, 40.87885725950425], &quot;geometry&quot;: {&quot;coordinates&quot;: [[[-74.01941435395396, 40.85257488785016], [-73.98663093979062, 40.84364709420388], [-73.97548242576839, 40.86992597720567], [-74.00827999813235, 40.87885725950425], [-74.01941435395396, 40.85257488785016]]], &quot;type&quot;: &quot;Polygon&quot;}, &quot;id&quot;: &quot;49&quot;, &quot;properties&quot;: {}, &quot;type&quot;: &quot;Feature&quot;}, {&quot;bbox&quot;: [-74.00827999813235, 40.86992597720567, -73.96432302200725, 40.905135591738656], &quot;geometry&quot;: {&quot;coordinates&quot;: [[[-74.00827999813235, 40.87885725950425], [-73.97548242576839, 40.86992597720567], [-73.96432302200725, 40.89620081668182], [-73.9971347627896, 40.905135591738656], [-74.00827999813235, 40.87885725950425]]], &quot;type&quot;: &quot;Polygon&quot;}, &quot;id&quot;: &quot;50&quot;, &quot;properties&quot;: {}, &quot;type&quot;: &quot;Feature&quot;}, {&quot;bbox&quot;: [-73.9971347627896, 40.89620081668182, -73.95315271316078, 40.93140988544691], &quot;geometry&quot;: {&quot;coordinates&quot;: [[[-73.9971347627896, 40.905135591738656], [-73.96432302200725, 40.89620081668182], [-73.95315271316078, 40.92247161352072], [-73.98597863258664, 40.93140988544691], [-73.9971347627896, 40.905135591738656]]], &quot;type&quot;: &quot;Polygon&quot;}, &quot;id&quot;: &quot;51&quot;, &quot;properties&quot;: {}, &quot;type&quot;: &quot;Feature&quot;}, {&quot;bbox&quot;: [-73.98597863258664, 40.92247161352072, -73.94197148385493, 40.95768014151761], &quot;geometry&quot;: {&quot;coordinates&quot;: [[[-73.98597863258664, 40.93140988544691], [-73.95315271316078, 40.92247161352072], [-73.94197148385493, 40.94873836860605], [-73.97481159215674, 40.95768014151761], [-73.98597863258664, 40.93140988544691]]], &quot;type&quot;: &quot;Polygon&quot;}, &quot;id&quot;: &quot;52&quot;, &quot;properties&quot;: {}, &quot;type&quot;: &quot;Feature&quot;}, {&quot;bbox&quot;: [-73.97481159215674, 40.94873836860605, -73.93077931868808, 40.98394636083441], &quot;geometry&quot;: {&quot;coordinates&quot;: [[[-73.97481159215674, 40.95768014151761], [-73.94197148385493, 40.94873836860605], [-73.93077931868808, 40.97500108281636], [-73.96363362610559, 40.98394636083441], [-73.97481159215674, 40.95768014151761]]], &quot;type&quot;: &quot;Polygon&quot;}, &quot;id&quot;: &quot;53&quot;, &quot;properties&quot;: {}, &quot;type&quot;: &quot;Feature&quot;}, {&quot;bbox&quot;: [-74.13057758859557, 40.49275735448307, -74.08696563975221, 40.52798477291072], &quot;geometry&quot;: {&quot;coordinates&quot;: [[[-74.13057758859557, 40.5016532409416], [-74.09798798231508, 40.49275735448307], [-74.08696563975221, 40.51908544721384], [-74.11956925710501, 40.52798477291072], [-74.13057758859557, 40.5016532409416]]], &quot;type&quot;: &quot;Polygon&quot;}, &quot;id&quot;: &quot;54&quot;, &quot;properties&quot;: {}, &quot;type&quot;: &quot;Feature&quot;}, {&quot;bbox&quot;: [-74.11956925710501, 40.51908544721384, -74.07593259437385, 40.55431224934851], &quot;geometry&quot;: {&quot;coordinates&quot;: [[[-74.11956925710501, 40.52798477291072], [-74.08696563975221, 40.51908544721384], [-74.07593259437385, 40.54540948036902], [-74.1085502328943, 40.55431224934851], [-74.11956925710501, 40.52798477291072]]], &quot;type&quot;: &quot;Polygon&quot;}, &quot;id&quot;: &quot;55&quot;, &quot;properties&quot;: {}, &quot;type&quot;: &quot;Feature&quot;}, {&quot;bbox&quot;: [-74.1085502328943, 40.54540948036902, -74.06488883117972, 40.580635671208455], &quot;geometry&quot;: {&quot;coordinates&quot;: [[[-74.1085502328943, 40.55431224934851], [-74.07593259437385, 40.54540948036902], [-74.06488883117972, 40.57172945489696], [-74.09752050097045, 40.580635671208455], [-74.1085502328943, 40.55431224934851]]], &quot;type&quot;: &quot;Polygon&quot;}, &quot;id&quot;: &quot;56&quot;, &quot;properties&quot;: {}, &quot;type&quot;: &quot;Feature&quot;}, {&quot;bbox&quot;: [-74.09752050097045, 40.57172945489696, -74.05383433514265, 40.606955039438766], &quot;geometry&quot;: {&quot;coordinates&quot;: [[[-74.09752050097045, 40.580635671208455], [-74.06488883117972, 40.57172945489696], [-74.05383433514265, 40.598045371741286], [-74.08648004631365, 40.606955039438766], [-74.09752050097045, 40.580635671208455]]], &quot;type&quot;: &quot;Polygon&quot;}, &quot;id&quot;: &quot;57&quot;, &quot;properties&quot;: {}, &quot;type&quot;: &quot;Feature&quot;}, {&quot;bbox&quot;: [-74.08648004631365, 40.598045371741286, -74.04276909120867, 40.633270354983004], &quot;geometry&quot;: {&quot;coordinates&quot;: [[[-74.08648004631365, 40.606955039438766], [-74.05383433514265, 40.598045371741286], [-74.04276909120867, 40.62435723184038], [-74.07542885387721, 40.633270354983004], [-74.08648004631365, 40.606955039438766]]], &quot;type&quot;: &quot;Polygon&quot;}, &quot;id&quot;: &quot;58&quot;, &quot;properties&quot;: {}, &quot;type&quot;: &quot;Feature&quot;}, {&quot;bbox&quot;: [-74.07542885387721, 40.62435723184038, -74.03169308429679, 40.65958161877945], &quot;geometry&quot;: {&quot;coordinates&quot;: [[[-74.07542885387721, 40.633270354983004], [-74.04276909120867, 40.62435723184038], [-74.03169308429679, 40.65066503612775], [-74.06436690858746, 40.65958161877945], [-74.07542885387721, 40.633270354983004]]], &quot;type&quot;: &quot;Polygon&quot;}, &quot;id&quot;: &quot;59&quot;, &quot;properties&quot;: {}, &quot;type&quot;: &quot;Feature&quot;}, {&quot;bbox&quot;: [-74.06436690858746, 40.65066503612775, -74.02060629929898, 40.68588883176165], &quot;geometry&quot;: {&quot;coordinates&quot;: [[[-74.06436690858746, 40.65958161877945], [-74.03169308429679, 40.65066503612775], [-74.02060629929898, 40.67696878553198], [-74.05329419534371, 40.68588883176165], [-74.06436690858746, 40.65958161877945]]], &quot;type&quot;: &quot;Polygon&quot;}, &quot;id&quot;: &quot;60&quot;, &quot;properties&quot;: {}, &quot;type&quot;: &quot;Feature&quot;}, {&quot;bbox&quot;: [-74.05329419534371, 40.67696878553198, -74.00950872108021, 40.71219199485811], &quot;geometry&quot;: {&quot;coordinates&quot;: [[[-74.05329419534371, 40.68588883176165], [-74.02060629929898, 40.67696878553198], [-74.00950872108021, 40.703268480976675], [-74.04221069901821, 40.71219199485811], [-74.05329419534371, 40.68588883176165]]], &quot;type&quot;: &quot;Polygon&quot;}, &quot;id&quot;: &quot;61&quot;, &quot;properties&quot;: {}, &quot;type&quot;: &quot;Feature&quot;}, {&quot;bbox&quot;: [-74.04221069901821, 40.703268480976675, -73.9984003344783, 40.738491108992434], &quot;geometry&quot;: {&quot;coordinates&quot;: [[[-74.04221069901821, 40.71219199485811], [-74.00950872108021, 40.703268480976675], [-73.9984003344783, 40.729564123380385], [-74.03111640445606, 40.738491108992434], [-74.04221069901821, 40.71219199485811]]], &quot;type&quot;: &quot;Polygon&quot;}, &quot;id&quot;: &quot;62&quot;, &quot;properties&quot;: {}, &quot;type&quot;: &quot;Feature&quot;}, {&quot;bbox&quot;: [-74.03111640445606, 40.729564123380385, -73.98728112430385, 40.764786175083024], &quot;geometry&quot;: {&quot;coordinates&quot;: [[[-74.03111640445606, 40.738491108992434], [-73.9984003344783, 40.729564123380385], [-73.98728112430385, 40.75585571365669], [-74.0200112964752, 40.764786175083024], [-74.03111640445606, 40.738491108992434]]], &quot;type&quot;: &quot;Polygon&quot;}, &quot;id&quot;: &quot;63&quot;, &quot;properties&quot;: {}, &quot;type&quot;: &quot;Feature&quot;}, {&quot;bbox&quot;: [-74.0200112964752, 40.75585571365669, -73.97615107534028, 40.79107719404361], &quot;geometry&quot;: {&quot;coordinates&quot;: [[[-74.0200112964752, 40.764786175083024], [-73.98728112430385, 40.75585571365669], [-73.97615107534028, 40.78214325271422], [-74.00889535986633, 40.79107719404361], [-74.0200112964752, 40.764786175083024]]], &quot;type&quot;: &quot;Polygon&quot;}, &quot;id&quot;: &quot;64&quot;, &quot;properties&quot;: {}, &quot;type&quot;: &quot;Feature&quot;}, {&quot;bbox&quot;: [-74.00889535986633, 40.78214325271422, -73.96501017234367, 40.81736416678269], &quot;geometry&quot;: {&quot;coordinates&quot;: [[[-74.00889535986633, 40.79107719404361], [-73.97615107534028, 40.78214325271422], [-73.96501017234367, 40.80842674145655], [-73.99776857939278, 40.81736416678269], [-74.00889535986633, 40.79107719404361]]], &quot;type&quot;: &quot;Polygon&quot;}, &quot;id&quot;: &quot;65&quot;, &quot;properties&quot;: {}, &quot;type&quot;: &quot;Feature&quot;}, {&quot;bbox&quot;: [-73.99776857939278, 40.80842674145655, -73.95385840004272, 40.84364709420388], &quot;geometry&quot;: {&quot;coordinates&quot;: [[[-73.99776857939278, 40.81736416678269], [-73.96501017234367, 40.80842674145655], [-73.95385840004272, 40.83470618078236], [-73.98663093979062, 40.84364709420388], [-73.99776857939278, 40.81736416678269]]], &quot;type&quot;: &quot;Polygon&quot;}, &quot;id&quot;: &quot;66&quot;, &quot;properties&quot;: {}, &quot;type&quot;: &quot;Feature&quot;}, {&quot;bbox&quot;: [-73.98663093979062, 40.83470618078236, -73.94269574313877, 40.86992597720567], &quot;geometry&quot;: {&quot;coordinates&quot;: [[[-73.98663093979062, 40.84364709420388], [-73.95385840004272, 40.83470618078236], [-73.94269574313877, 40.860981571585135], [-73.97548242576839, 40.86992597720567], [-73.98663093979062, 40.84364709420388]]], &quot;type&quot;: &quot;Polygon&quot;}, &quot;id&quot;: &quot;67&quot;, &quot;properties&quot;: {}, &quot;type&quot;: &quot;Feature&quot;}, {&quot;bbox&quot;: [-73.97548242576839, 40.860981571585135, -73.93152218630566, 40.89620081668182], &quot;geometry&quot;: {&quot;coordinates&quot;: [[[-73.97548242576839, 40.86992597720567], [-73.94269574313877, 40.860981571585135], [-73.93152218630566, 40.88725291475351], [-73.96432302200725, 40.89620081668182], [-73.97548242576839, 40.86992597720567]]], &quot;type&quot;: &quot;Polygon&quot;}, &quot;id&quot;: &quot;68&quot;, &quot;properties&quot;: {}, &quot;type&quot;: &quot;Feature&quot;}, {&quot;bbox&quot;: [-73.96432302200725, 40.88725291475351, -73.92033771418967, 40.92247161352072], &quot;geometry&quot;: {&quot;coordinates&quot;: [[[-73.96432302200725, 40.89620081668182], [-73.93152218630566, 40.88725291475351], [-73.92033771418967, 40.91352021117112], [-73.95315271316078, 40.92247161352072], [-73.96432302200725, 40.89620081668182]]], &quot;type&quot;: &quot;Polygon&quot;}, &quot;id&quot;: &quot;69&quot;, &quot;properties&quot;: {}, &quot;type&quot;: &quot;Feature&quot;}, {&quot;bbox&quot;: [-73.95315271316078, 40.91352021117112, -73.90914231140954, 40.94873836860605], &quot;geometry&quot;: {&quot;coordinates&quot;: [[[-73.95315271316078, 40.92247161352072], [-73.92033771418967, 40.91352021117112], [-73.90914231140954, 40.9397834617164], [-73.94197148385493, 40.94873836860605], [-73.95315271316078, 40.92247161352072]]], &quot;type&quot;: &quot;Polygon&quot;}, &quot;id&quot;: &quot;70&quot;, &quot;properties&quot;: {}, &quot;type&quot;: &quot;Feature&quot;}, {&quot;bbox&quot;: [-73.94197148385493, 40.9397834617164, -73.89793596255633, 40.97500108281636], &quot;geometry&quot;: {&quot;coordinates&quot;: [[[-73.94197148385493, 40.94873836860605], [-73.90914231140954, 40.9397834617164], [-73.89793596255633, 40.966042667262904], [-73.93077931868808, 40.97500108281636], [-73.94197148385493, 40.94873836860605]]], &quot;type&quot;: &quot;Polygon&quot;}, &quot;id&quot;: &quot;71&quot;, &quot;properties&quot;: {}, &quot;type&quot;: &quot;Feature&quot;}, {&quot;bbox&quot;: [-74.09798798231508, 40.483848399016125, -74.05437272521043, 40.51908544721384], &quot;geometry&quot;: {&quot;coordinates&quot;: [[[-74.09798798231508, 40.49275735448307], [-74.06540906387212, 40.483848399016125], [-74.05437272521043, 40.51017304900431], [-74.08696563975221, 40.51908544721384], [-74.09798798231508, 40.49275735448307]]], &quot;type&quot;: &quot;Polygon&quot;}, &quot;id&quot;: &quot;72&quot;, &quot;properties&quot;: {}, &quot;type&quot;: &quot;Feature&quot;}, {&quot;bbox&quot;: [-74.08696563975221, 40.51017304900431, -74.04332567366471, 40.54540948036902], &quot;geometry&quot;: {&quot;coordinates&quot;: [[[-74.08696563975221, 40.51908544721384], [-74.05437272521043, 40.51017304900431], [-74.04332567366471, 40.53649363536986], [-74.07593259437385, 40.54540948036902], [-74.08696563975221, 40.51908544721384]]], &quot;type&quot;: &quot;Polygon&quot;}, &quot;id&quot;: &quot;73&quot;, &quot;properties&quot;: {}, &quot;type&quot;: &quot;Feature&quot;}, {&quot;bbox&quot;: [-74.07593259437385, 40.53649363536986, -74.03226789422739, 40.57172945489696], &quot;geometry&quot;: {&quot;coordinates&quot;: [[[-74.07593259437385, 40.54540948036902], [-74.04332567366471, 40.53649363536986], [-74.03226789422739, 40.56281015905637], [-74.06488883117972, 40.57172945489696], [-74.07593259437385, 40.54540948036902]]], &quot;type&quot;: &quot;Polygon&quot;}, &quot;id&quot;: &quot;74&quot;, &quot;properties&quot;: {}, &quot;type&quot;: &quot;Feature&quot;}, {&quot;bbox&quot;: [-74.06488883117972, 40.56281015905637, -74.02119937186409, 40.598045371741286], &quot;geometry&quot;: {&quot;coordinates&quot;: [[[-74.06488883117972, 40.57172945489696], [-74.03226789422739, 40.56281015905637], [-74.02119937186409, 40.589122621002346], [-74.05383433514265, 40.598045371741286], [-74.06488883117972, 40.57172945489696]]], &quot;type&quot;: &quot;Polygon&quot;}, &quot;id&quot;: &quot;75&quot;, &quot;properties&quot;: {}, &quot;type&quot;: &quot;Feature&quot;}, {&quot;bbox&quot;: [-74.05383433514265, 40.589122621002346, -74.01012009151353, 40.62435723184038], &quot;geometry&quot;: {&quot;coordinates&quot;: [[[-74.05383433514265, 40.598045371741286], [-74.02119937186409, 40.589122621002346], [-74.01012009151353, 40.61543102214143], [-74.04276909120867, 40.62435723184038], [-74.05383433514265, 40.598045371741286]]], &quot;type&quot;: &quot;Polygon&quot;}, &quot;id&quot;: &quot;76&quot;, &quot;properties&quot;: {}, &quot;type&quot;: &quot;Feature&quot;}, {&quot;bbox&quot;: [-74.04276909120867, 40.61543102214143, -73.99903003808748, 40.65066503612775], &quot;geometry&quot;: {&quot;coordinates&quot;: [[[-74.04276909120867, 40.62435723184038], [-74.01012009151353, 40.61543102214143], [-73.99903003808748, 40.641735363402184], [-74.03169308429679, 40.65066503612775], [-74.04276909120867, 40.62435723184038]]], &quot;type&quot;: &quot;Polygon&quot;}, &quot;id&quot;: &quot;77&quot;, &quot;properties&quot;: {}, &quot;type&quot;: &quot;Feature&quot;}, {&quot;bbox&quot;: [-74.03169308429679, 40.641735363402184, -73.98792919647069, 40.67696878553198], &quot;geometry&quot;: {&quot;coordinates&quot;: [[[-74.03169308429679, 40.65066503612775], [-73.99903003808748, 40.641735363402184], [-73.98792919647069, 40.66803564570826], [-74.02060629929898, 40.67696878553198], [-74.03169308429679, 40.65066503612775]]], &quot;type&quot;: &quot;Polygon&quot;}, &quot;id&quot;: &quot;78&quot;, &quot;properties&quot;: {}, &quot;type&quot;: &quot;Feature&quot;}, {&quot;bbox&quot;: [-74.02060629929898, 40.66803564570826, -73.97681755152084, 40.703268480976675], &quot;geometry&quot;: {&quot;coordinates&quot;: [[[-74.02060629929898, 40.67696878553198], [-73.98792919647069, 40.66803564570826], [-73.97681755152084, 40.6943318699783], [-74.00950872108021, 40.703268480976675], [-74.02060629929898, 40.67696878553198]]], &quot;type&quot;: &quot;Polygon&quot;}, &quot;id&quot;: &quot;79&quot;, &quot;properties&quot;: {}, &quot;type&quot;: &quot;Feature&quot;}, {&quot;bbox&quot;: [-74.00950872108021, 40.6943318699783, -73.96569508806851, 40.729564123380385], &quot;geometry&quot;: {&quot;coordinates&quot;: [[[-74.00950872108021, 40.703268480976675], [-73.97681755152084, 40.6943318699783], [-73.96569508806851, 40.72062403712594], [-73.9984003344783, 40.729564123380385], [-74.00950872108021, 40.703268480976675]]], &quot;type&quot;: &quot;Polygon&quot;}, &quot;id&quot;: &quot;80&quot;, &quot;properties&quot;: {}, &quot;type&quot;: &quot;Feature&quot;}, {&quot;bbox&quot;: [-73.9984003344783, 40.72062403712594, -73.9545617909171, 40.75585571365669], &quot;geometry&quot;: {&quot;coordinates&quot;: [[[-73.9984003344783, 40.729564123380385], [-73.96569508806851, 40.72062403712594], [-73.9545617909171, 40.746912148059785], [-73.98728112430385, 40.75585571365669], [-73.9984003344783, 40.729564123380385]]], &quot;type&quot;: &quot;Polygon&quot;}, &quot;id&quot;: &quot;81&quot;, &quot;properties&quot;: {}, &quot;type&quot;: &quot;Feature&quot;}, {&quot;bbox&quot;: [-73.98728112430385, 40.746912148059785, -73.94341764484274, 40.78214325271422], &quot;geometry&quot;: {&quot;coordinates&quot;: [[[-73.98728112430385, 40.75585571365669], [-73.9545617909171, 40.746912148059785], [-73.94341764484274, 40.773196203683554], [-73.97615107534028, 40.78214325271422], [-73.98728112430385, 40.75585571365669]]], &quot;type&quot;: &quot;Polygon&quot;}, &quot;id&quot;: &quot;82&quot;, &quot;properties&quot;: {}, &quot;type&quot;: &quot;Feature&quot;}, {&quot;bbox&quot;: [-73.97615107534028, 40.773196203683554, -73.9322626345943, 40.80842674145655], &quot;geometry&quot;: {&quot;coordinates&quot;: [[[-73.97615107534028, 40.78214325271422], [-73.94341764484274, 40.773196203683554], [-73.9322626345943, 40.7994762048958], [-73.96501017234367, 40.80842674145655], [-73.97615107534028, 40.78214325271422]]], &quot;type&quot;: &quot;Polygon&quot;}, &quot;id&quot;: &quot;83&quot;, &quot;properties&quot;: {}, &quot;type&quot;: &quot;Feature&quot;}, {&quot;bbox&quot;: [-73.96501017234367, 40.7994762048958, -73.92109674489325, 40.83470618078236], &quot;geometry&quot;: {&quot;coordinates&quot;: [[[-73.96501017234367, 40.80842674145655], [-73.9322626345943, 40.7994762048958], [-73.92109674489325, 40.825752152590134], [-73.95385840004272, 40.83470618078236], [-73.96501017234367, 40.80842674145655]]], &quot;type&quot;: &quot;Polygon&quot;}, &quot;id&quot;: &quot;84&quot;, &quot;properties&quot;: {}, &quot;type&quot;: &quot;Feature&quot;}, {&quot;bbox&quot;: [-73.95385840004272, 40.825752152590134, -73.90991996043373, 40.860981571585135], &quot;geometry&quot;: {&quot;coordinates&quot;: [[[-73.95385840004272, 40.83470618078236], [-73.92109674489325, 40.825752152590134], [-73.90991996043373, 40.852024047655206], [-73.94269574313877, 40.860981571585135], [-73.95385840004272, 40.83470618078236]]], &quot;type&quot;: &quot;Polygon&quot;}, &quot;id&quot;: &quot;85&quot;, &quot;properties&quot;: {}, &quot;type&quot;: &quot;Feature&quot;}, {&quot;bbox&quot;: [-73.94269574313877, 40.852024047655206, -73.8987322658823, 40.88725291475351], &quot;geometry&quot;: {&quot;coordinates&quot;: [[[-73.94269574313877, 40.860981571585135], [-73.90991996043373, 40.852024047655206], [-73.8987322658823, 40.87829189097459], [-73.93152218630566, 40.88725291475351], [-73.94269574313877, 40.860981571585135]]], &quot;type&quot;: &quot;Polygon&quot;}, &quot;id&quot;: &quot;86&quot;, &quot;properties&quot;: {}, &quot;type&quot;: &quot;Feature&quot;}, {&quot;bbox&quot;: [-73.93152218630566, 40.87829189097459, -73.88753364587811, 40.91352021117112], &quot;geometry&quot;: {&quot;coordinates&quot;: [[[-73.93152218630566, 40.88725291475351], [-73.8987322658823, 40.87829189097459], [-73.88753364587811, 40.90455568342692], [-73.92033771418967, 40.91352021117112], [-73.93152218630566, 40.88725291475351]]], &quot;type&quot;: &quot;Polygon&quot;}, &quot;id&quot;: &quot;87&quot;, &quot;properties&quot;: {}, &quot;type&quot;: &quot;Feature&quot;}, {&quot;bbox&quot;: [-73.92033771418967, 40.90455568342692, -73.87632408503264, 40.9397834617164], &quot;geometry&quot;: {&quot;coordinates&quot;: [[[-73.92033771418967, 40.91352021117112], [-73.88753364587811, 40.90455568342692], [-73.87632408503264, 40.93081542588558], [-73.90914231140954, 40.9397834617164], [-73.92033771418967, 40.91352021117112]]], &quot;type&quot;: &quot;Polygon&quot;}, &quot;id&quot;: &quot;88&quot;, &quot;properties&quot;: {}, &quot;type&quot;: &quot;Feature&quot;}, {&quot;bbox&quot;: [-73.90914231140954, 40.93081542588558, -73.86510356792971, 40.966042667262904], &quot;geometry&quot;: {&quot;coordinates&quot;: [[[-73.90914231140954, 40.9397834617164], [-73.87632408503264, 40.93081542588558], [-73.86510356792971, 40.95707111921916], [-73.89793596255633, 40.966042667262904], [-73.90914231140954, 40.9397834617164]]], &quot;type&quot;: &quot;Polygon&quot;}, &quot;id&quot;: &quot;89&quot;, &quot;properties&quot;: {}, &quot;type&quot;: &quot;Feature&quot;}, {&quot;bbox&quot;: [-74.06540906387212, 40.47492637944438, -74.02179052354822, 40.51017304900431], &quot;geometry&quot;: {&quot;coordinates&quot;: [[[-74.06540906387212, 40.483848399016125], [-74.03284084332797, 40.47492637944438], [-74.02179052354822, 40.50124758319353], [-74.05437272521043, 40.51017304900431], [-74.06540906387212, 40.483848399016125]]], &quot;type&quot;: &quot;Polygon&quot;}, &quot;id&quot;: &quot;90&quot;, &quot;properties&quot;: {}, &quot;type&quot;: &quot;Feature&quot;}, {&quot;bbox&quot;: [-74.05437272521043, 40.50124758319353, -74.01072948084268, 40.53649363536986], &quot;geometry&quot;: {&quot;coordinates&quot;: [[[-74.05437272521043, 40.51017304900431], [-74.02179052354822, 40.50124758319353], [-74.01072948084268, 40.52756471927048], [-74.04332567366471, 40.53649363536986], [-74.05437272521043, 40.51017304900431]]], &quot;type&quot;: &quot;Polygon&quot;}, &quot;id&quot;: &quot;91&quot;, &quot;properties&quot;: {}, &quot;type&quot;: &quot;Feature&quot;}, {&quot;bbox&quot;: [-74.04332567366471, 40.52756471927048, -73.99965770019656, 40.56281015905637], &quot;geometry&quot;: {&quot;coordinates&quot;: [[[-74.04332567366471, 40.53649363536986], [-74.01072948084268, 40.52756471927048], [-73.99965770019656, 40.553877788613825], [-74.03226789422739, 40.56281015905637], [-74.04332567366471, 40.53649363536986]]], &quot;type&quot;: &quot;Polygon&quot;}, &quot;id&quot;: &quot;92&quot;, &quot;properties&quot;: {}, &quot;type&quot;: &quot;Feature&quot;}, {&quot;bbox&quot;: [-74.03226789422739, 40.553877788613825, -73.9885751665683, 40.589122621002346], &quot;geometry&quot;: {&quot;coordinates&quot;: [[[-74.03226789422739, 40.56281015905637], [-73.99965770019656, 40.553877788613825], [-73.9885751665683, 40.58018679215721], [-74.02119937186409, 40.589122621002346], [-74.03226789422739, 40.56281015905637]]], &quot;type&quot;: &quot;Polygon&quot;}, &quot;id&quot;: &quot;93&quot;, &quot;properties&quot;: {}, &quot;type&quot;: &quot;Feature&quot;}, {&quot;bbox&quot;: [-74.02119937186409, 40.58018679215721, -73.9774818648894, 40.61543102214143], &quot;geometry&quot;: {&quot;coordinates&quot;: [[[-74.02119937186409, 40.589122621002346], [-73.9885751665683, 40.58018679215721], [-73.9774818648894, 40.60649173082939], [-74.01012009151353, 40.61543102214143], [-74.02119937186409, 40.589122621002346]]], &quot;type&quot;: &quot;Polygon&quot;}, &quot;id&quot;: &quot;94&quot;, &quot;properties&quot;: {}, &quot;type&quot;: &quot;Feature&quot;}, {&quot;bbox&quot;: [-74.01012009151353, 40.60649173082939, -73.96637778006442, 40.641735363402184], &quot;geometry&quot;: {&quot;coordinates&quot;: [[[-74.01012009151353, 40.61543102214143], [-73.9774818648894, 40.60649173082939], [-73.96637778006442, 40.632792605553966], [-73.99903003808748, 40.641735363402184], [-74.01012009151353, 40.61543102214143]]], &quot;type&quot;: &quot;Polygon&quot;}, &quot;id&quot;: &quot;95&quot;, &quot;properties&quot;: {}, &quot;type&quot;: &quot;Feature&quot;}, {&quot;bbox&quot;: [-73.99903003808748, 40.632792605553966, -73.95526289697092, 40.66803564570826], &quot;geometry&quot;: {&quot;coordinates&quot;: [[[-73.99903003808748, 40.641735363402184], [-73.96637778006442, 40.632792605553966], [-73.95526289697092, 40.659089417249724], [-73.98792919647069, 40.66803564570826], [-73.99903003808748, 40.641735363402184]]], &quot;type&quot;: &quot;Polygon&quot;}, &quot;id&quot;: &quot;96&quot;, &quot;properties&quot;: {}, &quot;type&quot;: &quot;Feature&quot;}, {&quot;bbox&quot;: [-73.98792919647069, 40.659089417249724, -73.94413720045942, 40.6943318699783], &quot;geometry&quot;: {&quot;coordinates&quot;: [[[-73.98792919647069, 40.66803564570826], [-73.95526289697092, 40.659089417249724], [-73.94413720045942, 40.68538216683027], [-73.97681755152084, 40.6943318699783], [-73.98792919647069, 40.66803564570826]]], &quot;type&quot;: &quot;Polygon&quot;}, &quot;id&quot;: &quot;97&quot;, &quot;properties&quot;: {}, &quot;type&quot;: &quot;Feature&quot;}, {&quot;bbox&quot;: [-73.97681755152084, 40.68538216683027, -73.9330006753533, 40.72062403712594], &quot;geometry&quot;: {&quot;coordinates&quot;: [[[-73.97681755152084, 40.6943318699783], [-73.94413720045942, 40.68538216683027], [-73.9330006753533, 40.71167085520443], [-73.96569508806851, 40.72062403712594], [-73.97681755152084, 40.6943318699783]]], &quot;type&quot;: &quot;Polygon&quot;}, &quot;id&quot;: &quot;98&quot;, &quot;properties&quot;: {}, &quot;type&quot;: &quot;Feature&quot;}, {&quot;bbox&quot;: [-73.96569508806851, 40.71167085520443, -73.92185330644872, 40.746912148059785], &quot;geometry&quot;: {&quot;coordinates&quot;: [[[-73.96569508806851, 40.72062403712594], [-73.9330006753533, 40.71167085520443], [-73.92185330644872, 40.737955483275755], [-73.9545617909171, 40.746912148059785], [-73.96569508806851, 40.72062403712594]]], &quot;type&quot;: &quot;Polygon&quot;}, &quot;id&quot;: &quot;99&quot;, &quot;properties&quot;: {}, &quot;type&quot;: &quot;Feature&quot;}, {&quot;bbox&quot;: [-73.9545617909171, 40.737955483275755, -73.91069507851472, 40.773196203683554], &quot;geometry&quot;: {&quot;coordinates&quot;: [[[-73.9545617909171, 40.746912148059785], [-73.92185330644872, 40.737955483275755], [-73.91069507851472, 40.76423605194299], [-73.94341764484274, 40.773196203683554], [-73.9545617909171, 40.746912148059785]]], &quot;type&quot;: &quot;Polygon&quot;}, &quot;id&quot;: &quot;100&quot;, &quot;properties&quot;: {}, &quot;type&quot;: &quot;Feature&quot;}, {&quot;bbox&quot;: [-73.94341764484274, 40.76423605194299, -73.89952597629292, 40.7994762048958], &quot;geometry&quot;: {&quot;coordinates&quot;: [[[-73.94341764484274, 40.773196203683554], [-73.91069507851472, 40.76423605194299], [-73.89952597629292, 40.79051256209976], [-73.9322626345943, 40.7994762048958], [-73.94341764484274, 40.773196203683554]]], &quot;type&quot;: &quot;Polygon&quot;}, &quot;id&quot;: &quot;101&quot;, &quot;properties&quot;: {}, &quot;type&quot;: &quot;Feature&quot;}, {&quot;bbox&quot;: [-73.9322626345943, 40.79051256209976, -73.8883459844977, 40.825752152590134], &quot;geometry&quot;: {&quot;coordinates&quot;: [[[-73.9322626345943, 40.7994762048958], [-73.89952597629292, 40.79051256209976], [-73.8883459844977, 40.816785014634796], [-73.92109674489325, 40.825752152590134], [-73.9322626345943, 40.7994762048958]]], &quot;type&quot;: &quot;Polygon&quot;}, &quot;id&quot;: &quot;102&quot;, &quot;properties&quot;: {}, &quot;type&quot;: &quot;Feature&quot;}, {&quot;bbox&quot;: [-73.92109674489325, 40.816785014634796, -73.87715508781596, 40.852024047655206], &quot;geometry&quot;: {&quot;coordinates&quot;: [[[-73.92109674489325, 40.825752152590134], [-73.8883459844977, 40.816785014634796], [-73.87715508781596, 40.84305341043159], [-73.90991996043373, 40.852024047655206], [-73.92109674489325, 40.825752152590134]]], &quot;type&quot;: &quot;Polygon&quot;}, &quot;id&quot;: &quot;103&quot;, &quot;properties&quot;: {}, &quot;type&quot;: &quot;Feature&quot;}, {&quot;bbox&quot;: [-73.90991996043373, 40.84305341043159, -73.86595327090716, 40.87829189097459], &quot;geometry&quot;: {&quot;coordinates&quot;: [[[-73.90991996043373, 40.852024047655206], [-73.87715508781596, 40.84305341043159], [-73.86595327090716, 40.869317750368836], [-73.8987322658823, 40.87829189097459], [-73.90991996043373, 40.852024047655206]]], &quot;type&quot;: &quot;Polygon&quot;}, &quot;id&quot;: &quot;104&quot;, &quot;properties&quot;: {}, &quot;type&quot;: &quot;Feature&quot;}, {&quot;bbox&quot;: [-73.8987322658823, 40.869317750368836, -73.85474051840323, 40.90455568342692], &quot;geometry&quot;: {&quot;coordinates&quot;: [[[-73.8987322658823, 40.87829189097459], [-73.86595327090716, 40.869317750368836], [-73.85474051840323, 40.895578035320035], [-73.88753364587811, 40.90455568342692], [-73.8987322658823, 40.87829189097459]]], &quot;type&quot;: &quot;Polygon&quot;}, &quot;id&quot;: &quot;105&quot;, &quot;properties&quot;: {}, &quot;type&quot;: &quot;Feature&quot;}, {&quot;bbox&quot;: [-73.88753364587811, 40.895578035320035, -73.84351681490851, 40.93081542588558], &quot;geometry&quot;: {&quot;coordinates&quot;: [[[-73.88753364587811, 40.90455568342692], [-73.85474051840323, 40.895578035320035], [-73.84351681490851, 40.92183426615366], [-73.87632408503264, 40.93081542588558], [-73.88753364587811, 40.90455568342692]]], &quot;type&quot;: &quot;Polygon&quot;}, &quot;id&quot;: &quot;106&quot;, &quot;properties&quot;: {}, &quot;type&quot;: &quot;Feature&quot;}, {&quot;bbox&quot;: [-73.87632408503264, 40.92183426615366, -73.83228214499974, 40.95707111921916], &quot;geometry&quot;: {&quot;coordinates&quot;: [[[-73.87632408503264, 40.93081542588558], [-73.84351681490851, 40.92183426615366], [-73.83228214499974, 40.94808644373317], [-73.86510356792971, 40.95707111921916], [-73.87632408503264, 40.93081542588558]]], &quot;type&quot;: &quot;Polygon&quot;}, &quot;id&quot;: &quot;107&quot;, &quot;properties&quot;: {}, &quot;type&quot;: &quot;Feature&quot;}, {&quot;bbox&quot;: [-74.03284084332797, 40.46599130067417, -73.98921904480734, 40.50124758319353], &quot;geometry&quot;: {&quot;coordinates&quot;: [[[-74.03284084332797, 40.47492637944438], [-74.00028333071718, 40.46599130067417], [-73.98921904480734, 40.492309054695944], [-74.02179052354822, 40.50124758319353], [-74.03284084332797, 40.47492637944438]]], &quot;type&quot;: &quot;Polygon&quot;}, &quot;id&quot;: &quot;108&quot;, &quot;properties&quot;: {}, &quot;type&quot;: &quot;Feature&quot;}, {&quot;bbox&quot;: [-74.02179052354822, 40.492309054695944, -73.97814402595672, 40.52756471927048], &quot;geometry&quot;: {&quot;coordinates&quot;: [[[-74.02179052354822, 40.50124758319353], [-73.98921904480734, 40.492309054695944], [-73.97814402595672, 40.51862273699318], [-74.01072948084268, 40.52756471927048], [-74.02179052354822, 40.50124758319353]]], &quot;type&quot;: &quot;Polygon&quot;}, &quot;id&quot;: &quot;109&quot;, &quot;properties&quot;: {}, &quot;type&quot;: &quot;Feature&quot;}, {&quot;bbox&quot;: [-74.01072948084268, 40.51862273699318, -73.96705825914341, 40.553877788613825], &quot;geometry&quot;: {&quot;coordinates&quot;: [[[-74.01072948084268, 40.52756471927048], [-73.97814402595672, 40.51862273699318], [-73.96705825914341, 40.54493234849962], [-73.99965770019656, 40.553877788613825], [-74.01072948084268, 40.52756471927048]]], &quot;type&quot;: &quot;Polygon&quot;}, &quot;id&quot;: &quot;110&quot;, &quot;properties&quot;: {}, &quot;type&quot;: &quot;Feature&quot;}, {&quot;bbox&quot;: [-73.99965770019656, 40.54493234849962, -73.95596172931866, 40.58018679215721], &quot;geometry&quot;: {&quot;coordinates&quot;: [[[-73.99965770019656, 40.553877788613825], [-73.96705825914341, 40.54493234849962], [-73.95596172931866, 40.57123789014418], [-73.9885751665683, 40.58018679215721], [-73.99965770019656, 40.553877788613825]]], &quot;type&quot;: &quot;Polygon&quot;}, &quot;id&quot;: &quot;111&quot;, &quot;properties&quot;: {}, &quot;type&quot;: &quot;Feature&quot;}, {&quot;bbox&quot;: [-73.9885751665683, 40.57123789014418, -73.94485442140683, 40.60649173082939], &quot;geometry&quot;: {&quot;coordinates&quot;: [[[-73.9885751665683, 40.58018679215721], [-73.95596172931866, 40.57123789014418], [-73.94485442140683, 40.59753936285047], [-73.9774818648894, 40.60649173082939], [-73.9885751665683, 40.58018679215721]]], &quot;type&quot;: &quot;Polygon&quot;}, &quot;id&quot;: &quot;112&quot;, &quot;properties&quot;: {}, &quot;type&quot;: &quot;Feature&quot;}, {&quot;bbox&quot;: [-73.9774818648894, 40.59753936285047, -73.93373632030536, 40.632792605553966], &quot;geometry&quot;: {&quot;coordinates&quot;: [[[-73.9774818648894, 40.60649173082939], [-73.94485442140683, 40.59753936285047], [-73.93373632030536, 40.623836767537334], [-73.96637778006442, 40.632792605553966], [-73.9774818648894, 40.60649173082939]]], &quot;type&quot;: &quot;Polygon&quot;}, &quot;id&quot;: &quot;113&quot;, &quot;properties&quot;: {}, &quot;type&quot;: &quot;Feature&quot;}, {&quot;bbox&quot;: [-73.96637778006442, 40.623836767537334, -73.92260741088467, 40.659089417249724], &quot;geometry&quot;: {&quot;coordinates&quot;: [[[-73.96637778006442, 40.632792605553966], [-73.93373632030536, 40.623836767537334], [-73.92260741088467, 40.650130105118556], [-73.95526289697092, 40.659089417249724], [-73.96637778006442, 40.632792605553966]]], &quot;type&quot;: &quot;Polygon&quot;}, &quot;id&quot;: &quot;114&quot;, &quot;properties&quot;: {}, &quot;type&quot;: &quot;Feature&quot;}, {&quot;bbox&quot;: [-73.95526289697092, 40.650130105118556, -73.91146767798811, 40.68538216683027], &quot;geometry&quot;: {&quot;coordinates&quot;: [[[-73.95526289697092, 40.659089417249724], [-73.92260741088467, 40.650130105118556], [-73.91146767798811, 40.67641937650286], [-73.94413720045942, 40.68538216683027], [-73.95526289697092, 40.659089417249724]]], &quot;type&quot;: &quot;Polygon&quot;}, &quot;id&quot;: &quot;115&quot;, &quot;properties&quot;: {}, &quot;type&quot;: &quot;Feature&quot;}, {&quot;bbox&quot;: [-73.94413720045942, 40.67641937650286, -73.90031710643194, 40.71167085520443], &quot;geometry&quot;: {&quot;coordinates&quot;: [[[-73.94413720045942, 40.68538216683027], [-73.91146767798811, 40.67641937650286], [-73.90031710643194, 40.702704582594016], [-73.9330006753533, 40.71167085520443], [-73.94413720045942, 40.68538216683027]]], &quot;type&quot;: &quot;Polygon&quot;}, &quot;id&quot;: &quot;116&quot;, &quot;properties&quot;: {}, &quot;type&quot;: &quot;Feature&quot;}, {&quot;bbox&quot;: [-73.9330006753533, 40.702704582594016, -73.88915568100526, 40.737955483275755], &quot;geometry&quot;: {&quot;coordinates&quot;: [[[-73.9330006753533, 40.71167085520443], [-73.90031710643194, 40.702704582594016], [-73.88915568100526, 40.72898572429085], [-73.92185330644872, 40.737955483275755], [-73.9330006753533, 40.71167085520443]]], &quot;type&quot;: &quot;Polygon&quot;}, &quot;id&quot;: &quot;117&quot;, &quot;properties&quot;: {}, &quot;type&quot;: &quot;Feature&quot;}, {&quot;bbox&quot;: [-73.92185330644872, 40.72898572429085, -73.87798338646991, 40.76423605194299], &quot;geometry&quot;: {&quot;coordinates&quot;: [[[-73.92185330644872, 40.737955483275755], [-73.88915568100526, 40.72898572429085], [-73.87798338646991, 40.75526280248693], [-73.91069507851472, 40.76423605194299], [-73.92185330644872, 40.737955483275755]]], &quot;type&quot;: &quot;Polygon&quot;}, &quot;id&quot;: &quot;118&quot;, &quot;properties&quot;: {}, &quot;type&quot;: &quot;Feature&quot;}, {&quot;bbox&quot;: [-73.91069507851472, 40.75526280248693, -73.86680020756044, 40.79051256209976], &quot;geometry&quot;: {&quot;coordinates&quot;: [[[-73.91069507851472, 40.76423605194299], [-73.87798338646991, 40.75526280248693], [-73.86680020756044, 40.78153581807106], [-73.89952597629292, 40.79051256209976], [-73.91069507851472, 40.76423605194299]]], &quot;type&quot;: &quot;Polygon&quot;}, &quot;id&quot;: &quot;119&quot;, &quot;properties&quot;: {}, &quot;type&quot;: &quot;Feature&quot;}, {&quot;bbox&quot;: [-73.89952597629292, 40.78153581807106, -73.8556061289841, 40.816785014634796], &quot;geometry&quot;: {&quot;coordinates&quot;: [[[-73.89952597629292, 40.79051256209976], [-73.86680020756044, 40.78153581807106], [-73.8556061289841, 40.8078047719268], [-73.8883459844977, 40.816785014634796], [-73.89952597629292, 40.79051256209976]]], &quot;type&quot;: &quot;Polygon&quot;}, &quot;id&quot;: &quot;120&quot;, &quot;properties&quot;: {}, &quot;type&quot;: &quot;Feature&quot;}, {&quot;bbox&quot;: [-73.8883459844977, 40.8078047719268, -73.84440113542067, 40.84305341043159], &quot;geometry&quot;: {&quot;coordinates&quot;: [[[-73.8883459844977, 40.816785014634796], [-73.8556061289841, 40.8078047719268], [-73.84440113542067, 40.83406966493292], [-73.87715508781596, 40.84305341043159], [-73.8883459844977, 40.816785014634796]]], &quot;type&quot;: &quot;Polygon&quot;}, &quot;id&quot;: &quot;121&quot;, &quot;properties&quot;: {}, &quot;type&quot;: &quot;Feature&quot;}, {&quot;bbox&quot;: [-73.87715508781596, 40.83406966493292, -73.83318521152253, 40.869317750368836], &quot;geometry&quot;: {&quot;coordinates&quot;: [[[-73.87715508781596, 40.84305341043159], [-73.84440113542067, 40.83406966493292], [-73.83318521152253, 40.86033049796289], [-73.86595327090716, 40.869317750368836], [-73.87715508781596, 40.84305341043159]]], &quot;type&quot;: &quot;Polygon&quot;}, &quot;id&quot;: &quot;122&quot;, &quot;properties&quot;: {}, &quot;type&quot;: &quot;Feature&quot;}, {&quot;bbox&quot;: [-73.86595327090716, 40.86033049796289, -73.82195834191451, 40.895578035320035], &quot;geometry&quot;: {&quot;coordinates&quot;: [[[-73.86595327090716, 40.869317750368836], [-73.83318521152253, 40.86033049796289], [-73.82195834191451, 40.886587271885276], [-73.85474051840323, 40.895578035320035], [-73.86595327090716, 40.869317750368836]]], &quot;type&quot;: &quot;Polygon&quot;}, &quot;id&quot;: &quot;123&quot;, &quot;properties&quot;: {}, &quot;type&quot;: &quot;Feature&quot;}, {&quot;bbox&quot;: [-73.85474051840323, 40.886587271885276, -73.81072051119385, 40.92183426615366], &quot;geometry&quot;: {&quot;coordinates&quot;: [[[-73.85474051840323, 40.895578035320035], [-73.82195834191451, 40.886587271885276], [-73.81072051119385, 40.91283998756359], [-73.84351681490851, 40.92183426615366], [-73.85474051840323, 40.895578035320035]]], &quot;type&quot;: &quot;Polygon&quot;}, &quot;id&quot;: &quot;124&quot;, &quot;properties&quot;: {}, &quot;type&quot;: &quot;Feature&quot;}, {&quot;bbox&quot;: [-73.84351681490851, 40.91283998756359, -73.79947170393018, 40.94808644373317], &quot;geometry&quot;: {&quot;coordinates&quot;: [[[-73.84351681490851, 40.92183426615366], [-73.81072051119385, 40.91283998756359], [-73.79947170393018, 40.93908864585629], [-73.83228214499974, 40.94808644373317], [-73.84351681490851, 40.92183426615366]]], &quot;type&quot;: &quot;Polygon&quot;}, &quot;id&quot;: &quot;125&quot;, &quot;properties&quot;: {}, &quot;type&quot;: &quot;Feature&quot;}, {&quot;bbox&quot;: [-74.00028333071718, 40.457043167615105, -73.95665829900277, 40.492309054695944], &quot;geometry&quot;: {&quot;coordinates&quot;: [[[-74.00028333071718, 40.46599130067417], [-73.96773653604757, 40.457043167615105], [-73.95665829900277, 40.48335746842886], [-73.98921904480734, 40.492309054695944], [-74.00028333071718, 40.46599130067417]]], &quot;type&quot;: &quot;Polygon&quot;}, &quot;id&quot;: &quot;126&quot;, &quot;properties&quot;: {}, &quot;type&quot;: &quot;Feature&quot;}, {&quot;bbox&quot;: [-73.98921904480734, 40.48335746842886, -73.945569319029, 40.51862273699318], &quot;geometry&quot;: {&quot;coordinates&quot;: [[[-73.98921904480734, 40.492309054695944], [-73.95665829900277, 40.48335746842886], [-73.945569319029, 40.50966769346326], [-73.97814402595672, 40.51862273699318], [-73.98921904480734, 40.492309054695944]]], &quot;type&quot;: &quot;Polygon&quot;}, &quot;id&quot;: &quot;127&quot;, &quot;properties&quot;: {}, &quot;type&quot;: &quot;Feature&quot;}, {&quot;bbox&quot;: [-73.97814402595672, 40.50966769346326, -73.93446958109722, 40.54493234849962], &quot;geometry&quot;: {&quot;coordinates&quot;: [[[-73.97814402595672, 40.51862273699318], [-73.945569319029, 40.50966769346326], [-73.93446958109722, 40.535973843647156], [-73.96705825914341, 40.54493234849962], [-73.97814402595672, 40.51862273699318]]], &quot;type&quot;: &quot;Polygon&quot;}, &quot;id&quot;: &quot;128&quot;, &quot;properties&quot;: {}, &quot;type&quot;: &quot;Feature&quot;}, {&quot;bbox&quot;: [-73.96705825914341, 40.535973843647156, -73.9233590701516, 40.57123789014418], &quot;geometry&quot;: {&quot;coordinates&quot;: [[[-73.96705825914341, 40.54493234849962], [-73.93446958109722, 40.535973843647156], [-73.9233590701516, 40.562275919904366], [-73.95596172931866, 40.57123789014418], [-73.96705825914341, 40.54493234849962]]], &quot;type&quot;: &quot;Polygon&quot;}, &quot;id&quot;: &quot;129&quot;, &quot;properties&quot;: {}, &quot;type&quot;: &quot;Feature&quot;}, {&quot;bbox&quot;: [-73.95596172931866, 40.562275919904366, -73.91223777110943, 40.59753936285047], &quot;geometry&quot;: {&quot;coordinates&quot;: [[[-73.95596172931866, 40.57123789014418], [-73.9233590701516, 40.562275919904366], [-73.91223777110943, 40.58857392315385], [-73.94485442140683, 40.59753936285047], [-73.95596172931866, 40.57123789014418]]], &quot;type&quot;: &quot;Polygon&quot;}, &quot;id&quot;: &quot;130&quot;, &quot;properties&quot;: {}, &quot;type&quot;: &quot;Feature&quot;}, {&quot;bbox&quot;: [-73.94485442140683, 40.58857392315385, -73.901105668861, 40.623836767537334], &quot;geometry&quot;: {&quot;coordinates&quot;: [[[-73.94485442140683, 40.59753936285047], [-73.91223777110943, 40.58857392315385], [-73.901105668861, 40.61486785430945], [-73.93373632030536, 40.623836767537334], [-73.94485442140683, 40.59753936285047]]], &quot;type&quot;: &quot;Polygon&quot;}, &quot;id&quot;: &quot;131&quot;, &quot;properties&quot;: {}, &quot;type&quot;: &quot;Feature&quot;}, {&quot;bbox&quot;: [-73.93373632030536, 40.61486785430945, -73.88996274826972, 40.650130105118556], &quot;geometry&quot;: {&quot;coordinates&quot;: [[[-73.93373632030536, 40.623836767537334], [-73.901105668861, 40.61486785430945], [-73.88996274826972, 40.64115771427993], [-73.92260741088467, 40.650130105118556], [-73.93373632030536, 40.623836767537334]]], &quot;type&quot;: &quot;Polygon&quot;}, &quot;id&quot;: &quot;132&quot;, &quot;properties&quot;: {}, &quot;type&quot;: &quot;Feature&quot;}, {&quot;bbox&quot;: [-73.92260741088467, 40.64115771427993, -73.87880899417186, 40.67641937650286], &quot;geometry&quot;: {&quot;coordinates&quot;: [[[-73.92260741088467, 40.650130105118556], [-73.88996274826972, 40.64115771427993], [-73.87880899417186, 40.667443503969224], [-73.91146767798811, 40.67641937650286], [-73.92260741088467, 40.650130105118556]]], &quot;type&quot;: &quot;Polygon&quot;}, &quot;id&quot;: &quot;133&quot;, &quot;properties&quot;: {}, &quot;type&quot;: &quot;Feature&quot;}, {&quot;bbox&quot;: [-73.91146767798811, 40.667443503969224, -73.86764439137659, 40.702704582594016], &quot;geometry&quot;: {&quot;coordinates&quot;: [[[-73.91146767798811, 40.67641937650286], [-73.87880899417186, 40.667443503969224], [-73.86764439137659, 40.69372522427609], [-73.90031710643194, 40.702704582594016], [-73.91146767798811, 40.67641937650286]]], &quot;type&quot;: &quot;Polygon&quot;}, &quot;id&quot;: &quot;134&quot;, &quot;properties&quot;: {}, &quot;type&quot;: &quot;Feature&quot;}, {&quot;bbox&quot;: [-73.90031710643194, 40.69372522427609, -73.85646892466592, 40.72898572429085], &quot;geometry&quot;: {&quot;coordinates&quot;: [[[-73.90031710643194, 40.702704582594016], [-73.86764439137659, 40.69372522427609], [-73.85646892466592, 40.7200028760943], [-73.88915568100526, 40.72898572429085], [-73.90031710643194, 40.702704582594016]]], &quot;type&quot;: &quot;Polygon&quot;}, &quot;id&quot;: &quot;135&quot;, &quot;properties&quot;: {}, &quot;type&quot;: &quot;Feature&quot;}, {&quot;bbox&quot;: [-73.88915568100526, 40.7200028760943, -73.84528257879465, 40.75526280248693], &quot;geometry&quot;: {&quot;coordinates&quot;: [[[-73.88915568100526, 40.72898572429085], [-73.85646892466592, 40.7200028760943], [-73.84528257879465, 40.746276460312714], [-73.87798338646991, 40.75526280248693], [-73.88915568100526, 40.72898572429085]]], &quot;type&quot;: &quot;Polygon&quot;}, &quot;id&quot;: &quot;136&quot;, &quot;properties&quot;: {}, &quot;type&quot;: &quot;Feature&quot;}, {&quot;bbox&quot;: [-73.87798338646991, 40.746276460312714, -73.83408533849028, 40.78153581807106], &quot;geometry&quot;: {&quot;coordinates&quot;: [[[-73.87798338646991, 40.75526280248693], [-73.84528257879465, 40.746276460312714], [-73.83408533849028, 40.77254597781498], [-73.86680020756044, 40.78153581807106], [-73.87798338646991, 40.75526280248693]]], &quot;type&quot;: &quot;Polygon&quot;}, &quot;id&quot;: &quot;137&quot;, &quot;properties&quot;: {}, &quot;type&quot;: &quot;Feature&quot;}, {&quot;bbox&quot;: [-73.86680020756044, 40.77254597781498, -73.82287718845299, 40.8078047719268], &quot;geometry&quot;: {&quot;coordinates&quot;: [[[-73.86680020756044, 40.78153581807106], [-73.83408533849028, 40.77254597781498], [-73.82287718845299, 40.79881142947976], [-73.8556061289841, 40.8078047719268], [-73.86680020756044, 40.78153581807106]]], &quot;type&quot;: &quot;Polygon&quot;}, &quot;id&quot;: &quot;138&quot;, &quot;properties&quot;: {}, &quot;type&quot;: &quot;Feature&quot;}, {&quot;bbox&quot;: [-73.8556061289841, 40.79881142947976, -73.81165811335553, 40.83406966493292], &quot;geometry&quot;: {&quot;coordinates&quot;: [[[-73.8556061289841, 40.8078047719268], [-73.82287718845299, 40.79881142947976], [-73.81165811335553, 40.825072816180764], [-73.84440113542067, 40.83406966493292], [-73.8556061289841, 40.8078047719268]]], &quot;type&quot;: &quot;Polygon&quot;}, &quot;id&quot;: &quot;139&quot;, &quot;properties&quot;: {}, &quot;type&quot;: &quot;Feature&quot;}, {&quot;bbox&quot;: [-73.84440113542067, 40.825072816180764, -73.80042809784321, 40.86033049796289], &quot;geometry&quot;: {&quot;coordinates&quot;: [[[-73.84440113542067, 40.83406966493292], [-73.81165811335553, 40.825072816180764], [-73.80042809784321, 40.851330138786466], [-73.83318521152253, 40.86033049796289], [-73.84440113542067, 40.83406966493292]]], &quot;type&quot;: &quot;Polygon&quot;}, &quot;id&quot;: &quot;140&quot;, &quot;properties&quot;: {}, &quot;type&quot;: &quot;Feature&quot;}, {&quot;bbox&quot;: [-73.83318521152253, 40.851330138786466, -73.78918712653382, 40.886587271885276], &quot;geometry&quot;: {&quot;coordinates&quot;: [[[-73.83318521152253, 40.86033049796289], [-73.80042809784321, 40.851330138786466], [-73.78918712653382, 40.87758339816055], [-73.82195834191451, 40.886587271885276], [-73.83318521152253, 40.86033049796289]]], &quot;type&quot;: &quot;Polygon&quot;}, &quot;id&quot;: &quot;141&quot;, &quot;properties&quot;: {}, &quot;type&quot;: &quot;Feature&quot;}, {&quot;bbox&quot;: [-73.82195834191451, 40.87758339816055, -73.7779351840176, 40.91283998756359], &quot;geometry&quot;: {&quot;coordinates&quot;: [[[-73.82195834191451, 40.886587271885276], [-73.78918712653382, 40.87758339816055], [-73.7779351840176, 40.903832595161425], [-73.81072051119385, 40.91283998756359], [-73.82195834191451, 40.886587271885276]]], &quot;type&quot;: &quot;Polygon&quot;}, &quot;id&quot;: &quot;142&quot;, &quot;properties&quot;: {}, &quot;type&quot;: &quot;Feature&quot;}, {&quot;bbox&quot;: [-73.81072051119385, 40.903832595161425, -73.7666722548571, 40.93908864585629], &quot;geometry&quot;: {&quot;coordinates&quot;: [[[-73.81072051119385, 40.91283998756359], [-73.7779351840176, 40.903832595161425], [-73.7666722548571, 40.93007773064249], [-73.79947170393018, 40.93908864585629], [-73.81072051119385, 40.91283998756359]]], &quot;type&quot;: &quot;Polygon&quot;}, &quot;id&quot;: &quot;143&quot;, &quot;properties&quot;: {}, &quot;type&quot;: &quot;Feature&quot;}, {&quot;bbox&quot;: [-73.96773653604757, 40.448081985179506, -73.92410829612274, 40.48335746842886], &quot;geometry&quot;: {&quot;coordinates&quot;: [[[-73.96773653604757, 40.457043167615105], [-73.93520046930023, 40.448081985179506], [-73.92410829612274, 40.474392829312706], [-73.95665829900277, 40.48335746842886], [-73.96773653604757, 40.457043167615105]]], &quot;type&quot;: &quot;Polygon&quot;}, &quot;id&quot;: &quot;144&quot;, &quot;properties&quot;: {}, &quot;type&quot;: &quot;Feature&quot;}, {&quot;bbox&quot;: [-73.95665829900277, 40.474392829312706, -73.9130053700548, 40.50966769346326], &quot;geometry&quot;: {&quot;coordinates&quot;: [[[-73.95665829900277, 40.48335746842886], [-73.92410829612274, 40.474392829312706], [-73.9130053700548, 40.50069959360904], [-73.945569319029, 40.50966769346326], [-73.95665829900277, 40.48335746842886]]], &quot;type&quot;: &quot;Polygon&quot;}, &quot;id&quot;: &quot;145&quot;, &quot;properties&quot;: {}, &quot;type&quot;: &quot;Feature&quot;}, {&quot;bbox&quot;: [-73.945569319029, 40.50069959360904, -73.90189167606039, 40.535973843647156], &quot;geometry&quot;: {&quot;coordinates&quot;: [[[-73.945569319029, 40.50966769346326], [-73.9130053700548, 40.50069959360904], [-73.90189167606039, 40.527002278992526], [-73.93446958109722, 40.535973843647156], [-73.945569319029, 40.50966769346326]]], &quot;type&quot;: &quot;Polygon&quot;}, &quot;id&quot;: &quot;146&quot;, &quot;properties&quot;: {}, &quot;type&quot;: &quot;Feature&quot;}, {&quot;bbox&quot;: [-73.93446958109722, 40.527002278992526, -73.89076719907662, 40.562275919904366], &quot;geometry&quot;: {&quot;coordinates&quot;: [[[-73.93446958109722, 40.535973843647156], [-73.90189167606039, 40.527002278992526], [-73.89076719907662, 40.5533008863821], [-73.9233590701516, 40.562275919904366], [-73.93446958109722, 40.535973843647156]]], &quot;type&quot;: &quot;Polygon&quot;}, &quot;id&quot;: &quot;147&quot;, &quot;properties&quot;: {}, &quot;type&quot;: &quot;Feature&quot;}, {&quot;bbox&quot;: [-73.9233590701516, 40.5533008863821, -73.87963192401374, 40.58857392315385], &quot;geometry&quot;: {&quot;coordinates&quot;: [[[-73.9233590701516, 40.562275919904366], [-73.89076719907662, 40.5533008863821], [-73.87963192401374, 40.57959541669175], [-73.91223777110943, 40.58857392315385], [-73.9233590701516, 40.562275919904366]]], &quot;type&quot;: &quot;Polygon&quot;}, &quot;id&quot;: &quot;148&quot;, &quot;properties&quot;: {}, &quot;type&quot;: &quot;Feature&quot;}, {&quot;bbox&quot;: [-73.91223777110943, 40.57959541669175, -73.86848583575504, 40.61486785430945], &quot;geometry&quot;: {&quot;coordinates&quot;: [[[-73.91223777110943, 40.58857392315385], [-73.87963192401374, 40.57959541669175], [-73.86848583575504, 40.605885870830434], [-73.901105668861, 40.61486785430945], [-73.91223777110943, 40.58857392315385]]], &quot;type&quot;: &quot;Polygon&quot;}, &quot;id&quot;: &quot;149&quot;, &quot;properties&quot;: {}, &quot;type&quot;: &quot;Feature&quot;}, {&quot;bbox&quot;: [-73.901105668861, 40.605885870830434, -73.85732891915687, 40.64115771427993], &quot;geometry&quot;: {&quot;coordinates&quot;: [[[-73.901105668861, 40.61486785430945], [-73.86848583575504, 40.605885870830434], [-73.85732891915687, 40.63217224970206], [-73.88996274826972, 40.64115771427993], [-73.901105668861, 40.61486785430945]]], &quot;type&quot;: &quot;Polygon&quot;}, &quot;id&quot;: &quot;150&quot;, &quot;properties&quot;: {}, &quot;type&quot;: &quot;Feature&quot;}, {&quot;bbox&quot;: [-73.88996274826972, 40.63217224970206, -73.84616115904849, 40.667443503969224], &quot;geometry&quot;: {&quot;coordinates&quot;: [[[-73.88996274826972, 40.64115771427993], [-73.85732891915687, 40.63217224970206], [-73.84616115904849, 40.65845455420556], [-73.87880899417186, 40.667443503969224], [-73.88996274826972, 40.64115771427993]]], &quot;type&quot;: &quot;Polygon&quot;}, &quot;id&quot;: &quot;151&quot;, &quot;properties&quot;: {}, &quot;type&quot;: &quot;Feature&quot;}, {&quot;bbox&quot;: [-73.87880899417186, 40.65845455420556, -73.83498254023208, 40.69372522427609], &quot;geometry&quot;: {&quot;coordinates&quot;: [[[-73.87880899417186, 40.667443503969224], [-73.84616115904849, 40.65845455420556], [-73.83498254023208, 40.68473278523477], [-73.86764439137659, 40.69372522427609], [-73.87880899417186, 40.667443503969224]]], &quot;type&quot;: &quot;Polygon&quot;}, &quot;id&quot;: &quot;152&quot;, &quot;properties&quot;: {}, &quot;type&quot;: &quot;Feature&quot;}, {&quot;bbox&quot;: [-73.86764439137659, 40.68473278523477, -73.82379304748262, 40.7200028760943], &quot;geometry&quot;: {&quot;coordinates&quot;: [[[-73.86764439137659, 40.69372522427609], [-73.83498254023208, 40.68473278523477], [-73.82379304748262, 40.71100694367856], [-73.85646892466592, 40.7200028760943], [-73.86764439137659, 40.69372522427609]]], &quot;type&quot;: &quot;Polygon&quot;}, &quot;id&quot;: &quot;153&quot;, &quot;properties&quot;: {}, &quot;type&quot;: &quot;Feature&quot;}, {&quot;bbox&quot;: [-73.85646892466592, 40.71100694367856, -73.81259266554794, 40.746276460312714], &quot;geometry&quot;: {&quot;coordinates&quot;: [[[-73.85646892466592, 40.7200028760943], [-73.82379304748262, 40.71100694367856], [-73.81259266554794, 40.7372770304207], [-73.84528257879465, 40.746276460312714], [-73.85646892466592, 40.7200028760943]]], &quot;type&quot;: &quot;Polygon&quot;}, &quot;id&quot;: &quot;154&quot;, &quot;properties&quot;: {}, &quot;type&quot;: &quot;Feature&quot;}, {&quot;bbox&quot;: [-73.84528257879465, 40.7372770304207, -73.8013813791485, 40.77254597781498], &quot;geometry&quot;: {&quot;coordinates&quot;: [[[-73.84528257879465, 40.746276460312714], [-73.81259266554794, 40.7372770304207], [-73.8013813791485, 40.76354304633996], [-73.83408533849028, 40.77254597781498], [-73.84528257879465, 40.746276460312714]]], &quot;type&quot;: &quot;Polygon&quot;}, &quot;id&quot;: &quot;155&quot;, &quot;properties&quot;: {}, &quot;type&quot;: &quot;Feature&quot;}, {&quot;bbox&quot;: [-73.83408533849028, 40.76354304633996, -73.79015917297748, 40.79881142947976], &quot;geometry&quot;: {&quot;coordinates&quot;: [[[-73.83408533849028, 40.77254597781498], [-73.8013813791485, 40.76354304633996], [-73.79015917297748, 40.789804992310096], [-73.82287718845299, 40.79881142947976], [-73.83408533849028, 40.77254597781498]]], &quot;type&quot;: &quot;Polygon&quot;}, &quot;id&quot;: &quot;156&quot;, &quot;properties&quot;: {}, &quot;type&quot;: &quot;Feature&quot;}, {&quot;bbox&quot;: [-73.82287718845299, 40.789804992310096, -73.77892603170065, 40.825072816180764], &quot;geometry&quot;: {&quot;coordinates&quot;: [[[-73.82287718845299, 40.79881142947976], [-73.79015917297748, 40.789804992310096], [-73.77892603170065, 40.8160628691997], [-73.81165811335553, 40.825072816180764], [-73.82287718845299, 40.79881142947976]]], &quot;type&quot;: &quot;Polygon&quot;}, &quot;id&quot;: &quot;157&quot;, &quot;properties&quot;: {}, &quot;type&quot;: &quot;Feature&quot;}, {&quot;bbox&quot;: [-73.81165811335553, 40.8160628691997, -73.76768193995635, 40.851330138786466], &quot;geometry&quot;: {&quot;coordinates&quot;: [[[-73.81165811335553, 40.825072816180764], [-73.77892603170065, 40.8160628691997], [-73.76768193995635, 40.842316677872404], [-73.80042809784321, 40.851330138786466], [-73.81165811335553, 40.825072816180764]]], &quot;type&quot;: &quot;Polygon&quot;}, &quot;id&quot;: &quot;158&quot;, &quot;properties&quot;: {}, &quot;type&quot;: &quot;Feature&quot;}, {&quot;bbox&quot;: [-73.80042809784321, 40.842316677872404, -73.75642688235537, 40.87758339816055], &quot;geometry&quot;: {&quot;coordinates&quot;: [[[-73.80042809784321, 40.851330138786466], [-73.76768193995635, 40.842316677872404], [-73.75642688235537, 40.868566419186735], [-73.78918712653382, 40.87758339816055], [-73.80042809784321, 40.851330138786466]]], &quot;type&quot;: &quot;Polygon&quot;}, &quot;id&quot;: &quot;159&quot;, &quot;properties&quot;: {}, &quot;type&quot;: &quot;Feature&quot;}, {&quot;bbox&quot;: [-73.78918712653382, 40.868566419186735, -73.74516084348096, 40.903832595161425], &quot;geometry&quot;: {&quot;coordinates&quot;: [[[-73.78918712653382, 40.87758339816055], [-73.75642688235537, 40.868566419186735], [-73.74516084348096, 40.89481209399611], [-73.7779351840176, 40.903832595161425], [-73.78918712653382, 40.87758339816055]]], &quot;type&quot;: &quot;Polygon&quot;}, &quot;id&quot;: &quot;160&quot;, &quot;properties&quot;: {}, &quot;type&quot;: &quot;Feature&quot;}, {&quot;bbox&quot;: [-73.7779351840176, 40.89481209399611, -73.73388380788876, 40.93007773064249], &quot;geometry&quot;: {&quot;coordinates&quot;: [[[-73.7779351840176, 40.903832595161425], [-73.74516084348096, 40.89481209399611], [-73.73388380788876, 40.921053703149035], [-73.7666722548571, 40.93007773064249], [-73.7779351840176, 40.903832595161425]]], &quot;type&quot;: &quot;Polygon&quot;}, &quot;id&quot;: &quot;161&quot;, &quot;properties&quot;: {}, &quot;type&quot;: &quot;Feature&quot;}, {&quot;bbox&quot;: [-73.93520046930023, 40.43910775828262, -73.89156904612867, 40.474392829312706], &quot;geometry&quot;: {&quot;coordinates&quot;: [[[-73.93520046930023, 40.448081985179506], [-73.9026751404296, 40.43910775828262], [-73.89156904612867, 40.46541514227062], [-73.92410829612274, 40.474392829312706], [-73.93520046930023, 40.448081985179506]]], &quot;type&quot;: &quot;Polygon&quot;}, &quot;id&quot;: &quot;162&quot;, &quot;properties&quot;: {}, &quot;type&quot;: &quot;Feature&quot;}, {&quot;bbox&quot;: [-73.92410829612274, 40.46541514227062, -73.88045218900264, 40.50069959360904], &quot;geometry&quot;: {&quot;coordinates&quot;: [[[-73.92410829612274, 40.474392829312706], [-73.89156904612867, 40.46541514227062], [-73.88045218900264, 40.49171844236169], [-73.9130053700548, 40.50069959360904], [-73.92410829612274, 40.474392829312706]]], &quot;type&quot;: &quot;Polygon&quot;}, &quot;id&quot;: &quot;163&quot;, &quot;properties&quot;: {}, &quot;type&quot;: &quot;Feature&quot;}, {&quot;bbox&quot;: [-73.9130053700548, 40.49171844236169, -73.86932455400844, 40.527002278992526], &quot;geometry&quot;: {&quot;coordinates&quot;: [[[-73.9130053700548, 40.50069959360904], [-73.88045218900264, 40.49171844236169], [-73.86932455400844, 40.51801765947492], [-73.90189167606039, 40.527002278992526], [-73.9130053700548, 40.50069959360904]]], &quot;type&quot;: &quot;Polygon&quot;}, &quot;id&quot;: &quot;164&quot;, &quot;properties&quot;: {}, &quot;type&quot;: &quot;Feature&quot;}, {&quot;bbox&quot;: [-73.90189167606039, 40.51801765947492, -73.85818612607626, 40.5533008863821], &quot;geometry&quot;: {&quot;coordinates&quot;: [[[-73.90189167606039, 40.527002278992526], [-73.86932455400844, 40.51801765947492], [-73.85818612607626, 40.544312794524444], [-73.89076719907662, 40.5533008863821], [-73.90189167606039, 40.527002278992526]]], &quot;type&quot;: &quot;Polygon&quot;}, &quot;id&quot;: &quot;165&quot;, &quot;properties&quot;: {}, &quot;type&quot;: &quot;Feature&quot;}, {&quot;bbox&quot;: [-73.89076719907662, 40.544312794524444, -73.84703689010934, 40.57959541669175], &quot;geometry&quot;: {&quot;coordinates&quot;: [[[-73.89076719907662, 40.5533008863821], [-73.85818612607626, 40.544312794524444], [-73.84703689010934, 40.57060384841928], [-73.87963192401374, 40.57959541669175], [-73.89076719907662, 40.5533008863821]]], &quot;type&quot;: &quot;Polygon&quot;}, &quot;id&quot;: &quot;166&quot;, &quot;properties&quot;: {}, &quot;type&quot;: &quot;Feature&quot;}, {&quot;bbox&quot;: [-73.87963192401374, 40.57060384841928, -73.83587683098402, 40.605885870830434], &quot;geometry&quot;: {&quot;coordinates&quot;: [[[-73.87963192401374, 40.57959541669175], [-73.84703689010934, 40.57060384841928], [-73.83587683098402, 40.59689082206347], [-73.86848583575504, 40.605885870830434], [-73.87963192401374, 40.57959541669175]]], &quot;type&quot;: &quot;Polygon&quot;}, &quot;id&quot;: &quot;167&quot;, &quot;properties&quot;: {}, &quot;type&quot;: &quot;Feature&quot;}, {&quot;bbox&quot;: [-73.86848583575504, 40.59689082206347, -73.82470593354968, 40.63217224970206], &quot;geometry&quot;: {&quot;coordinates&quot;: [[[-73.86848583575504, 40.605885870830434], [-73.83587683098402, 40.59689082206347], [-73.82470593354968, 40.62317371635608], [-73.85732891915687, 40.63217224970206], [-73.86848583575504, 40.605885870830434]]], &quot;type&quot;: &quot;Polygon&quot;}, &quot;id&quot;: &quot;168&quot;, &quot;properties&quot;: {}, &quot;type&quot;: &quot;Feature&quot;}, {&quot;bbox&quot;: [-73.85732891915687, 40.62317371635608, -73.81352418262864, 40.65845455420556], &quot;geometry&quot;: {&quot;coordinates&quot;: [[[-73.85732891915687, 40.63217224970206], [-73.82470593354968, 40.62317371635608], [-73.81352418262864, 40.64945253219099], [-73.84616115904849, 40.65845455420556], [-73.85732891915687, 40.63217224970206]]], &quot;type&quot;: &quot;Polygon&quot;}, &quot;id&quot;: &quot;169&quot;, &quot;properties&quot;: {}, &quot;type&quot;: &quot;Feature&quot;}, {&quot;bbox&quot;: [-73.84616115904849, 40.64945253219099, -73.80233156301607, 40.68473278523477], &quot;geometry&quot;: {&quot;coordinates&quot;: [[[-73.84616115904849, 40.65845455420556], [-73.81352418262864, 40.64945253219099], [-73.80233156301607, 40.67572727045725], [-73.83498254023208, 40.68473278523477], [-73.84616115904849, 40.65845455420556]]], &quot;type&quot;: &quot;Polygon&quot;}, &quot;id&quot;: &quot;170&quot;, &quot;properties&quot;: {}, &quot;type&quot;: &quot;Feature&quot;}, {&quot;bbox&quot;: [-73.83498254023208, 40.67572727045725, -73.79112805948004, 40.71100694367856], &quot;geometry&quot;: {&quot;coordinates&quot;: [[[-73.83498254023208, 40.68473278523477], [-73.80233156301607, 40.67572727045725], [-73.79112805948004, 40.701997932038665], [-73.82379304748262, 40.71100694367856], [-73.83498254023208, 40.68473278523477]]], &quot;type&quot;: &quot;Polygon&quot;}, &quot;id&quot;: &quot;171&quot;, &quot;properties&quot;: {}, &quot;type&quot;: &quot;Feature&quot;}, {&quot;bbox&quot;: [-73.82379304748262, 40.701997932038665, -73.77991365676142, 40.7372770304207], &quot;geometry&quot;: {&quot;coordinates&quot;: [[[-73.82379304748262, 40.71100694367856], [-73.79112805948004, 40.701997932038665], [-73.77991365676142, 40.72826451781414], [-73.81259266554794, 40.7372770304207], [-73.82379304748262, 40.71100694367856]]], &quot;type&quot;: &quot;Polygon&quot;}, &quot;id&quot;: &quot;172&quot;, &quot;properties&quot;: {}, &quot;type&quot;: &quot;Feature&quot;}, {&quot;bbox&quot;: [-73.81259266554794, 40.72826451781414, -73.76868833957371, 40.76354304633996], &quot;geometry&quot;: {&quot;coordinates&quot;: [[[-73.81259266554794, 40.7372770304207], [-73.77991365676142, 40.72826451781414], [-73.76868833957371, 40.75452702865744], [-73.8013813791485, 40.76354304633996], [-73.81259266554794, 40.7372770304207]]], &quot;type&quot;: &quot;Polygon&quot;}, &quot;id&quot;: &quot;173&quot;, &quot;properties&quot;: {}, &quot;type&quot;: &quot;Feature&quot;}, {&quot;bbox&quot;: [-73.8013813791485, 40.75452702865744, -73.75745209260317, 40.789804992310096], &quot;geometry&quot;: {&quot;coordinates&quot;: [[[-73.8013813791485, 40.76354304633996], [-73.76868833957371, 40.75452702865744], [-73.75745209260317, 40.7807854654373], [-73.79015917297748, 40.789804992310096], [-73.8013813791485, 40.76354304633996]]], &quot;type&quot;: &quot;Polygon&quot;}, &quot;id&quot;: &quot;174&quot;, &quot;properties&quot;: {}, &quot;type&quot;: &quot;Feature&quot;}, {&quot;bbox&quot;: [-73.79015917297748, 40.7807854654373, -73.74620490050866, 40.8160628691997], &quot;geometry&quot;: {&quot;coordinates&quot;: [[[-73.79015917297748, 40.789804992310096], [-73.75745209260317, 40.7807854654373], [-73.74620490050866, 40.807039829017334], [-73.77892603170065, 40.8160628691997], [-73.79015917297748, 40.789804992310096]]], &quot;type&quot;: &quot;Polygon&quot;}, &quot;id&quot;: &quot;175&quot;, &quot;properties&quot;: {}, &quot;type&quot;: &quot;Feature&quot;}, {&quot;bbox&quot;: [-73.77892603170065, 40.807039829017334, -73.73494674792155, 40.842316677872404], &quot;geometry&quot;: {&quot;coordinates&quot;: [[[-73.77892603170065, 40.8160628691997], [-73.74620490050866, 40.807039829017334], [-73.73494674792155, 40.833290120256265], [-73.76768193995635, 40.842316677872404], [-73.77892603170065, 40.8160628691997]]], &quot;type&quot;: &quot;Polygon&quot;}, &quot;id&quot;: &quot;176&quot;, &quot;properties&quot;: {}, &quot;type&quot;: &quot;Feature&quot;}, {&quot;bbox&quot;: [-73.76768193995635, 40.833290120256265, -73.72367761944574, 40.868566419186735], &quot;geometry&quot;: {&quot;coordinates&quot;: [[[-73.76768193995635, 40.842316677872404], [-73.73494674792155, 40.833290120256265], [-73.72367761944574, 40.859536340007544], [-73.75642688235537, 40.868566419186735], [-73.76768193995635, 40.842316677872404]]], &quot;type&quot;: &quot;Polygon&quot;}, &quot;id&quot;: &quot;177&quot;, &quot;properties&quot;: {}, &quot;type&quot;: &quot;Feature&quot;}, {&quot;bbox&quot;: [-73.75642688235537, 40.859536340007544, -73.71239749965754, 40.89481209399611], &quot;geometry&quot;: {&quot;coordinates&quot;: [[[-73.75642688235537, 40.868566419186735], [-73.72367761944574, 40.859536340007544], [-73.71239749965754, 40.885778489119645], [-73.74516084348096, 40.89481209399611], [-73.75642688235537, 40.868566419186735]]], &quot;type&quot;: &quot;Polygon&quot;}, &quot;id&quot;: &quot;178&quot;, &quot;properties&quot;: {}, &quot;type&quot;: &quot;Feature&quot;}, {&quot;bbox&quot;: [-73.74516084348096, 40.885778489119645, -73.70110637310566, 40.921053703149035], &quot;geometry&quot;: {&quot;coordinates&quot;: [[[-73.74516084348096, 40.89481209399611], [-73.71239749965754, 40.885778489119645], [-73.70110637310566, 40.91201656843595], [-73.73388380788876, 40.921053703149035], [-73.74516084348096, 40.89481209399611]]], &quot;type&quot;: &quot;Polygon&quot;}, &quot;id&quot;: &quot;179&quot;, &quot;properties&quot;: {}, &quot;type&quot;: &quot;Feature&quot;}, {&quot;bbox&quot;: [-73.9026751404296, 40.4301204918428, -73.85904055895527, 40.46541514227062], &quot;geometry&quot;: {&quot;coordinates&quot;: [[[-73.9026751404296, 40.43910775828262], [-73.87016055936334, 40.4301204918428], [-73.85904055895527, 40.45642441222885], [-73.89156904612867, 40.46541514227062], [-73.9026751404296, 40.43910775828262]]], &quot;type&quot;: &quot;Polygon&quot;}, &quot;id&quot;: &quot;180&quot;, &quot;properties&quot;: {}, &quot;type&quot;: &quot;Feature&quot;}, {&quot;bbox&quot;: [-73.89156904612867, 40.45642441222885, -73.84790978581414, 40.49171844236169], &quot;geometry&quot;: {&quot;coordinates&quot;: [[[-73.89156904612867, 40.46541514227062], [-73.85904055895527, 40.45642441222885], [-73.84790978581414, 40.48272424465527], [-73.88045218900264, 40.49171844236169], [-73.89156904612867, 40.46541514227062]]], &quot;type&quot;: &quot;Polygon&quot;}, &quot;id&quot;: &quot;181&quot;, &quot;properties&quot;: {}, &quot;type&quot;: &quot;Feature&quot;}, {&quot;bbox&quot;: [-73.88045218900264, 40.48272424465527, -73.83676822489004, 40.51801765947492], &quot;geometry&quot;: {&quot;coordinates&quot;: [[[-73.88045218900264, 40.49171844236169], [-73.84790978581414, 40.48272424465527], [-73.83676822489004, 40.50901999003641], [-73.86932455400844, 40.51801765947492], [-73.88045218900264, 40.49171844236169]]], &quot;type&quot;: &quot;Polygon&quot;}, &quot;id&quot;: &quot;182&quot;, &quot;properties&quot;: {}, &quot;type&quot;: &quot;Feature&quot;}, {&quot;bbox&quot;: [-73.86932455400844, 40.50901999003641, -73.82561586110614, 40.544312794524444], &quot;geometry&quot;: {&quot;coordinates&quot;: [[[-73.86932455400844, 40.51801765947492], [-73.83676822489004, 40.50901999003641], [-73.82561586110614, 40.53531164928141], [-73.85818612607626, 40.544312794524444], [-73.86932455400844, 40.51801765947492]]], &quot;type&quot;: &quot;Polygon&quot;}, &quot;id&quot;: &quot;183&quot;, &quot;properties&quot;: {}, &quot;type&quot;: &quot;Feature&quot;}, {&quot;bbox&quot;: [-73.85818612607626, 40.53531164928141, -73.81445267935884, 40.57060384841928], &quot;geometry&quot;: {&quot;coordinates&quot;: [[[-73.85818612607626, 40.544312794524444], [-73.82561586110614, 40.53531164928141], [-73.81445267935884, 40.5615992232944], [-73.84703689010934, 40.57060384841928], [-73.85818612607626, 40.544312794524444]]], &quot;type&quot;: &quot;Polygon&quot;}, &quot;id&quot;: &quot;184&quot;, &quot;properties&quot;: {}, &quot;type&quot;: &quot;Feature&quot;}, {&quot;bbox&quot;: [-73.84703689010934, 40.5615992232944, -73.80327866451755, 40.59689082206347], &quot;geometry&quot;: {&quot;coordinates&quot;: [[[-73.84703689010934, 40.57060384841928], [-73.81445267935884, 40.5615992232944], [-73.80327866451755, 40.587882712974555], [-73.83587683098402, 40.59689082206347], [-73.84703689010934, 40.57060384841928]]], &quot;type&quot;: &quot;Polygon&quot;}, &quot;id&quot;: &quot;185&quot;, &quot;properties&quot;: {}, &quot;type&quot;: &quot;Feature&quot;}, {&quot;bbox&quot;: [-73.83587683098402, 40.587882712974555, -73.79209380142471, 40.62317371635608], &quot;geometry&quot;: {&quot;coordinates&quot;: [[[-73.83587683098402, 40.59689082206347], [-73.80327866451755, 40.587882712974555], [-73.79209380142471, 40.61416211921593], [-73.82470593354968, 40.62317371635608], [-73.83587683098402, 40.59689082206347]]], &quot;type&quot;: &quot;Polygon&quot;}, &quot;id&quot;: &quot;186&quot;, &quot;properties&quot;: {}, &quot;type&quot;: &quot;Feature&quot;}, {&quot;bbox&quot;: [-73.82470593354968, 40.61416211921593, -73.78089807489576, 40.64945253219099], &quot;geometry&quot;: {&quot;coordinates&quot;: [[[-73.82470593354968, 40.62317371635608], [-73.79209380142471, 40.61416211921593], [-73.78089807489576, 40.640437442907626], [-73.81352418262864, 40.64945253219099], [-73.82470593354968, 40.62317371635608]]], &quot;type&quot;: &quot;Polygon&quot;}, &quot;id&quot;: &quot;187&quot;, &quot;properties&quot;: {}, &quot;type&quot;: &quot;Feature&quot;}, {&quot;bbox&quot;: [-73.81352418262864, 40.640437442907626, -73.76969146971899, 40.67572727045725], &quot;geometry&quot;: {&quot;coordinates&quot;: [[[-73.81352418262864, 40.64945253219099], [-73.78089807489576, 40.640437442907626], [-73.76969146971899, 40.66670868493361], [-73.80233156301607, 40.67572727045725], [-73.81352418262864, 40.64945253219099]]], &quot;type&quot;: &quot;Polygon&quot;}, &quot;id&quot;: &quot;188&quot;, &quot;properties&quot;: {}, &quot;type&quot;: &quot;Feature&quot;}, {&quot;bbox&quot;: [-73.80233156301607, 40.66670868493361, -73.75847397065554, 40.701997932038665], &quot;geometry&quot;: {&quot;coordinates&quot;: [[[-73.80233156301607, 40.67572727045725], [-73.76969146971899, 40.66670868493361], [-73.75847397065554, 40.69297584617285], [-73.79112805948004, 40.701997932038665], [-73.80233156301607, 40.67572727045725]]], &quot;type&quot;: &quot;Polygon&quot;}, &quot;id&quot;: &quot;189&quot;, &quot;properties&quot;: {}, &quot;type&quot;: &quot;Feature&quot;}, {&quot;bbox&quot;: [-73.79112805948004, 40.69297584617285, -73.74724556243939, 40.72826451781414], &quot;geometry&quot;: {&quot;coordinates&quot;: [[[-73.79112805948004, 40.701997932038665], [-73.75847397065554, 40.69297584617285], [-73.74724556243939, 40.719238927499276], [-73.77991365676142, 40.72826451781414], [-73.79112805948004, 40.701997932038665]]], &quot;type&quot;: &quot;Polygon&quot;}, &quot;id&quot;: &quot;190&quot;, &quot;properties&quot;: {}, &quot;type&quot;: &quot;Feature&quot;}, {&quot;bbox&quot;: [-73.77991365676142, 40.719238927499276, -73.73600622977719, 40.75452702865744], &quot;geometry&quot;: {&quot;coordinates&quot;: [[[-73.77991365676142, 40.72826451781414], [-73.74724556243939, 40.719238927499276], [-73.73600622977719, 40.74549792978161], [-73.76868833957371, 40.75452702865744], [-73.77991365676142, 40.72826451781414]]], &quot;type&quot;: &quot;Polygon&quot;}, &quot;id&quot;: &quot;191&quot;, &quot;properties&quot;: {}, &quot;type&quot;: &quot;Feature&quot;}, {&quot;bbox&quot;: [-73.76868833957371, 40.74549792978161, -73.7247559573483, 40.7807854654373], &quot;geometry&quot;: {&quot;coordinates&quot;: [[[-73.76868833957371, 40.75452702865744], [-73.73600622977719, 40.74549792978161], [-73.7247559573483, 40.77175285388366], [-73.75745209260317, 40.7807854654373], [-73.76868833957371, 40.75452702865744]]], &quot;type&quot;: &quot;Polygon&quot;}, &quot;id&quot;: &quot;192&quot;, &quot;properties&quot;: {}, &quot;type&quot;: &quot;Feature&quot;}, {&quot;bbox&quot;: [-73.75745209260317, 40.77175285388366, -73.7134947298047, 40.807039829017334], &quot;geometry&quot;: {&quot;coordinates&quot;: [[[-73.75745209260317, 40.7807854654373], [-73.7247559573483, 40.77175285388366], [-73.7134947298047, 40.79800370066416], [-73.74620490050866, 40.807039829017334], [-73.75745209260317, 40.7807854654373]]], &quot;type&quot;: &quot;Polygon&quot;}, &quot;id&quot;: &quot;193&quot;, &quot;properties&quot;: {}, &quot;type&quot;: &quot;Feature&quot;}, {&quot;bbox&quot;: [-73.74620490050866, 40.79800370066416, -73.70222253177087, 40.833290120256265], &quot;geometry&quot;: {&quot;coordinates&quot;: [[[-73.74620490050866, 40.807039829017334], [-73.7134947298047, 40.79800370066416], [-73.70222253177087, 40.82425047097667], [-73.73494674792155, 40.833290120256265], [-73.74620490050866, 40.807039829017334]]], &quot;type&quot;: &quot;Polygon&quot;}, &quot;id&quot;: &quot;194&quot;, &quot;properties&quot;: {}, &quot;type&quot;: &quot;Feature&quot;}, {&quot;bbox&quot;: [-73.73494674792155, 40.82425047097667, -73.69093934784388, 40.859536340007544], &quot;geometry&quot;: {&quot;coordinates&quot;: [[[-73.73494674792155, 40.833290120256265], [-73.70222253177087, 40.82425047097667], [-73.69093934784388, 40.85049316566976], [-73.72367761944574, 40.859536340007544], [-73.73494674792155, 40.833290120256265]]], &quot;type&quot;: &quot;Polygon&quot;}, &quot;id&quot;: &quot;195&quot;, &quot;properties&quot;: {}, &quot;type&quot;: &quot;Feature&quot;}, {&quot;bbox&quot;: [-73.72367761944574, 40.85049316566976, -73.67964516259316, 40.885778489119645], &quot;geometry&quot;: {&quot;coordinates&quot;: [[[-73.72367761944574, 40.859536340007544], [-73.69093934784388, 40.85049316566976], [-73.67964516259316, 40.87673178558689], [-73.71239749965754, 40.885778489119645], [-73.72367761944574, 40.859536340007544]]], &quot;type&quot;: &quot;Polygon&quot;}, &quot;id&quot;: &quot;196&quot;, &quot;properties&quot;: {}, &quot;type&quot;: &quot;Feature&quot;}, {&quot;bbox&quot;: [-73.71239749965754, 40.87673178558689, -73.66833996056059, 40.91201656843595], &quot;geometry&quot;: {&quot;coordinates&quot;: [[[-73.71239749965754, 40.885778489119645], [-73.67964516259316, 40.87673178558689], [-73.66833996056059, 40.90296633156637], [-73.70110637310566, 40.91201656843595], [-73.71239749965754, 40.885778489119645]]], &quot;type&quot;: &quot;Polygon&quot;}, &quot;id&quot;: &quot;197&quot;, &quot;properties&quot;: {}, &quot;type&quot;: &quot;Feature&quot;}, {&quot;bbox&quot;: [-73.87016055936334, 40.42112019078121, -73.82652284451042, 40.45642441222885], &quot;geometry&quot;: {&quot;coordinates&quot;: [[[-73.87016055936334, 40.4301204918428], [-73.83765673600247, 40.42112019078121], [-73.82652284451042, 40.44742064411644], [-73.85904055895527, 40.45642441222885], [-73.87016055936334, 40.4301204918428]]], &quot;type&quot;: &quot;Polygon&quot;}, &quot;id&quot;: &quot;198&quot;, &quot;properties&quot;: {}, &quot;type&quot;: &quot;Feature&quot;}, {&quot;bbox&quot;: [-73.85904055895527, 40.44742064411644, -73.81537817040417, 40.48272424465527], &quot;geometry&quot;: {&quot;coordinates&quot;: [[[-73.85904055895527, 40.45642441222885], [-73.82652284451042, 40.44742064411644], [-73.81537817040417, 40.47371700542692], [-73.84790978581414, 40.48272424465527], [-73.85904055895527, 40.45642441222885]]], &quot;type&quot;: &quot;Polygon&quot;}, &quot;id&quot;: &quot;199&quot;, &quot;properties&quot;: {}, &quot;type&quot;: &quot;Feature&quot;}, {&quot;bbox&quot;: [-73.84790978581414, 40.47371700542692, -73.80422269862689, 40.50901999003641], &quot;geometry&quot;: {&quot;coordinates&quot;: [[[-73.84790978581414, 40.48272424465527], [-73.81537817040417, 40.47371700542692], [-73.80422269862689, 40.500009275621935], [-73.83676822489004, 40.50901999003641], [-73.84790978581414, 40.48272424465527]]], &quot;type&quot;: &quot;Polygon&quot;}, &quot;id&quot;: &quot;200&quot;, &quot;properties&quot;: {}, &quot;type&quot;: &quot;Feature&quot;}, {&quot;bbox&quot;: [-73.83676822489004, 40.500009275621935, -73.79305641409495, 40.53531164928141], &quot;geometry&quot;: {&quot;coordinates&quot;: [[[-73.83676822489004, 40.50901999003641], [-73.80422269862689, 40.500009275621935], [-73.79305641409495, 40.526297455605956], [-73.82561586110614, 40.53531164928141], [-73.83676822489004, 40.50901999003641]]], &quot;type&quot;: &quot;Polygon&quot;}, &quot;id&quot;: &quot;201&quot;, &quot;properties&quot;: {}, &quot;type&quot;: &quot;Feature&quot;}, {&quot;bbox&quot;: [-73.82561586110614, 40.526297455605956, -73.78187930169781, 40.5615992232944], &quot;geometry&quot;: {&quot;coordinates&quot;: [[[-73.82561586110614, 40.53531164928141], [-73.79305641409495, 40.526297455605956], [-73.78187930169781, 40.552581546278056], [-73.81445267935884, 40.5615992232944], [-73.82561586110614, 40.53531164928141]]], &quot;type&quot;: &quot;Polygon&quot;}, &quot;id&quot;: &quot;202&quot;, &quot;properties&quot;: {}, &quot;type&quot;: &quot;Feature&quot;}, {&quot;bbox&quot;: [-73.81445267935884, 40.552581546278056, -73.7706913462981, 40.587882712974555], &quot;geometry&quot;: {&quot;coordinates&quot;: [[[-73.81445267935884, 40.5615992232944], [-73.78187930169781, 40.552581546278056], [-73.7706913462981, 40.578861548532586], [-73.80327866451755, 40.587882712974555], [-73.81445267935884, 40.5615992232944]]], &quot;type&quot;: &quot;Polygon&quot;}, &quot;id&quot;: &quot;203&quot;, &quot;properties&quot;: {}, &quot;type&quot;: &quot;Feature&quot;}, {&quot;bbox&quot;: [-73.80327866451755, 40.578861548532586, -73.75949253273136, 40.61416211921593], &quot;geometry&quot;: {&quot;coordinates&quot;: [[[-73.80327866451755, 40.587882712974555], [-73.7706913462981, 40.578861548532586], [-73.75949253273136, 40.60513746325864], [-73.79209380142471, 40.61416211921593], [-73.80327866451755, 40.587882712974555]]], &quot;type&quot;: &quot;Polygon&quot;}, &quot;id&quot;: &quot;204&quot;, &quot;properties&quot;: {}, &quot;type&quot;: &quot;Feature&quot;}, {&quot;bbox&quot;: [-73.79209380142471, 40.60513746325864, -73.74828284580619, 40.640437442907626], &quot;geometry&quot;: {&quot;coordinates&quot;: [[[-73.79209380142471, 40.61416211921593], [-73.75949253273136, 40.60513746325864], [-73.74828284580619, 40.63140929134041], [-73.78089807489576, 40.640437442907626], [-73.79209380142471, 40.61416211921593]]], &quot;type&quot;: &quot;Polygon&quot;}, &quot;id&quot;: &quot;205&quot;, &quot;properties&quot;: {}, &quot;type&quot;: &quot;Feature&quot;}, {&quot;bbox&quot;: [-73.78089807489576, 40.63140929134041, -73.73706227030402, 40.66670868493361], &quot;geometry&quot;: {&quot;coordinates&quot;: [[[-73.78089807489576, 40.640437442907626], [-73.74828284580619, 40.63140929134041], [-73.73706227030402, 40.65767703365685], [-73.76969146971899, 40.66670868493361], [-73.78089807489576, 40.640437442907626]]], &quot;type&quot;: &quot;Polygon&quot;}, &quot;id&quot;: &quot;206&quot;, &quot;properties&quot;: {}, &quot;type&quot;: &quot;Feature&quot;}, {&quot;bbox&quot;: [-73.76969146971899, 40.65767703365685, -73.72583079097922, 40.69297584617285], &quot;geometry&quot;: {&quot;coordinates&quot;: [[[-73.76969146971899, 40.66670868493361], [-73.73706227030402, 40.65767703365685], [-73.72583079097922, 40.68394069108215], [-73.75847397065554, 40.69297584617285], [-73.76969146971899, 40.66670868493361]]], &quot;type&quot;: &quot;Polygon&quot;}, &quot;id&quot;: &quot;207&quot;, &quot;properties&quot;: {}, &quot;type&quot;: &quot;Feature&quot;}, {&quot;bbox&quot;: [-73.75847397065554, 40.68394069108215, -73.71458839255887, 40.719238927499276], &quot;geometry&quot;: {&quot;coordinates&quot;: [[[-73.75847397065554, 40.69297584617285], [-73.72583079097922, 40.68394069108215], [-73.71458839255887, 40.71020026448513], [-73.74724556243939, 40.719238927499276], [-73.75847397065554, 40.69297584617285]]], &quot;type&quot;: &quot;Polygon&quot;}, &quot;id&quot;: &quot;208&quot;, &quot;properties&quot;: {}, &quot;type&quot;: &quot;Feature&quot;}, {&quot;bbox&quot;: [-73.74724556243939, 40.71020026448513, -73.7033350597428, 40.74549792978161], &quot;geometry&quot;: {&quot;coordinates&quot;: [[[-73.74724556243939, 40.719238927499276], [-73.71458839255887, 40.71020026448513], [-73.7033350597428, 40.73645575472963], [-73.73600622977719, 40.74549792978161], [-73.74724556243939, 40.719238927499276]]], &quot;type&quot;: &quot;Polygon&quot;}, &quot;id&quot;: &quot;209&quot;, &quot;properties&quot;: {}, &quot;type&quot;: &quot;Feature&quot;}, {&quot;bbox&quot;: [-73.73600622977719, 40.73645575472963, -73.69207077720357, 40.77175285388366], &quot;geometry&quot;: {&quot;coordinates&quot;: [[[-73.73600622977719, 40.74549792978161], [-73.7033350597428, 40.73645575472963], [-73.69207077720357, 40.762707162674545], [-73.7247559573483, 40.77175285388366], [-73.73600622977719, 40.74549792978161]]], &quot;type&quot;: &quot;Polygon&quot;}, &quot;id&quot;: &quot;210&quot;, &quot;properties&quot;: {}, &quot;type&quot;: &quot;Feature&quot;}, {&quot;bbox&quot;: [-73.7247559573483, 40.762707162674545, -73.68079552958633, 40.79800370066416], &quot;geometry&quot;: {&quot;coordinates&quot;: [[[-73.7247559573483, 40.77175285388366], [-73.69207077720357, 40.762707162674545], [-73.68079552958633, 40.78895448917346], [-73.7134947298047, 40.79800370066416], [-73.7247559573483, 40.77175285388366]]], &quot;type&quot;: &quot;Polygon&quot;}, &quot;id&quot;: &quot;211&quot;, &quot;properties&quot;: {}, &quot;type&quot;: &quot;Feature&quot;}, {&quot;bbox&quot;: [-73.7134947298047, 40.78895448917346, -73.66950930150878, 40.82425047097667], &quot;geometry&quot;: {&quot;coordinates&quot;: [[[-73.7134947298047, 40.79800370066416], [-73.68079552958633, 40.78895448917346], [-73.66950930150878, 40.81519773507516], [-73.70222253177087, 40.82425047097667], [-73.7134947298047, 40.79800370066416]]], &quot;type&quot;: &quot;Polygon&quot;}, &quot;id&quot;: &quot;212&quot;, &quot;properties&quot;: {}, &quot;type&quot;: &quot;Feature&quot;}, {&quot;bbox&quot;: [-73.70222253177087, 40.81519773507516, -73.65821207756113, 40.85049316566976], &quot;geometry&quot;: {&quot;coordinates&quot;: [[[-73.70222253177087, 40.82425047097667], [-73.66950930150878, 40.81519773507516], [-73.65821207756113, 40.841436901223], [-73.69093934784388, 40.85049316566976], [-73.70222253177087, 40.82425047097667]]], &quot;type&quot;: &quot;Polygon&quot;}, &quot;id&quot;: &quot;213&quot;, &quot;properties&quot;: {}, &quot;type&quot;: &quot;Feature&quot;}, {&quot;bbox&quot;: [-73.69093934784388, 40.841436901223, -73.64690384230606, 40.87673178558689], &quot;geometry&quot;: {&quot;coordinates&quot;: [[[-73.69093934784388, 40.85049316566976], [-73.65821207756113, 40.841436901223], [-73.64690384230606, 40.8676719884556], [-73.67964516259316, 40.87673178558689], [-73.69093934784388, 40.85049316566976]]], &quot;type&quot;: &quot;Polygon&quot;}, &quot;id&quot;: &quot;214&quot;, &quot;properties&quot;: {}, &quot;type&quot;: &quot;Feature&quot;}, {&quot;bbox&quot;: [-73.67964516259316, 40.8676719884556, -73.6355845802786, 40.90296633156637], &quot;geometry&quot;: {&quot;coordinates&quot;: [[[-73.67964516259316, 40.87673178558689], [-73.64690384230606, 40.8676719884556], [-73.6355845802786, 40.8939029976061], [-73.66833996056059, 40.90296633156637], [-73.67964516259316, 40.87673178558689]]], &quot;type&quot;: &quot;Polygon&quot;}, &quot;id&quot;: &quot;215&quot;, &quot;properties&quot;: {}, &quot;type&quot;: &quot;Feature&quot;}, {&quot;bbox&quot;: [-73.83765673600247, 40.41210686002179, -73.79401591267533, 40.44742064411644], &quot;geometry&quot;: {&quot;coordinates&quot;: [[[-73.83765673600247, 40.42112019078121], [-73.80516368022128, 40.41210686002179], [-73.79401591267533, 40.43840384286536], [-73.82652284451042, 40.44742064411644], [-73.83765673600247, 40.42112019078121]]], &quot;type&quot;: &quot;Polygon&quot;}, &quot;id&quot;: &quot;216&quot;, &quot;properties&quot;: {}, &quot;type&quot;: &quot;Feature&quot;}, {&quot;bbox&quot;: [-73.82652284451042, 40.43840384286536, -73.78285735266077, 40.47371700542692], &quot;geometry&quot;: {&quot;coordinates&quot;: [[[-73.82652284451042, 40.44742064411644], [-73.79401591267533, 40.43840384286536], [-73.78285735266077, 40.46469672961642], [-73.81537817040417, 40.47371700542692], [-73.82652284451042, 40.44742064411644]]], &quot;type&quot;: &quot;Polygon&quot;}, &quot;id&quot;: &quot;217&quot;, &quot;properties&quot;: {}, &quot;type&quot;: &quot;Feature&quot;}, {&quot;bbox&quot;: [-73.81537817040417, 40.46469672961642, -73.77168798511396, 40.500009275621935], &quot;geometry&quot;: {&quot;coordinates&quot;: [[[-73.81537817040417, 40.47371700542692], [-73.78285735266077, 40.46469672961642], [-73.77168798511396, 40.49098552117946], [-73.80422269862689, 40.500009275621935], [-73.81537817040417, 40.47371700542692]]], &quot;type&quot;: &quot;Polygon&quot;}, &quot;id&quot;: &quot;218&quot;, &quot;properties&quot;: {}, &quot;type&quot;: &quot;Feature&quot;}, {&quot;bbox&quot;: [-73.80422269862689, 40.49098552117946, -73.76050779494444, 40.526297455605956], &quot;geometry&quot;: {&quot;coordinates&quot;: [[[-73.80422269862689, 40.500009275621935], [-73.77168798511396, 40.49098552117946], [-73.76050779494444, 40.51727021845395], [-73.79305641409495, 40.526297455605956], [-73.80422269862689, 40.500009275621935]]], &quot;type&quot;: &quot;Polygon&quot;}, &quot;id&quot;: &quot;219&quot;, &quot;properties&quot;: {}, &quot;type&quot;: &quot;Feature&quot;}, {&quot;bbox&quot;: [-73.79305641409495, 40.51727021845395, -73.74931676703491, 40.552581546278056], &quot;geometry&quot;: {&quot;coordinates&quot;: [[[-73.79305641409495, 40.526297455605956], [-73.76050779494444, 40.51727021845395], [-73.74931676703491, 40.543550822334105], [-73.78187930169781, 40.552581546278056], [-73.79305641409495, 40.526297455605956]]], &quot;type&quot;: &quot;Polygon&quot;}, &quot;id&quot;: &quot;220&quot;, &quot;properties&quot;: {}, &quot;type&quot;: &quot;Feature&quot;}, {&quot;bbox&quot;: [-73.78187930169781, 40.543550822334105, -73.73811488624115, 40.578861548532586], &quot;geometry&quot;: {&quot;coordinates&quot;: [[[-73.78187930169781, 40.552581546278056], [-73.74931676703491, 40.543550822334105], [-73.73811488624115, 40.56982733370938], [-73.7706913462981, 40.578861548532586], [-73.78187930169781, 40.552581546278056]]], &quot;type&quot;: &quot;Polygon&quot;}, &quot;id&quot;: &quot;221&quot;, &quot;properties&quot;: {}, &quot;type&quot;: &quot;Feature&quot;}, {&quot;bbox&quot;: [-73.7706913462981, 40.56982733370938, -73.72690213739193, 40.60513746325864], &quot;geometry&quot;: {&quot;coordinates&quot;: [[[-73.7706913462981, 40.578861548532586], [-73.73811488624115, 40.56982733370938], [-73.72690213739193, 40.59609975346398], [-73.75949253273136, 40.60513746325864], [-73.7706913462981, 40.578861548532586]]], &quot;type&quot;: &quot;Polygon&quot;}, &quot;id&quot;: &quot;222&quot;, &quot;properties&quot;: {}, &quot;type&quot;: &quot;Feature&quot;}, {&quot;bbox&quot;: [-73.75949253273136, 40.59609975346398, -73.71567850528905, 40.63140929134041], &quot;geometry&quot;: {&quot;coordinates&quot;: [[[-73.75949253273136, 40.60513746325864], [-73.72690213739193, 40.59609975346398], [-73.71567850528905, 40.622368082477124], [-73.74828284580619, 40.63140929134041], [-73.75949253273136, 40.60513746325864]]], &quot;type&quot;: &quot;Polygon&quot;}, &quot;id&quot;: &quot;223&quot;, &quot;properties&quot;: {}, &quot;type&quot;: &quot;Feature&quot;}, {&quot;bbox&quot;: [-73.74828284580619, 40.622368082477124, -73.70444397470719, 40.65767703365685], &quot;geometry&quot;: {&quot;coordinates&quot;: [[[-73.74828284580619, 40.63140929134041], [-73.71567850528905, 40.622368082477124], [-73.70444397470719, 40.64863232162295], [-73.73706227030402, 40.65767703365685], [-73.74828284580619, 40.63140929134041]]], &quot;type&quot;: &quot;Polygon&quot;}, &quot;id&quot;: &quot;224&quot;, &quot;properties&quot;: {}, &quot;type&quot;: &quot;Feature&quot;}, {&quot;bbox&quot;: [-73.73706227030402, 40.64863232162295, -73.69319853039387, 40.68394069108215], &quot;geometry&quot;: {&quot;coordinates&quot;: [[[-73.73706227030402, 40.65767703365685], [-73.70444397470719, 40.64863232162295], [-73.69319853039387, 40.674892471770455], [-73.72583079097922, 40.68394069108215], [-73.73706227030402, 40.65767703365685]]], &quot;type&quot;: &quot;Polygon&quot;}, &quot;id&quot;: &quot;225&quot;, &quot;properties&quot;: {}, &quot;type&quot;: &quot;Feature&quot;}, {&quot;bbox&quot;: [-73.72583079097922, 40.674892471770455, -73.68194215706946, 40.71020026448513], &quot;geometry&quot;: {&quot;coordinates&quot;: [[[-73.72583079097922, 40.68394069108215], [-73.69319853039387, 40.674892471770455], [-73.68194215706946, 40.70114853378376], [-73.71458839255887, 40.71020026448513], [-73.72583079097922, 40.68394069108215]]], &quot;type&quot;: &quot;Polygon&quot;}, &quot;id&quot;: &quot;226&quot;, &quot;properties&quot;: {}, &quot;type&quot;: &quot;Feature&quot;}, {&quot;bbox&quot;: [-73.71458839255887, 40.70114853378376, -73.67067483942701, 40.73645575472963], &quot;geometry&quot;: {&quot;coordinates&quot;: [[[-73.71458839255887, 40.71020026448513], [-73.68194215706946, 40.70114853378376], [-73.67067483942701, 40.72740050852172], [-73.7033350597428, 40.73645575472963], [-73.71458839255887, 40.71020026448513]]], &quot;type&quot;: &quot;Polygon&quot;}, &quot;id&quot;: &quot;227&quot;, &quot;properties&quot;: {}, &quot;type&quot;: &quot;Feature&quot;}, {&quot;bbox&quot;: [-73.7033350597428, 40.72740050852172, -73.6593965621323, 40.762707162674545], &quot;geometry&quot;: {&quot;coordinates&quot;: [[[-73.7033350597428, 40.73645575472963], [-73.67067483942701, 40.72740050852172], [-73.6593965621323, 40.75364839683808], [-73.69207077720357, 40.762707162674545], [-73.7033350597428, 40.73645575472963]]], &quot;type&quot;: &quot;Polygon&quot;}, &quot;id&quot;: &quot;228&quot;, &quot;properties&quot;: {}, &quot;type&quot;: &quot;Feature&quot;}, {&quot;bbox&quot;: [-73.69207077720357, 40.75364839683808, -73.6481073098237, 40.78895448917346], &quot;geometry&quot;: {&quot;coordinates&quot;: [[[-73.69207077720357, 40.762707162674545], [-73.6593965621323, 40.75364839683808], [-73.6481073098237, 40.77989219958161], [-73.68079552958633, 40.78895448917346], [-73.69207077720357, 40.762707162674545]]], &quot;type&quot;: &quot;Polygon&quot;}, &quot;id&quot;: &quot;229&quot;, &quot;properties&quot;: {}, &quot;type&quot;: &quot;Feature&quot;}, {&quot;bbox&quot;: [-73.68079552958633, 40.77989219958161, -73.63680706711219, 40.81519773507516], &quot;geometry&quot;: {&quot;coordinates&quot;: [[[-73.68079552958633, 40.78895448917346], [-73.6481073098237, 40.77989219958161], [-73.63680706711219, 40.80613191759604], [-73.66950930150878, 40.81519773507516], [-73.68079552958633, 40.78895448917346]]], &quot;type&quot;: &quot;Polygon&quot;}, &quot;id&quot;: &quot;230&quot;, &quot;properties&quot;: {}, &quot;type&quot;: &quot;Feature&quot;}, {&quot;bbox&quot;: [-73.66950930150878, 40.80613191759604, -73.62549581858123, 40.841436901223], &quot;geometry&quot;: {&quot;coordinates&quot;: [[[-73.66950930150878, 40.81519773507516], [-73.63680706711219, 40.80613191759604], [-73.62549581858123, 40.83236755171984], [-73.65821207756113, 40.841436901223], [-73.66950930150878, 40.81519773507516]]], &quot;type&quot;: &quot;Polygon&quot;}, &quot;id&quot;: &quot;231&quot;, &quot;properties&quot;: {}, &quot;type&quot;: &quot;Feature&quot;}, {&quot;bbox&quot;: [-73.65821207756113, 40.83236755171984, -73.61417354878674, 40.8676719884556], &quot;geometry&quot;: {&quot;coordinates&quot;: [[[-73.65821207756113, 40.841436901223], [-73.62549581858123, 40.83236755171984], [-73.61417354878674, 40.8585991027864], [-73.64690384230606, 40.8676719884556], [-73.65821207756113, 40.841436901223]]], &quot;type&quot;: &quot;Polygon&quot;}, &quot;id&quot;: &quot;232&quot;, &quot;properties&quot;: {}, &quot;type&quot;: &quot;Feature&quot;}, {&quot;bbox&quot;: [-73.64690384230606, 40.8585991027864, -73.602840242257, 40.8939029976061], &quot;geometry&quot;: {&quot;coordinates&quot;: [[[-73.64690384230606, 40.8676719884556], [-73.61417354878674, 40.8585991027864], [-73.602840242257, 40.88482657162411], [-73.6355845802786, 40.8939029976061], [-73.64690384230606, 40.8676719884556]]], &quot;type&quot;: &quot;Polygon&quot;}, &quot;id&quot;: &quot;233&quot;, &quot;properties&quot;: {}, &quot;type&quot;: &quot;Feature&quot;}], &quot;type&quot;: &quot;FeatureCollection&quot;});\n",
       "\n",
       "        \n",
       "&lt;/script&gt;\n",
       "&lt;/html&gt;\" style=\"position:absolute;width:100%;height:100%;left:0;top:0;border:none !important;\" allowfullscreen webkitallowfullscreen mozallowfullscreen></iframe></div></div>"
      ],
      "text/plain": [
       "<folium.folium.Map at 0x1aa249a80>"
      ]
     },
     "execution_count": 88,
     "metadata": {},
     "output_type": "execute_result"
    }
   ],
   "source": [
    "m"
   ]
  },
  {
   "cell_type": "code",
   "execution_count": 49,
   "metadata": {},
   "outputs": [
    {
     "ename": "NotImplementedException",
     "evalue": "Not implemented Error: Data type 'geometry' not recognized",
     "output_type": "error",
     "traceback": [
      "\u001b[0;31m---------------------------------------------------------------------------\u001b[0m",
      "\u001b[0;31mNotImplementedException\u001b[0m                   Traceback (most recent call last)",
      "Cell \u001b[0;32mIn[49], line 1\u001b[0m\n\u001b[0;32m----> 1\u001b[0m ddb\u001b[39m.\u001b[39;49msql(\u001b[39m\"\u001b[39;49m\u001b[39mCREATE TABLE grid AS SELECT * EXCLUDE geometry, ST_GEOMFROMWKB(geometry) GEO FROM grid\u001b[39;49m\u001b[39m\"\u001b[39;49m)\n",
      "\u001b[0;31mNotImplementedException\u001b[0m: Not implemented Error: Data type 'geometry' not recognized"
     ]
    }
   ],
   "source": [
    "ddb.sql(\"CREATE TABLE grid AS SELECT * EXCLUDE geometry, ST_GEOMFROMWKB(geometry) GEO FROM grid\")"
   ]
  }
 ],
 "metadata": {
  "kernelspec": {
   "display_name": "duckdb",
   "language": "python",
   "name": "python3"
  },
  "language_info": {
   "codemirror_mode": {
    "name": "ipython",
    "version": 3
   },
   "file_extension": ".py",
   "mimetype": "text/x-python",
   "name": "python",
   "nbconvert_exporter": "python",
   "pygments_lexer": "ipython3",
   "version": "3.10.12"
  },
  "orig_nbformat": 4
 },
 "nbformat": 4,
 "nbformat_minor": 2
}
