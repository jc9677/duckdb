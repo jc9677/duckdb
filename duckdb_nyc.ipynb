{
 "cells": [
  {
   "cell_type": "code",
   "execution_count": 1,
   "metadata": {},
   "outputs": [],
   "source": [
    "import duckdb as ddb\n",
    "import pandas as pd\n",
    "import geopandas as gpd\n",
    "\n",
    "ddb.load_extension('spatial')\n"
   ]
  },
  {
   "cell_type": "code",
   "execution_count": 2,
   "metadata": {},
   "outputs": [],
   "source": [
    "optionA = ddb.sql('SELECT time_of_trip,start_lat,start_lng FROM \"NYC/other-Lyft_B02510.csv\"').df()"
   ]
  },
  {
   "cell_type": "code",
   "execution_count": 14,
   "metadata": {},
   "outputs": [],
   "source": [
    "ddb.sql('CREATE TABLE nyc AS SELECT time_of_trip,start_lat,start_lng FROM \"NYC/other-Lyft_B02510.csv\"')"
   ]
  },
  {
   "cell_type": "code",
   "execution_count": 3,
   "metadata": {},
   "outputs": [
    {
     "data": {
      "text/plain": [
       "pandas.core.frame.DataFrame"
      ]
     },
     "execution_count": 3,
     "metadata": {},
     "output_type": "execute_result"
    }
   ],
   "source": [
    "type(optionA)"
   ]
  },
  {
   "cell_type": "code",
   "execution_count": 13,
   "metadata": {},
   "outputs": [],
   "source": [
    "# Drop the nyc table if it exists\n",
    "ddb.sql('DROP TABLE IF EXISTS nyc')"
   ]
  },
  {
   "cell_type": "code",
   "execution_count": 4,
   "metadata": {},
   "outputs": [
    {
     "data": {
      "text/html": [
       "<div>\n",
       "<style scoped>\n",
       "    .dataframe tbody tr th:only-of-type {\n",
       "        vertical-align: middle;\n",
       "    }\n",
       "\n",
       "    .dataframe tbody tr th {\n",
       "        vertical-align: top;\n",
       "    }\n",
       "\n",
       "    .dataframe thead th {\n",
       "        text-align: right;\n",
       "    }\n",
       "</style>\n",
       "<table border=\"1\" class=\"dataframe\">\n",
       "  <thead>\n",
       "    <tr style=\"text-align: right;\">\n",
       "      <th></th>\n",
       "      <th>time_of_trip</th>\n",
       "      <th>start_lat</th>\n",
       "      <th>start_lng</th>\n",
       "    </tr>\n",
       "  </thead>\n",
       "  <tbody>\n",
       "    <tr>\n",
       "      <th>0</th>\n",
       "      <td>9/4/2014 9:51</td>\n",
       "      <td>40.64705</td>\n",
       "      <td>-73.77988</td>\n",
       "    </tr>\n",
       "    <tr>\n",
       "      <th>1</th>\n",
       "      <td>8/27/2014 21:13</td>\n",
       "      <td>40.74916</td>\n",
       "      <td>-73.98373</td>\n",
       "    </tr>\n",
       "    <tr>\n",
       "      <th>2</th>\n",
       "      <td>9/4/2014 14:16</td>\n",
       "      <td>40.64065</td>\n",
       "      <td>-73.97594</td>\n",
       "    </tr>\n",
       "    <tr>\n",
       "      <th>3</th>\n",
       "      <td>9/4/2014 16:08</td>\n",
       "      <td>40.75002</td>\n",
       "      <td>-73.99514</td>\n",
       "    </tr>\n",
       "    <tr>\n",
       "      <th>4</th>\n",
       "      <td>8/28/2014 2:41</td>\n",
       "      <td>40.76715</td>\n",
       "      <td>-73.98636</td>\n",
       "    </tr>\n",
       "    <tr>\n",
       "      <th>...</th>\n",
       "      <td>...</td>\n",
       "      <td>...</td>\n",
       "      <td>...</td>\n",
       "    </tr>\n",
       "    <tr>\n",
       "      <th>267696</th>\n",
       "      <td>9/7/2014 3:19</td>\n",
       "      <td>40.71931</td>\n",
       "      <td>-73.99138</td>\n",
       "    </tr>\n",
       "    <tr>\n",
       "      <th>267697</th>\n",
       "      <td>9/7/2014 2:59</td>\n",
       "      <td>40.73868</td>\n",
       "      <td>-73.98862</td>\n",
       "    </tr>\n",
       "    <tr>\n",
       "      <th>267698</th>\n",
       "      <td>9/7/2014 1:55</td>\n",
       "      <td>40.71554</td>\n",
       "      <td>-73.94877</td>\n",
       "    </tr>\n",
       "    <tr>\n",
       "      <th>267699</th>\n",
       "      <td>9/5/2014 23:26</td>\n",
       "      <td>40.74667</td>\n",
       "      <td>-73.97445</td>\n",
       "    </tr>\n",
       "    <tr>\n",
       "      <th>267700</th>\n",
       "      <td>9/6/2014 22:19</td>\n",
       "      <td>40.74393</td>\n",
       "      <td>-73.78011</td>\n",
       "    </tr>\n",
       "  </tbody>\n",
       "</table>\n",
       "<p>267701 rows × 3 columns</p>\n",
       "</div>"
      ],
      "text/plain": [
       "           time_of_trip  start_lat  start_lng\n",
       "0         9/4/2014 9:51   40.64705  -73.77988\n",
       "1       8/27/2014 21:13   40.74916  -73.98373\n",
       "2        9/4/2014 14:16   40.64065  -73.97594\n",
       "3        9/4/2014 16:08   40.75002  -73.99514\n",
       "4        8/28/2014 2:41   40.76715  -73.98636\n",
       "...                 ...        ...        ...\n",
       "267696    9/7/2014 3:19   40.71931  -73.99138\n",
       "267697    9/7/2014 2:59   40.73868  -73.98862\n",
       "267698    9/7/2014 1:55   40.71554  -73.94877\n",
       "267699   9/5/2014 23:26   40.74667  -73.97445\n",
       "267700   9/6/2014 22:19   40.74393  -73.78011\n",
       "\n",
       "[267701 rows x 3 columns]"
      ]
     },
     "execution_count": 4,
     "metadata": {},
     "output_type": "execute_result"
    }
   ],
   "source": [
    "optionA"
   ]
  },
  {
   "cell_type": "code",
   "execution_count": 5,
   "metadata": {},
   "outputs": [],
   "source": [
    "gdf = gpd.GeoDataFrame(optionA, geometry=gpd.points_from_xy(optionA.start_lng, optionA.start_lat))"
   ]
  },
  {
   "cell_type": "code",
   "execution_count": 6,
   "metadata": {},
   "outputs": [
    {
     "data": {
      "text/html": [
       "<div>\n",
       "<style scoped>\n",
       "    .dataframe tbody tr th:only-of-type {\n",
       "        vertical-align: middle;\n",
       "    }\n",
       "\n",
       "    .dataframe tbody tr th {\n",
       "        vertical-align: top;\n",
       "    }\n",
       "\n",
       "    .dataframe thead th {\n",
       "        text-align: right;\n",
       "    }\n",
       "</style>\n",
       "<table border=\"1\" class=\"dataframe\">\n",
       "  <thead>\n",
       "    <tr style=\"text-align: right;\">\n",
       "      <th></th>\n",
       "      <th>time_of_trip</th>\n",
       "      <th>start_lat</th>\n",
       "      <th>start_lng</th>\n",
       "      <th>geometry</th>\n",
       "    </tr>\n",
       "  </thead>\n",
       "  <tbody>\n",
       "    <tr>\n",
       "      <th>0</th>\n",
       "      <td>9/4/2014 9:51</td>\n",
       "      <td>40.64705</td>\n",
       "      <td>-73.77988</td>\n",
       "      <td>POINT (-73.77988 40.64705)</td>\n",
       "    </tr>\n",
       "    <tr>\n",
       "      <th>1</th>\n",
       "      <td>8/27/2014 21:13</td>\n",
       "      <td>40.74916</td>\n",
       "      <td>-73.98373</td>\n",
       "      <td>POINT (-73.98373 40.74916)</td>\n",
       "    </tr>\n",
       "    <tr>\n",
       "      <th>2</th>\n",
       "      <td>9/4/2014 14:16</td>\n",
       "      <td>40.64065</td>\n",
       "      <td>-73.97594</td>\n",
       "      <td>POINT (-73.97594 40.64065)</td>\n",
       "    </tr>\n",
       "    <tr>\n",
       "      <th>3</th>\n",
       "      <td>9/4/2014 16:08</td>\n",
       "      <td>40.75002</td>\n",
       "      <td>-73.99514</td>\n",
       "      <td>POINT (-73.99514 40.75002)</td>\n",
       "    </tr>\n",
       "    <tr>\n",
       "      <th>4</th>\n",
       "      <td>8/28/2014 2:41</td>\n",
       "      <td>40.76715</td>\n",
       "      <td>-73.98636</td>\n",
       "      <td>POINT (-73.98636 40.76715)</td>\n",
       "    </tr>\n",
       "    <tr>\n",
       "      <th>...</th>\n",
       "      <td>...</td>\n",
       "      <td>...</td>\n",
       "      <td>...</td>\n",
       "      <td>...</td>\n",
       "    </tr>\n",
       "    <tr>\n",
       "      <th>267696</th>\n",
       "      <td>9/7/2014 3:19</td>\n",
       "      <td>40.71931</td>\n",
       "      <td>-73.99138</td>\n",
       "      <td>POINT (-73.99138 40.71931)</td>\n",
       "    </tr>\n",
       "    <tr>\n",
       "      <th>267697</th>\n",
       "      <td>9/7/2014 2:59</td>\n",
       "      <td>40.73868</td>\n",
       "      <td>-73.98862</td>\n",
       "      <td>POINT (-73.98862 40.73868)</td>\n",
       "    </tr>\n",
       "    <tr>\n",
       "      <th>267698</th>\n",
       "      <td>9/7/2014 1:55</td>\n",
       "      <td>40.71554</td>\n",
       "      <td>-73.94877</td>\n",
       "      <td>POINT (-73.94877 40.71554)</td>\n",
       "    </tr>\n",
       "    <tr>\n",
       "      <th>267699</th>\n",
       "      <td>9/5/2014 23:26</td>\n",
       "      <td>40.74667</td>\n",
       "      <td>-73.97445</td>\n",
       "      <td>POINT (-73.97445 40.74667)</td>\n",
       "    </tr>\n",
       "    <tr>\n",
       "      <th>267700</th>\n",
       "      <td>9/6/2014 22:19</td>\n",
       "      <td>40.74393</td>\n",
       "      <td>-73.78011</td>\n",
       "      <td>POINT (-73.78011 40.74393)</td>\n",
       "    </tr>\n",
       "  </tbody>\n",
       "</table>\n",
       "<p>267701 rows × 4 columns</p>\n",
       "</div>"
      ],
      "text/plain": [
       "           time_of_trip  start_lat  start_lng                    geometry\n",
       "0         9/4/2014 9:51   40.64705  -73.77988  POINT (-73.77988 40.64705)\n",
       "1       8/27/2014 21:13   40.74916  -73.98373  POINT (-73.98373 40.74916)\n",
       "2        9/4/2014 14:16   40.64065  -73.97594  POINT (-73.97594 40.64065)\n",
       "3        9/4/2014 16:08   40.75002  -73.99514  POINT (-73.99514 40.75002)\n",
       "4        8/28/2014 2:41   40.76715  -73.98636  POINT (-73.98636 40.76715)\n",
       "...                 ...        ...        ...                         ...\n",
       "267696    9/7/2014 3:19   40.71931  -73.99138  POINT (-73.99138 40.71931)\n",
       "267697    9/7/2014 2:59   40.73868  -73.98862  POINT (-73.98862 40.73868)\n",
       "267698    9/7/2014 1:55   40.71554  -73.94877  POINT (-73.94877 40.71554)\n",
       "267699   9/5/2014 23:26   40.74667  -73.97445  POINT (-73.97445 40.74667)\n",
       "267700   9/6/2014 22:19   40.74393  -73.78011  POINT (-73.78011 40.74393)\n",
       "\n",
       "[267701 rows x 4 columns]"
      ]
     },
     "execution_count": 6,
     "metadata": {},
     "output_type": "execute_result"
    }
   ],
   "source": [
    "gdf"
   ]
  },
  {
   "cell_type": "code",
   "execution_count": 7,
   "metadata": {},
   "outputs": [],
   "source": [
    "# Export the GeoDataFrame to parquet\n",
    "gdf.to_parquet('nyc.parquet')"
   ]
  },
  {
   "cell_type": "code",
   "execution_count": 11,
   "metadata": {},
   "outputs": [],
   "source": [
    "parquet = ddb.read_parquet('nyc.parquet')"
   ]
  },
  {
   "cell_type": "code",
   "execution_count": 14,
   "metadata": {},
   "outputs": [
    {
     "data": {
      "text/plain": [
       "┌─────────────────┬───────────┬───────────┬────────────────────────────────────────────────────────────────────┐\n",
       "│  time_of_trip   │ start_lat │ start_lng │                              geometry                              │\n",
       "│     varchar     │  double   │  double   │                                blob                                │\n",
       "├─────────────────┼───────────┼───────────┼────────────────────────────────────────────────────────────────────┤\n",
       "│ 9/4/2014 9:51   │  40.64705 │ -73.77988 │ \\x01\\x01\\x00\\x00\\x00}\\xB3\\xCD\\x8D\\xE9qR\\xC0;p\\xCE\\x88\\xD2RD@       │\n",
       "│ 8/27/2014 21:13 │  40.74916 │ -73.98373 │ \\x01\\x01\\x00\\x00\\x00\\x05\\x86\\xACn\\xF5~R\\xC0V\\xBC\\x91y\\xE4_D@       │\n",
       "│ 9/4/2014 14:16  │  40.64065 │ -73.97594 │ \\x01\\x01\\x00\\x00\\x00\\xED\\xB6\\x0B\\xCDu~R\\xC0Y\\x17\\xB7\\xD1\\x00RD@    │\n",
       "│ 9/4/2014 16:08  │  40.75002 │ -73.99514 │ \\x01\\x01\\x00\\x00\\x00A\\xBC\\xAE_\\xB0\\x7FR\\xC0G\\xAC\\xC5\\xA7\\x00`D@    │\n",
       "│ 8/28/2014 2:41  │  40.76715 │ -73.98636 │ \\x01\\x01\\x00\\x00\\x00I\\x85\\xB1\\x85 \\x7FR\\xC0.\\x90\\xA0\\xF81bD@       │\n",
       "│ 9/13/2014 3:57  │  40.70707 │ -74.01211 │ \\x01\\x01\\x00\\x00\\x00\\x18}\\x05i\\xC6\\x80R\\xC0\\xCA\\xFD\\x0EE\\x81ZD@    │\n",
       "│ 9/11/2014 23:13 │  40.72953 │ -73.97799 │ \\x01\\x01\\x00\\x00\\x00*t^c\\x97~R\\xC0\\xB6\\xB91=a]D@                   │\n",
       "│ 8/27/2014 22:56 │  40.76689 │ -73.95631 │ \\x01\\x01\\x00\\x00\\x00\\x9E\\xB5\\xDB.4}R\\xC0\\x91\\xD0\\x96s)bD@          │\n",
       "│ 9/10/2014 17:48 │  40.82332 │ -73.86235 │ \\x01\\x01\\x00\\x00\\x00)\\xED\\x0D\\xBE0wR\\xC0E\\x12\\xBD\\x8CbiD@          │\n",
       "│ 9/12/2014 23:24 │  40.72188 │ -73.99732 │ \\x01\\x01\\x00\\x00\\x00d\\xE9C\\x17\\xD4\\x7FR\\xC0x\\xD1W\\x90f\\x5CD@       │\n",
       "│       ·         │      ·    │     ·     │                              ·                                     │\n",
       "│       ·         │      ·    │     ·     │                              ·                                     │\n",
       "│       ·         │      ·    │     ·     │                              ·                                     │\n",
       "│ 8/10/2014 0:52  │  40.72694 │ -74.00027 │ \\x01\\x01\\x00\\x00\\x00\\xE0Jvl\\x04\\x80R\\xC0\\xBE\\x13\\xB3^\\x0C]D@       │\n",
       "│ 8/13/2014 20:15 │  40.75114 │ -73.98075 │ \\x01\\x01\\x00\\x00\\x00T\\xE3\\xA5\\x9B\\xC4~R\\xC0\\xD5[\\x03[%`D@          │\n",
       "│ 8/10/2014 3:59  │  40.78049 │ -73.98396 │ \\x01\\x01\\x00\\x00\\x00\\x9E$]3\\xF9~R\\xC0rm\\xA8\\x18\\xE7cD@             │\n",
       "│ 8/10/2014 2:41  │  40.75311 │ -73.99246 │ \\x01\\x01\\x00\\x00\\x00\\xA4\\xA5\\xF2v\\x84\\x7FR\\xC01%\\x92\\xE8e`D@       │\n",
       "│ 8/15/2014 22:46 │  40.77462 │ -73.91205 │ \\x01\\x01\\x00\\x00\\x00F\\x94\\xF6\\x06_zR\\xC0\\xECi\\x87\\xBF&cD@          │\n",
       "│ 8/15/2014 21:32 │  40.75696 │ -73.99726 │ \\x01\\x01\\x00\\x00\\x00\\xF9f\\x9B\\x1B\\xD3\\x7FR\\xC0\\xA90\\xB6\\x10\\xE4`D@ │\n",
       "│ 9/19/2014 23:41 │  40.72713 │ -73.99975 │ \\x01\\x01\\x00\\x00\\x00D\\x8Bl\\xE7\\xFB\\x7FR\\xC0b\\xF8\\x88\\x98\\x12]D@    │\n",
       "│ 8/15/2014 5:26  │  40.74647 │ -73.98418 │ \\x01\\x01\\x00\\x00\\x00%X\\x1C\\xCE\\xFC~R\\xC0\\xFA\\xB86T\\x8C_D@          │\n",
       "│ 9/3/2014 2:10   │  40.77661 │ -73.87399 │ \\x01\\x01\\x00\\x00\\x00\\xFD\\xC1\\xC0s\\xEFwR\\xC0\\x8F\\xDF\\xDB\\xF4gcD@    │\n",
       "│ 8/29/2014 6:10  │  40.74324 │ -73.98769 │ \\x01\\x01\\x00\\x00\\x00\\x85%\\x1EP6\\x7FR\\xC0\\x1E\\x8A\\x02}\\x22_D@       │\n",
       "├─────────────────┴───────────┴───────────┴────────────────────────────────────────────────────────────────────┤\n",
       "│ ? rows (>9999 rows, 20 shown)                                                                      4 columns │\n",
       "└──────────────────────────────────────────────────────────────────────────────────────────────────────────────┘"
      ]
     },
     "execution_count": 14,
     "metadata": {},
     "output_type": "execute_result"
    }
   ],
   "source": [
    "parquet"
   ]
  },
  {
   "cell_type": "code",
   "execution_count": 26,
   "metadata": {},
   "outputs": [],
   "source": [
    "ddb.sql(\"DROP TABLE IF EXISTS nyc_geoparquet\")"
   ]
  },
  {
   "cell_type": "code",
   "execution_count": 27,
   "metadata": {},
   "outputs": [],
   "source": [
    "ddb.sql(f\"CREATE TABLE nyc_geoparquet AS SELECT * EXCLUDE geometry, ST_GEOMFROMWKB(geometry) AS geometry FROM 'parquet'\")\n",
    "# CREATE TABLE attapeu AS SELECT * EXCLUDE geometry, ST_GEOMFROMWKB(geometry) AS geometry FROM \n",
    "#'s3://us-west-2.opendata.source.coop/google-research-open-buildings/geoparquet-admin1/country=LAO/Attapeu.parquet';"
   ]
  },
  {
   "cell_type": "code",
   "execution_count": 36,
   "metadata": {},
   "outputs": [
    {
     "data": {
      "text/plain": [
       "┌─────────────────┬───────────┬───────────┬────────────────────────────┐\n",
       "│  time_of_trip   │ start_lat │ start_lng │          geometry          │\n",
       "│     varchar     │  double   │  double   │          geometry          │\n",
       "├─────────────────┼───────────┼───────────┼────────────────────────────┤\n",
       "│ 9/4/2014 9:51   │  40.64705 │ -73.77988 │ POINT (-73.77988 40.64705) │\n",
       "│ 8/27/2014 21:13 │  40.74916 │ -73.98373 │ POINT (-73.98373 40.74916) │\n",
       "│ 9/4/2014 14:16  │  40.64065 │ -73.97594 │ POINT (-73.97594 40.64065) │\n",
       "│ 9/4/2014 16:08  │  40.75002 │ -73.99514 │ POINT (-73.99514 40.75002) │\n",
       "│ 8/28/2014 2:41  │  40.76715 │ -73.98636 │ POINT (-73.98636 40.76715) │\n",
       "│ 9/13/2014 3:57  │  40.70707 │ -74.01211 │ POINT (-74.01211 40.70707) │\n",
       "│ 9/11/2014 23:13 │  40.72953 │ -73.97799 │ POINT (-73.97799 40.72953) │\n",
       "│ 8/27/2014 22:56 │  40.76689 │ -73.95631 │ POINT (-73.95631 40.76689) │\n",
       "│ 9/10/2014 17:48 │  40.82332 │ -73.86235 │ POINT (-73.86235 40.82332) │\n",
       "│ 9/12/2014 23:24 │  40.72188 │ -73.99732 │ POINT (-73.99732 40.72188) │\n",
       "│       ·         │      ·    │     ·     │             ·              │\n",
       "│       ·         │      ·    │     ·     │             ·              │\n",
       "│       ·         │      ·    │     ·     │             ·              │\n",
       "│ 8/10/2014 0:52  │  40.72694 │ -74.00027 │ POINT (-74.00027 40.72694) │\n",
       "│ 8/13/2014 20:15 │  40.75114 │ -73.98075 │ POINT (-73.98075 40.75114) │\n",
       "│ 8/10/2014 3:59  │  40.78049 │ -73.98396 │ POINT (-73.98396 40.78049) │\n",
       "│ 8/10/2014 2:41  │  40.75311 │ -73.99246 │ POINT (-73.99246 40.75311) │\n",
       "│ 8/15/2014 22:46 │  40.77462 │ -73.91205 │ POINT (-73.91205 40.77462) │\n",
       "│ 8/15/2014 21:32 │  40.75696 │ -73.99726 │ POINT (-73.99726 40.75696) │\n",
       "│ 9/19/2014 23:41 │  40.72713 │ -73.99975 │ POINT (-73.99975 40.72713) │\n",
       "│ 8/15/2014 5:26  │  40.74647 │ -73.98418 │ POINT (-73.98418 40.74647) │\n",
       "│ 9/3/2014 2:10   │  40.77661 │ -73.87399 │ POINT (-73.87399 40.77661) │\n",
       "│ 8/29/2014 6:10  │  40.74324 │ -73.98769 │ POINT (-73.98769 40.74324) │\n",
       "├─────────────────┴───────────┴───────────┴────────────────────────────┤\n",
       "│ ? rows (>9999 rows, 20 shown)                              4 columns │\n",
       "└──────────────────────────────────────────────────────────────────────┘"
      ]
     },
     "execution_count": 36,
     "metadata": {},
     "output_type": "execute_result"
    }
   ],
   "source": [
    "ddb.sql('SELECT * FROM nyc_geoparquet WHERE ST_Y(geometry) > 40')"
   ]
  },
  {
   "cell_type": "code",
   "execution_count": 77,
   "metadata": {},
   "outputs": [],
   "source": [
    "# Get the max latitude, min latitude, max longitude, and min longitude\n",
    "max_lat = ddb.sql('SELECT MAX(ST_Y(geometry)) FROM nyc_geoparquet').df()\n",
    "min_lat = ddb.sql('SELECT MIN(ST_Y(geometry)) FROM nyc_geoparquet').df()\n",
    "max_lon = ddb.sql('SELECT MAX(ST_X(geometry)) FROM nyc_geoparquet').df()\n",
    "min_lon = ddb.sql('SELECT MIN(ST_X(geometry)) FROM nyc_geoparquet').df()\n"
   ]
  },
  {
   "cell_type": "code",
   "execution_count": 78,
   "metadata": {},
   "outputs": [
    {
     "data": {
      "text/html": [
       "<div>\n",
       "<style scoped>\n",
       "    .dataframe tbody tr th:only-of-type {\n",
       "        vertical-align: middle;\n",
       "    }\n",
       "\n",
       "    .dataframe tbody tr th {\n",
       "        vertical-align: top;\n",
       "    }\n",
       "\n",
       "    .dataframe thead th {\n",
       "        text-align: right;\n",
       "    }\n",
       "</style>\n",
       "<table border=\"1\" class=\"dataframe\">\n",
       "  <thead>\n",
       "    <tr style=\"text-align: right;\">\n",
       "      <th></th>\n",
       "      <th>min(st_y(geometry))</th>\n",
       "    </tr>\n",
       "  </thead>\n",
       "  <tbody>\n",
       "    <tr>\n",
       "      <th>0</th>\n",
       "      <td>40.52785</td>\n",
       "    </tr>\n",
       "  </tbody>\n",
       "</table>\n",
       "</div>"
      ],
      "text/plain": [
       "   min(st_y(geometry))\n",
       "0             40.52785"
      ]
     },
     "execution_count": 78,
     "metadata": {},
     "output_type": "execute_result"
    }
   ],
   "source": [
    "min_lat"
   ]
  },
  {
   "cell_type": "code",
   "execution_count": 79,
   "metadata": {},
   "outputs": [
    {
     "data": {
      "text/html": [
       "<div>\n",
       "<style scoped>\n",
       "    .dataframe tbody tr th:only-of-type {\n",
       "        vertical-align: middle;\n",
       "    }\n",
       "\n",
       "    .dataframe tbody tr th {\n",
       "        vertical-align: top;\n",
       "    }\n",
       "\n",
       "    .dataframe thead th {\n",
       "        text-align: right;\n",
       "    }\n",
       "</style>\n",
       "<table border=\"1\" class=\"dataframe\">\n",
       "  <thead>\n",
       "    <tr style=\"text-align: right;\">\n",
       "      <th></th>\n",
       "      <th>min(st_y(geometry))</th>\n",
       "    </tr>\n",
       "  </thead>\n",
       "  <tbody>\n",
       "    <tr>\n",
       "      <th>0</th>\n",
       "      <td>40.62785</td>\n",
       "    </tr>\n",
       "  </tbody>\n",
       "</table>\n",
       "</div>"
      ],
      "text/plain": [
       "   min(st_y(geometry))\n",
       "0             40.62785"
      ]
     },
     "execution_count": 79,
     "metadata": {},
     "output_type": "execute_result"
    }
   ],
   "source": [
    "# Add 0.1 to the min latitude\n",
    "min_lat = min_lat + 0.1\n",
    "min_lat"
   ]
  },
  {
   "cell_type": "code",
   "execution_count": 75,
   "metadata": {},
   "outputs": [
    {
     "data": {
      "text/html": [
       "<div>\n",
       "<style scoped>\n",
       "    .dataframe tbody tr th:only-of-type {\n",
       "        vertical-align: middle;\n",
       "    }\n",
       "\n",
       "    .dataframe tbody tr th {\n",
       "        vertical-align: top;\n",
       "    }\n",
       "\n",
       "    .dataframe thead th {\n",
       "        text-align: right;\n",
       "    }\n",
       "</style>\n",
       "<table border=\"1\" class=\"dataframe\">\n",
       "  <thead>\n",
       "    <tr style=\"text-align: right;\">\n",
       "      <th></th>\n",
       "      <th>max(st_y(geometry))</th>\n",
       "    </tr>\n",
       "  </thead>\n",
       "  <tbody>\n",
       "    <tr>\n",
       "      <th>0</th>\n",
       "      <td>40.93562</td>\n",
       "    </tr>\n",
       "  </tbody>\n",
       "</table>\n",
       "</div>"
      ],
      "text/plain": [
       "   max(st_y(geometry))\n",
       "0             40.93562"
      ]
     },
     "execution_count": 75,
     "metadata": {},
     "output_type": "execute_result"
    }
   ],
   "source": [
    "max_lat"
   ]
  },
  {
   "cell_type": "code",
   "execution_count": 80,
   "metadata": {},
   "outputs": [
    {
     "data": {
      "text/html": [
       "<div>\n",
       "<style scoped>\n",
       "    .dataframe tbody tr th:only-of-type {\n",
       "        vertical-align: middle;\n",
       "    }\n",
       "\n",
       "    .dataframe tbody tr th {\n",
       "        vertical-align: top;\n",
       "    }\n",
       "\n",
       "    .dataframe thead th {\n",
       "        text-align: right;\n",
       "    }\n",
       "</style>\n",
       "<table border=\"1\" class=\"dataframe\">\n",
       "  <thead>\n",
       "    <tr style=\"text-align: right;\">\n",
       "      <th></th>\n",
       "      <th>max(st_y(geometry))</th>\n",
       "    </tr>\n",
       "  </thead>\n",
       "  <tbody>\n",
       "    <tr>\n",
       "      <th>0</th>\n",
       "      <td>40.83562</td>\n",
       "    </tr>\n",
       "  </tbody>\n",
       "</table>\n",
       "</div>"
      ],
      "text/plain": [
       "   max(st_y(geometry))\n",
       "0             40.83562"
      ]
     },
     "execution_count": 80,
     "metadata": {},
     "output_type": "execute_result"
    }
   ],
   "source": [
    "# Subtract 0.1 from the max latitude\n",
    "max_lat = max_lat - 0.1\n",
    "max_lat"
   ]
  },
  {
   "cell_type": "code",
   "execution_count": 91,
   "metadata": {},
   "outputs": [],
   "source": [
    "\n",
    "# Use ST_GeomFromText to create a bounding box polygon\n",
    "#bbox = ddb.sql(f\"SELECT ST_GeomFromText('POLYGON(({min_lon.iloc[0,0]} {min_lat.iloc[0,0]}, {min_lon.iloc[0,0]} {max_lat.iloc[0,0]}, {max_lon.iloc[0,0]} {max_lat.iloc[0,0]}, {max_lon.iloc[0,0]} {min_lat.iloc[0,0]}, {min_lon.iloc[0,0]} {min_lat.iloc[0,0]})))')\")\n",
    "bbox = ddb.sql(f\"SELECT ST_GeomFromText('POLYGON(({min_lon.iloc[0,0]} {min_lat.iloc[0,0]}, {min_lon.iloc[0,0]} {max_lat.iloc[0,0]}, {max_lon.iloc[0,0]} {max_lat.iloc[0,0]}, {max_lon.iloc[0,0]} {min_lat.iloc[0,0]}, {min_lon.iloc[0,0]} {min_lat.iloc[0,0]})))') AS geometry\")"
   ]
  },
  {
   "cell_type": "code",
   "execution_count": 97,
   "metadata": {},
   "outputs": [
    {
     "data": {
      "text/plain": [
       "┌────────────────────────────────────────────────────────────────────────────────────────────────────────────────┐\n",
       "│                                                    geometry                                                    │\n",
       "│                                                    geometry                                                    │\n",
       "├────────────────────────────────────────────────────────────────────────────────────────────────────────────────┤\n",
       "│ POLYGON ((-74.22689 40.62785, -74.22689 40.83562, -73.72315 40.83562, -73.72315 40.62785, -74.22689 40.62785)) │\n",
       "└────────────────────────────────────────────────────────────────────────────────────────────────────────────────┘"
      ]
     },
     "execution_count": 97,
     "metadata": {},
     "output_type": "execute_result"
    }
   ],
   "source": [
    "# Create table AOI and add bbox\n",
    "ddb.sql('DROP TABLE IF EXISTS AOI')\n",
    "\n",
    "ddb.sql('CREATE TABLE AOI AS SELECT * FROM bbox')\n",
    "ddb.table('AOI')\n",
    "\n",
    "\n",
    "\n"
   ]
  },
  {
   "cell_type": "code",
   "execution_count": 99,
   "metadata": {},
   "outputs": [
    {
     "data": {
      "text/html": [
       "<div>\n",
       "<style scoped>\n",
       "    .dataframe tbody tr th:only-of-type {\n",
       "        vertical-align: middle;\n",
       "    }\n",
       "\n",
       "    .dataframe tbody tr th {\n",
       "        vertical-align: top;\n",
       "    }\n",
       "\n",
       "    .dataframe thead th {\n",
       "        text-align: right;\n",
       "    }\n",
       "</style>\n",
       "<table border=\"1\" class=\"dataframe\">\n",
       "  <thead>\n",
       "    <tr style=\"text-align: right;\">\n",
       "      <th></th>\n",
       "      <th>time_of_trip</th>\n",
       "      <th>start_lat</th>\n",
       "      <th>start_lng</th>\n",
       "      <th>geometry</th>\n",
       "    </tr>\n",
       "  </thead>\n",
       "  <tbody>\n",
       "    <tr>\n",
       "      <th>0</th>\n",
       "      <td>9/4/2014 9:51</td>\n",
       "      <td>40.64705</td>\n",
       "      <td>-73.77988</td>\n",
       "      <td>[0, 0, 24, 0, 0, 0, 0, 0, 0, 0, 0, 0, 1, 0, 0,...</td>\n",
       "    </tr>\n",
       "    <tr>\n",
       "      <th>1</th>\n",
       "      <td>8/27/2014 21:13</td>\n",
       "      <td>40.74916</td>\n",
       "      <td>-73.98373</td>\n",
       "      <td>[0, 0, 24, 0, 58, 52, 51, 56, 0, 0, 0, 0, 1, 0...</td>\n",
       "    </tr>\n",
       "    <tr>\n",
       "      <th>2</th>\n",
       "      <td>9/4/2014 14:16</td>\n",
       "      <td>40.64065</td>\n",
       "      <td>-73.97594</td>\n",
       "      <td>[0, 0, 24, 0, 47, 49, 50, 47, 0, 0, 0, 0, 1, 0...</td>\n",
       "    </tr>\n",
       "    <tr>\n",
       "      <th>3</th>\n",
       "      <td>9/4/2014 16:08</td>\n",
       "      <td>40.75002</td>\n",
       "      <td>-73.99514</td>\n",
       "      <td>[0, 0, 24, 0, 56, 47, 50, 48, 0, 0, 0, 0, 1, 0...</td>\n",
       "    </tr>\n",
       "    <tr>\n",
       "      <th>4</th>\n",
       "      <td>8/28/2014 2:41</td>\n",
       "      <td>40.76715</td>\n",
       "      <td>-73.98636</td>\n",
       "      <td>[0, 0, 24, 0, 48, 49, 52, 32, 0, 0, 0, 0, 1, 0...</td>\n",
       "    </tr>\n",
       "    <tr>\n",
       "      <th>...</th>\n",
       "      <td>...</td>\n",
       "      <td>...</td>\n",
       "      <td>...</td>\n",
       "      <td>...</td>\n",
       "    </tr>\n",
       "    <tr>\n",
       "      <th>258107</th>\n",
       "      <td>9/7/2014 3:19</td>\n",
       "      <td>40.71931</td>\n",
       "      <td>-73.99138</td>\n",
       "      <td>[0, 0, 24, 0, 116, 147, 24, 126, 0, 0, 0, 0, 1...</td>\n",
       "    </tr>\n",
       "    <tr>\n",
       "      <th>258108</th>\n",
       "      <td>9/7/2014 2:59</td>\n",
       "      <td>40.73868</td>\n",
       "      <td>-73.98862</td>\n",
       "      <td>[0, 0, 24, 0, 94, 68, 64, 1, 0, 0, 0, 0, 1, 0,...</td>\n",
       "    </tr>\n",
       "    <tr>\n",
       "      <th>258109</th>\n",
       "      <td>9/7/2014 1:55</td>\n",
       "      <td>40.71554</td>\n",
       "      <td>-73.94877</td>\n",
       "      <td>[0, 0, 24, 0, 72, 162, 127, 82, 0, 0, 0, 0, 1,...</td>\n",
       "    </tr>\n",
       "    <tr>\n",
       "      <th>258110</th>\n",
       "      <td>9/5/2014 23:26</td>\n",
       "      <td>40.74667</td>\n",
       "      <td>-73.97445</td>\n",
       "      <td>[0, 0, 24, 0, 68, 64, 1, 1, 0, 0, 0, 0, 1, 0, ...</td>\n",
       "    </tr>\n",
       "    <tr>\n",
       "      <th>258111</th>\n",
       "      <td>9/6/2014 22:19</td>\n",
       "      <td>40.74393</td>\n",
       "      <td>-73.78011</td>\n",
       "      <td>[0, 0, 24, 0, 1, 124, 82, 192, 0, 0, 0, 0, 1, ...</td>\n",
       "    </tr>\n",
       "  </tbody>\n",
       "</table>\n",
       "<p>258112 rows × 4 columns</p>\n",
       "</div>"
      ],
      "text/plain": [
       "           time_of_trip  start_lat  start_lng  \\\n",
       "0         9/4/2014 9:51   40.64705  -73.77988   \n",
       "1       8/27/2014 21:13   40.74916  -73.98373   \n",
       "2        9/4/2014 14:16   40.64065  -73.97594   \n",
       "3        9/4/2014 16:08   40.75002  -73.99514   \n",
       "4        8/28/2014 2:41   40.76715  -73.98636   \n",
       "...                 ...        ...        ...   \n",
       "258107    9/7/2014 3:19   40.71931  -73.99138   \n",
       "258108    9/7/2014 2:59   40.73868  -73.98862   \n",
       "258109    9/7/2014 1:55   40.71554  -73.94877   \n",
       "258110   9/5/2014 23:26   40.74667  -73.97445   \n",
       "258111   9/6/2014 22:19   40.74393  -73.78011   \n",
       "\n",
       "                                                 geometry  \n",
       "0       [0, 0, 24, 0, 0, 0, 0, 0, 0, 0, 0, 0, 1, 0, 0,...  \n",
       "1       [0, 0, 24, 0, 58, 52, 51, 56, 0, 0, 0, 0, 1, 0...  \n",
       "2       [0, 0, 24, 0, 47, 49, 50, 47, 0, 0, 0, 0, 1, 0...  \n",
       "3       [0, 0, 24, 0, 56, 47, 50, 48, 0, 0, 0, 0, 1, 0...  \n",
       "4       [0, 0, 24, 0, 48, 49, 52, 32, 0, 0, 0, 0, 1, 0...  \n",
       "...                                                   ...  \n",
       "258107  [0, 0, 24, 0, 116, 147, 24, 126, 0, 0, 0, 0, 1...  \n",
       "258108  [0, 0, 24, 0, 94, 68, 64, 1, 0, 0, 0, 0, 1, 0,...  \n",
       "258109  [0, 0, 24, 0, 72, 162, 127, 82, 0, 0, 0, 0, 1,...  \n",
       "258110  [0, 0, 24, 0, 68, 64, 1, 1, 0, 0, 0, 0, 1, 0, ...  \n",
       "258111  [0, 0, 24, 0, 1, 124, 82, 192, 0, 0, 0, 0, 1, ...  \n",
       "\n",
       "[258112 rows x 4 columns]"
      ]
     },
     "execution_count": 99,
     "metadata": {},
     "output_type": "execute_result"
    }
   ],
   "source": [
    "# Select all points that are within the bounding box\n",
    "ddb.sql('SELECT * FROM nyc_geoparquet WHERE ST_Contains((SELECT geometry FROM AOI), geometry)').df()"
   ]
  },
  {
   "cell_type": "code",
   "execution_count": null,
   "metadata": {},
   "outputs": [],
   "source": []
  }
 ],
 "metadata": {
  "kernelspec": {
   "display_name": "duckdb",
   "language": "python",
   "name": "python3"
  },
  "language_info": {
   "codemirror_mode": {
    "name": "ipython",
    "version": 3
   },
   "file_extension": ".py",
   "mimetype": "text/x-python",
   "name": "python",
   "nbconvert_exporter": "python",
   "pygments_lexer": "ipython3",
   "version": "3.10.12"
  },
  "orig_nbformat": 4
 },
 "nbformat": 4,
 "nbformat_minor": 2
}
