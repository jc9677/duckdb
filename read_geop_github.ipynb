{
 "cells": [
  {
   "cell_type": "code",
   "execution_count": 1,
   "metadata": {},
   "outputs": [],
   "source": [
    "import duckdb"
   ]
  },
  {
   "cell_type": "code",
   "execution_count": 2,
   "metadata": {},
   "outputs": [],
   "source": [
    "duckdb.install_extension('spatial')\n",
    "duckdb.install_extension('httpfs')"
   ]
  },
  {
   "cell_type": "code",
   "execution_count": 7,
   "metadata": {},
   "outputs": [],
   "source": [
    "duckdb.load_extension('spatial')\n",
    "duckdb.load_extension('httpfs')"
   ]
  },
  {
   "cell_type": "code",
   "execution_count": 9,
   "metadata": {},
   "outputs": [
    {
     "data": {
      "text/plain": [
       "┌──────────────────────────────────────────────────────────────────────────────────────────────────────────────────────┐\n",
       "│                                                        buffer                                                        │\n",
       "│                                                       geometry                                                       │\n",
       "├──────────────────────────────────────────────────────────────────────────────────────────────────────────────────────┤\n",
       "│ POLYGON ((105.13098596953034 52.08975894165677, 103.2095140098534 32.58072674004394, 97.51893922065902 13.82141570…  │\n",
       "│ POLYGON ((105.1400864426073 52.09465637512603, 103.21861448293035 32.5856241735132, 97.52803969373598 13.826313138…  │\n",
       "│ POLYGON ((105.13237889801621 52.09068403548702, 103.21090693833926 32.5816518338742, 97.52033214914489 13.82234079…  │\n",
       "│ POLYGON ((105.14165718270897 52.092077130964626, 103.22018522303202 32.5830449293518, 97.52961043383765 13.8237338…  │\n",
       "│ POLYGON ((105.12305945158005 52.09052253785604, 103.2015874919031 32.58149033624321, 97.51101270270873 13.82217930…  │\n",
       "│ POLYGON ((105.13367471647462 52.09154151470287, 103.21220275679767 32.58250931309004, 97.5216279676033 13.82319827…  │\n",
       "│ POLYGON ((105.13270082721897 52.0909045231646, 103.21122886754202 32.58187232155178, 97.52065407834765 13.82256128…  │\n",
       "│ POLYGON ((105.13591579887304 52.09306110654719, 103.2144438391961 32.584028904934364, 97.52386905000172 13.8247178…  │\n",
       "│ POLYGON ((105.13978101313114 52.087342213166465, 103.21830905345419 32.57831001155364, 97.52773426425982 13.818998…  │\n",
       "│ POLYGON ((105.12240357821452 52.093276254501134, 103.20093161853757 32.58424405288831, 97.5103568293432 13.8249330…  │\n",
       "│  ·                                                                                                                   │\n",
       "│  ·                                                                                                                   │\n",
       "│  ·                                                                                                                   │\n",
       "│ NULL                                                                                                                 │\n",
       "│ NULL                                                                                                                 │\n",
       "│ NULL                                                                                                                 │\n",
       "│ NULL                                                                                                                 │\n",
       "│ NULL                                                                                                                 │\n",
       "│ NULL                                                                                                                 │\n",
       "│ POLYGON ((105.11415918836065 52.09264840083788, 103.1926872286837 32.583616199225055, 97.50211243948932 13.8243051…  │\n",
       "│ POLYGON ((105.12289047241211 52.08923708606851, 103.20141851273516 32.58020488445568, 97.51084372354079 13.8208938…  │\n",
       "│ POLYGON ((105.12283383170143 52.089266617176776, 103.20136187202448 32.58023441556395, 97.5107870828301 13.8209233…  │\n",
       "│ NULL                                                                                                                 │\n",
       "├──────────────────────────────────────────────────────────────────────────────────────────────────────────────────────┤\n",
       "│                                                 420 rows (20 shown)                                                  │\n",
       "└──────────────────────────────────────────────────────────────────────────────────────────────────────────────────────┘"
      ]
     },
     "execution_count": 9,
     "metadata": {},
     "output_type": "execute_result"
    }
   ],
   "source": [
    "duckdb.sql(\"SELECT ST_Buffer(ST_geomfromwkb(geometry), 100) as buffer FROM 'https://github.com/bertt/geoparquet/raw/main/geoparquet.tests/testfixtures/utrecht_kunstwerken_wkb.parquet'\")"
   ]
  },
  {
   "cell_type": "code",
   "execution_count": 12,
   "metadata": {},
   "outputs": [
    {
     "ename": "CatalogException",
     "evalue": "Catalog Error: Table with name \"AIS\" already exists!",
     "output_type": "error",
     "traceback": [
      "\u001b[0;31m---------------------------------------------------------------------------\u001b[0m",
      "\u001b[0;31mCatalogException\u001b[0m                          Traceback (most recent call last)",
      "Cell \u001b[0;32mIn[12], line 3\u001b[0m\n\u001b[1;32m      1\u001b[0m \u001b[39m# Read Zone19_2013_12.gdb using the OpenFileGDB driver\u001b[39;00m\n\u001b[1;32m      2\u001b[0m \u001b[39m# ST_Read(VARCHAR, sequential_layer_scan : BOOLEAN, spatial_filter : WKB_BLOB, open_options : VARCHAR[], layer : VARCHAR, allowed_drivers : VARCHAR[], sibling_files : VARCHAR[], spatial_filter_box : BOX_2D\u001b[39;00m\n\u001b[0;32m----> 3\u001b[0m ais \u001b[39m=\u001b[39m duckdb\u001b[39m.\u001b[39;49msql(\u001b[39m\"\u001b[39;49m\u001b[39mCREATE TABLE AIS AS SELECT * FROM ST_Read(\u001b[39;49m\u001b[39m'\u001b[39;49m\u001b[39mZone19_2013_12.gdb\u001b[39;49m\u001b[39m'\u001b[39;49m\u001b[39m)\u001b[39;49m\u001b[39m\"\u001b[39;49m)\n",
      "\u001b[0;31mCatalogException\u001b[0m: Catalog Error: Table with name \"AIS\" already exists!"
     ]
    }
   ],
   "source": [
    "# Read Zone19_2013_12.gdb using the OpenFileGDB driver\n",
    "# ST_Read(VARCHAR, sequential_layer_scan : BOOLEAN, spatial_filter : WKB_BLOB, open_options : VARCHAR[], layer : VARCHAR, allowed_drivers : VARCHAR[], sibling_files : VARCHAR[], spatial_filter_box : BOX_2D\n",
    "duckdb.sql(\"CREATE TABLE AIS AS SELECT * FROM ST_Read('Zone19_2013_12.gdb')\")\n"
   ]
  },
  {
   "cell_type": "code",
   "execution_count": 13,
   "metadata": {},
   "outputs": [
    {
     "data": {
      "text/plain": [
       "┌───────┬───────┬─────────┬───────┬───┬──────────┬───────────┬──────────────┬────────────┬──────────────────────┐\n",
       "│  SOG  │  COG  │ Heading │  ROT  │ … │ VoyageID │   MMSI    │ ReceiverType │ ReceiverID │        Shape         │\n",
       "│ float │ float │  float  │ float │   │  int32   │   int32   │   varchar    │  varchar   │       wkb_blob       │\n",
       "├───────┼───────┼─────────┼───────┼───┼──────────┼───────────┼──────────────┼────────────┼──────────────────────┤\n",
       "│   0.4 │ 180.0 │   210.0 │   0.0 │ … │        1 │ 367901377 │ r            │ 003669930  │ POINT (-70.9775 42…  │\n",
       "│   8.0 │ 108.4 │   102.0 │   0.0 │ … │        2 │ 366033886 │ r            │ 01RWAR1    │ POINT (-71.572608 …  │\n",
       "│   0.0 │ 225.4 │   511.0 │ 128.0 │ … │        3 │ 367097606 │ r            │ 07CSJU1    │ POINT (-66.090852 …  │\n",
       "│  12.9 │ 265.9 │   266.0 │   0.0 │ … │        4 │ 538035900 │ r            │ 003669930  │ POINT (-71.997133 …  │\n",
       "│  14.0 │ 267.0 │   265.0 │   0.0 │ … │        5 │ 371060038 │ D            │ 01MN       │ POINT (-71.880952 …  │\n",
       "│   0.0 │ 225.0 │   331.0 │   0.0 │ … │        6 │ 367325860 │ r            │ 01RWAR1    │ POINT (-71.400203 …  │\n",
       "│   0.0 │  92.0 │   277.0 │   0.0 │ … │        7 │ 367733798 │ D            │ 01MN       │ POINT (-71.049725 …  │\n",
       "│  10.6 │ 135.0 │   134.0 │   0.0 │ … │        8 │ 366195703 │ r            │ 01RORL1    │ POINT (-70.092933 …  │\n",
       "│   0.0 │  21.9 │   511.0 │ 128.0 │ … │        9 │ 367030900 │ r            │ 01RWAR1    │ POINT (-70.621453 …  │\n",
       "│   0.0 │  66.6 │    88.0 │   0.0 │ … │       10 │ 366893209 │ r            │ 07CSJU1    │ POINT (-66.09105 1…  │\n",
       "├───────┴───────┴─────────┴───────┴───┴──────────┴───────────┴──────────────┴────────────┴──────────────────────┤\n",
       "│ 10 rows                                                                                  11 columns (9 shown) │\n",
       "└───────────────────────────────────────────────────────────────────────────────────────────────────────────────┘"
      ]
     },
     "execution_count": 13,
     "metadata": {},
     "output_type": "execute_result"
    }
   ],
   "source": [
    "duckdb.sql(\"SELECT * FROM AIS LIMIT 10\")"
   ]
  },
  {
   "cell_type": "code",
   "execution_count": 16,
   "metadata": {},
   "outputs": [],
   "source": [
    "# Save the gdb as a parquet file\n",
    "duckdb.sql(\"CREATE TABLE AIS_parquet AS SELECT * FROM AIS\")\n",
    "\n",
    "# Reference COPY <table> TO 'some/file/path/filename.geojson' WITH (FORMAT GDAL, DRIVER 'GeoJSON', LAYER_CREATION_OPTIONS 'WRITE_BBOX=YES');\n",
    "duckdb.sql(\"COPY AIS_parquet TO 'AIS_parquet.parquet' WITH (FORMAT PARQUET)\")"
   ]
  },
  {
   "cell_type": "code",
   "execution_count": 17,
   "metadata": {},
   "outputs": [],
   "source": [
    "ais_from_parquet = duckdb.read_parquet('AIS_parquet.parquet')"
   ]
  },
  {
   "cell_type": "code",
   "execution_count": 18,
   "metadata": {},
   "outputs": [
    {
     "data": {
      "text/plain": [
       "4206986"
      ]
     },
     "execution_count": 18,
     "metadata": {},
     "output_type": "execute_result"
    }
   ],
   "source": [
    "len(ais_from_parquet)"
   ]
  },
  {
   "cell_type": "code",
   "execution_count": null,
   "metadata": {},
   "outputs": [],
   "source": [
    "hgfjhg"
   ]
  }
 ],
 "metadata": {
  "kernelspec": {
   "display_name": "duckdb",
   "language": "python",
   "name": "python3"
  },
  "language_info": {
   "codemirror_mode": {
    "name": "ipython",
    "version": 3
   },
   "file_extension": ".py",
   "mimetype": "text/x-python",
   "name": "python",
   "nbconvert_exporter": "python",
   "pygments_lexer": "ipython3",
   "version": "3.10.12"
  },
  "orig_nbformat": 4
 },
 "nbformat": 4,
 "nbformat_minor": 2
}
